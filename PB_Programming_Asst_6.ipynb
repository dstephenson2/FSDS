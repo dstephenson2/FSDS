{
 "cells": [
  {
   "cell_type": "markdown",
   "id": "6ee70c91",
   "metadata": {},
   "source": [
    "### PB Programming Assignment 6"
   ]
  },
  {
   "cell_type": "markdown",
   "id": "54cc7f5c",
   "metadata": {},
   "source": [
    "##### 1.\tWrite a Python Program to Display Fibonacci Sequence Using Recursion?"
   ]
  },
  {
   "cell_type": "code",
   "execution_count": 1,
   "id": "e6810171",
   "metadata": {},
   "outputs": [
    {
     "name": "stdout",
     "output_type": "stream",
     "text": [
      "enter any number: 5\n",
      "0\n",
      "1\n",
      "1\n",
      "2\n",
      "3\n"
     ]
    }
   ],
   "source": [
    "def fibonacci(n):\n",
    "    if n == 0:\n",
    "        return ('Invalid Number')\n",
    "    elif n == 1:\n",
    "        return 0\n",
    "    elif n == 2:\n",
    "        return 1\n",
    "    else:\n",
    "        return (fibonacci(n-1)+fibonacci(n-2))\n",
    "# n = 10 # int(input(\"Enter value of n for nth fibonacci series: \"))\n",
    "a = int(input('enter any number: '))\n",
    "for i in range(a):\n",
    "    print(fibonacci(i+1))"
   ]
  },
  {
   "cell_type": "markdown",
   "id": "4aa936a5",
   "metadata": {},
   "source": [
    "##### 2.\tWrite a Python Program to Find Factorial of Number Using Recursion?"
   ]
  },
  {
   "cell_type": "code",
   "execution_count": 2,
   "id": "e8f6b18c",
   "metadata": {},
   "outputs": [
    {
     "name": "stdout",
     "output_type": "stream",
     "text": [
      "enter any number to find its factorial: 5\n",
      "120\n"
     ]
    }
   ],
   "source": [
    "def fact(n):\n",
    "    if n == 1 or 0:\n",
    "        return 1\n",
    "    else:\n",
    "        return (n*fact(n-1))\n",
    "\n",
    "a = int(input('enter any number to find its factorial: '))\n",
    "print(fact(a))"
   ]
  },
  {
   "cell_type": "markdown",
   "id": "365d4a5a",
   "metadata": {},
   "source": [
    "##### 3.\tWrite a Python Program to calculate your Body Mass Index?"
   ]
  },
  {
   "cell_type": "code",
   "execution_count": 3,
   "id": "cc238bae",
   "metadata": {},
   "outputs": [
    {
     "name": "stdout",
     "output_type": "stream",
     "text": [
      "Input your height in meters: 5.8\n",
      "Input your weight in kilogram: 72\n",
      "Your body mass index is:  2.14\n"
     ]
    }
   ],
   "source": [
    "height = float(input(\"Input your height in meters: \"))\n",
    "weight = float(input(\"Input your weight in kilogram: \"))\n",
    "print(\"Your body mass index is: \", round(weight / (height * height), 2))"
   ]
  },
  {
   "cell_type": "markdown",
   "id": "38aa5da5",
   "metadata": {},
   "source": [
    "##### 4.\tWrite a Python Program to calculate the natural logarithm of any number?"
   ]
  },
  {
   "cell_type": "code",
   "execution_count": 4,
   "id": "ec97226d",
   "metadata": {},
   "outputs": [
    {
     "name": "stdout",
     "output_type": "stream",
     "text": [
      "Enter a number to find the natural logarithm: 100\n",
      "The natural logarithm of 100.0 is:  4.605170185988092\n"
     ]
    }
   ],
   "source": [
    "import math\n",
    "a = float(input('Enter a number to find the natural logarithm: '))\n",
    "print (\"The natural logarithm of \" + str(a) + \" is: \", math.log(a))"
   ]
  },
  {
   "cell_type": "markdown",
   "id": "d58a8600",
   "metadata": {},
   "source": [
    "##### 5.\tWrite a Python Program for cube sum of first n natural numbers?"
   ]
  },
  {
   "cell_type": "code",
   "execution_count": 5,
   "id": "6d1f80f7",
   "metadata": {},
   "outputs": [
    {
     "name": "stdout",
     "output_type": "stream",
     "text": [
      "enter any number to find cube sum of first n natural numbers: 3\n",
      "36\n"
     ]
    }
   ],
   "source": [
    "def cube_sum(n):\n",
    "    return (sum(pow(i,3) for i in range(n+1)))\n",
    "\n",
    "a = int(input('enter any number to find cube sum of first n natural numbers: '))\n",
    "print(cube_sum(a))"
   ]
  }
 ],
 "metadata": {
  "kernelspec": {
   "display_name": "Python 3",
   "language": "python",
   "name": "python3"
  },
  "language_info": {
   "codemirror_mode": {
    "name": "ipython",
    "version": 3
   },
   "file_extension": ".py",
   "mimetype": "text/x-python",
   "name": "python",
   "nbconvert_exporter": "python",
   "pygments_lexer": "ipython3",
   "version": "3.9.12"
  }
 },
 "nbformat": 4,
 "nbformat_minor": 5
}
