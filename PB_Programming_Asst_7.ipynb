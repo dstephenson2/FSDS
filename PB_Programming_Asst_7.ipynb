{
 "cells": [
  {
   "cell_type": "markdown",
   "id": "8f7fb89b",
   "metadata": {},
   "source": [
    "### PB Programming Assignment 7"
   ]
  },
  {
   "cell_type": "markdown",
   "id": "92b80baf",
   "metadata": {},
   "source": [
    "##### 1.\tWrite a Python Program to find sum of array?"
   ]
  },
  {
   "cell_type": "code",
   "execution_count": 1,
   "id": "b91f69c0",
   "metadata": {},
   "outputs": [
    {
     "name": "stdout",
     "output_type": "stream",
     "text": [
      "60\n"
     ]
    }
   ],
   "source": [
    "arr = [10,20,30]\n",
    "a = 0\n",
    "for i in arr:\n",
    "    a += i\n",
    "print(a)"
   ]
  },
  {
   "cell_type": "markdown",
   "id": "a5535c00",
   "metadata": {},
   "source": [
    "##### 2.\tWrite a Python Program to find largest element in an array?"
   ]
  },
  {
   "cell_type": "code",
   "execution_count": 2,
   "id": "5b2f41ac",
   "metadata": {},
   "outputs": [
    {
     "name": "stdout",
     "output_type": "stream",
     "text": [
      "30\n"
     ]
    }
   ],
   "source": [
    "print(max(arr))"
   ]
  },
  {
   "cell_type": "markdown",
   "id": "eb976e9e",
   "metadata": {},
   "source": [
    "##### 3.\tWrite a Python Program for array rotation?"
   ]
  },
  {
   "cell_type": "code",
   "execution_count": 3,
   "id": "10c4238f",
   "metadata": {},
   "outputs": [
    {
     "name": "stdout",
     "output_type": "stream",
     "text": [
      "[30, 20, 10]\n"
     ]
    }
   ],
   "source": [
    "arr_1 = []\n",
    "for i in range(len(arr)):\n",
    "    arr_1.append(arr[-1-i])\n",
    "print(arr_1)"
   ]
  },
  {
   "cell_type": "markdown",
   "id": "b40573ec",
   "metadata": {},
   "source": [
    "##### 4.\tWrite a Python Program to Split the array and add the first part to the end?"
   ]
  },
  {
   "cell_type": "code",
   "execution_count": 4,
   "id": "c8592584",
   "metadata": {},
   "outputs": [
    {
     "name": "stdout",
     "output_type": "stream",
     "text": [
      "[40, 50, 60, 10, 20, 30]\n"
     ]
    }
   ],
   "source": [
    "n = [10,20,30,40,50,60]\n",
    "d = int(len(n)/2)\n",
    "arr_1 = []\n",
    "for i in range(d):\n",
    "    arr_1.append(n[d+i])\n",
    "for i in range(d):\n",
    "    arr_1.append(arr[i])\n",
    "print(arr_1)"
   ]
  },
  {
   "cell_type": "markdown",
   "id": "3a21eee6",
   "metadata": {},
   "source": [
    "##### 5.\tWrite a Python Program to check if given array is Monotonic?"
   ]
  },
  {
   "cell_type": "code",
   "execution_count": 5,
   "id": "b5ed7b5f",
   "metadata": {},
   "outputs": [
    {
     "name": "stdout",
     "output_type": "stream",
     "text": [
      "True\n"
     ]
    }
   ],
   "source": [
    "x = [10,20,30]\n",
    "\n",
    "print(all(x[i]<x[i+1] for i in range(len(x)-1)) or all(x[i]>x[i+1] for i in range(len(x)-1)))"
   ]
  }
 ],
 "metadata": {
  "kernelspec": {
   "display_name": "Python 3",
   "language": "python",
   "name": "python3"
  },
  "language_info": {
   "codemirror_mode": {
    "name": "ipython",
    "version": 3
   },
   "file_extension": ".py",
   "mimetype": "text/x-python",
   "name": "python",
   "nbconvert_exporter": "python",
   "pygments_lexer": "ipython3",
   "version": "3.9.12"
  }
 },
 "nbformat": 4,
 "nbformat_minor": 5
}
