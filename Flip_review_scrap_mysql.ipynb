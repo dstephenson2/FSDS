{
 "cells": [
  {
   "cell_type": "code",
   "execution_count": 1,
   "id": "650efa54",
   "metadata": {},
   "outputs": [],
   "source": [
    "from flask import Flask, request, jsonify, render_template\n",
    "from bs4 import BeautifulSoup as bs\n",
    "from urllib.request import urlopen as urReq"
   ]
  },
  {
   "cell_type": "code",
   "execution_count": 2,
   "id": "090344f6",
   "metadata": {},
   "outputs": [],
   "source": [
    "flip_url = \"https://www.flipkart.com/search?q=\"+\"oneplus\""
   ]
  },
  {
   "cell_type": "code",
   "execution_count": 3,
   "id": "a77e5777",
   "metadata": {},
   "outputs": [
    {
     "data": {
      "text/plain": [
       "'https://www.flipkart.com/search?q=oneplus'"
      ]
     },
     "execution_count": 3,
     "metadata": {},
     "output_type": "execute_result"
    }
   ],
   "source": [
    "flip_url"
   ]
  },
  {
   "cell_type": "code",
   "execution_count": 4,
   "id": "a0838f3f",
   "metadata": {},
   "outputs": [],
   "source": [
    "response_website = urReq(flip_url)"
   ]
  },
  {
   "cell_type": "code",
   "execution_count": 5,
   "id": "8095a157",
   "metadata": {},
   "outputs": [
    {
     "data": {
      "text/plain": [
       "<http.client.HTTPResponse at 0x1f5df979dc0>"
      ]
     },
     "execution_count": 5,
     "metadata": {},
     "output_type": "execute_result"
    }
   ],
   "source": [
    "response_website"
   ]
  },
  {
   "cell_type": "code",
   "execution_count": 6,
   "id": "a1629c3b",
   "metadata": {},
   "outputs": [],
   "source": [
    "data_flipkart = response_website.read()"
   ]
  },
  {
   "cell_type": "code",
   "execution_count": 7,
   "id": "177b1e2d",
   "metadata": {},
   "outputs": [],
   "source": [
    "beautified_data_flipkart = bs(data_flipkart, \"html.parser\")"
   ]
  },
  {
   "cell_type": "code",
   "execution_count": 8,
   "id": "f96eb5db",
   "metadata": {},
   "outputs": [],
   "source": [
    "bigbox = beautified_data_flipkart.find_all('div',{'class':'_1AtVbE col-12-12'})"
   ]
  },
  {
   "cell_type": "code",
   "execution_count": 9,
   "id": "6f2c8671",
   "metadata": {},
   "outputs": [
    {
     "data": {
      "text/plain": [
       "15"
      ]
     },
     "execution_count": 9,
     "metadata": {},
     "output_type": "execute_result"
    }
   ],
   "source": [
    "len(bigbox)"
   ]
  },
  {
   "cell_type": "code",
   "execution_count": 10,
   "id": "d0fe2672",
   "metadata": {},
   "outputs": [
    {
     "data": {
      "text/plain": [
       "'/oneplus-nord-2-5g-gray-sierra-128-gb/p/itmc88e4a702db46?pid=MOBGDBFFA5EGECHQ&lid=LSTMOBGDBFFA5EGECHQZVHCL8&marketplace=FLIPKART&q=oneplus&store=search.flipkart.com&srno=s_1_9&otracker=search&fm=organic&iid=dac4b707-54bc-4a86-92d7-8217c979efab.MOBGDBFFA5EGECHQ.SEARCH&ppt=None&ppn=None&ssid=ro9yakm9io0000001662817693994&qH=43780d550576947f'"
      ]
     },
     "execution_count": 10,
     "metadata": {},
     "output_type": "execute_result"
    }
   ],
   "source": [
    "bigbox[3].div.div.div.a['href']"
   ]
  },
  {
   "cell_type": "code",
   "execution_count": 11,
   "id": "d90186bc",
   "metadata": {},
   "outputs": [],
   "source": [
    "product_3 = \"https://www.flipkart.com\"+ bigbox[3].div.div.div.a['href']"
   ]
  },
  {
   "cell_type": "code",
   "execution_count": 12,
   "id": "e655aacb",
   "metadata": {},
   "outputs": [
    {
     "data": {
      "text/plain": [
       "'https://www.flipkart.com/oneplus-nord-2-5g-gray-sierra-128-gb/p/itmc88e4a702db46?pid=MOBGDBFFA5EGECHQ&lid=LSTMOBGDBFFA5EGECHQZVHCL8&marketplace=FLIPKART&q=oneplus&store=search.flipkart.com&srno=s_1_9&otracker=search&fm=organic&iid=dac4b707-54bc-4a86-92d7-8217c979efab.MOBGDBFFA5EGECHQ.SEARCH&ppt=None&ppn=None&ssid=ro9yakm9io0000001662817693994&qH=43780d550576947f'"
      ]
     },
     "execution_count": 12,
     "metadata": {},
     "output_type": "execute_result"
    }
   ],
   "source": [
    "product_3"
   ]
  },
  {
   "cell_type": "code",
   "execution_count": 13,
   "id": "a44ea568",
   "metadata": {},
   "outputs": [
    {
     "data": {
      "text/plain": [
       "https://www.flipkart.com/oneplus-nord-2-5g-gray-sierra-128-gb/p/itmc88e4a702db46?pid=MOBGDBFFA5EGECHQ&amp;lid=LSTMOBGDBFFA5EGECHQZVHCL8&amp;marketplace=FLIPKART&amp;q=oneplus&amp;store=search.flipkart.com&amp;srno=s_1_9&amp;otracker=search&amp;fm=organic&amp;iid=dac4b707-54bc-4a86-92d7-8217c979efab.MOBGDBFFA5EGECHQ.SEARCH&amp;ppt=None&amp;ppn=None&amp;ssid=ro9yakm9io0000001662817693994&amp;qH=43780d550576947f"
      ]
     },
     "execution_count": 13,
     "metadata": {},
     "output_type": "execute_result"
    }
   ],
   "source": [
    "bs(product_3,\"html.parser\")"
   ]
  },
  {
   "cell_type": "code",
   "execution_count": 14,
   "id": "96ed6b8a",
   "metadata": {},
   "outputs": [],
   "source": [
    "import requests\n",
    "flip_prod_3 = requests.get(product_3)"
   ]
  },
  {
   "cell_type": "code",
   "execution_count": 15,
   "id": "659ca619",
   "metadata": {},
   "outputs": [
    {
     "data": {
      "text/plain": [
       "<Response [200]>"
      ]
     },
     "execution_count": 15,
     "metadata": {},
     "output_type": "execute_result"
    }
   ],
   "source": [
    "flip_prod_3"
   ]
  },
  {
   "cell_type": "code",
   "execution_count": 16,
   "id": "de97bb80",
   "metadata": {},
   "outputs": [],
   "source": [
    "flip_prod_3_page = bs(flip_prod_3.text,'html.parser')"
   ]
  },
  {
   "cell_type": "code",
   "execution_count": 17,
   "id": "fa2bd2dc",
   "metadata": {},
   "outputs": [],
   "source": [
    "all_review_prod3 = flip_prod_3_page.find_all('div',{'class':'_16PBlm'})"
   ]
  },
  {
   "cell_type": "code",
   "execution_count": 18,
   "id": "63d9b37d",
   "metadata": {},
   "outputs": [
    {
     "data": {
      "text/plain": [
       "11"
      ]
     },
     "execution_count": 18,
     "metadata": {},
     "output_type": "execute_result"
    }
   ],
   "source": [
    "len(all_review_prod3)"
   ]
  },
  {
   "cell_type": "code",
   "execution_count": 19,
   "id": "3654955b",
   "metadata": {},
   "outputs": [
    {
     "data": {
      "text/plain": [
       "<div class=\"row\"><div class=\"_3LWZlK _1BLPMq\">5<img class=\"_1wB99o\" src=\"data:image/svg+xml;base64,PHN2ZyB4bWxucz0iaHR0cDovL3d3dy53My5vcmcvMjAwMC9zdmciIHdpZHRoPSIxMyIgaGVpZ2h0PSIxMiI+PHBhdGggZmlsbD0iI0ZGRiIgZD0iTTYuNSA5LjQzOWwtMy42NzQgMi4yMy45NC00LjI2LTMuMjEtMi44ODMgNC4yNTQtLjQwNEw2LjUuMTEybDEuNjkgNC4wMSA0LjI1NC40MDQtMy4yMSAyLjg4Mi45NCA0LjI2eiIvPjwvc3ZnPg==\"/></div><p class=\"_2-N8zT\">Excellent</p></div>"
      ]
     },
     "execution_count": 19,
     "metadata": {},
     "output_type": "execute_result"
    }
   ],
   "source": [
    "all_review_prod3[0].div.div.div"
   ]
  },
  {
   "cell_type": "code",
   "execution_count": 20,
   "id": "61f232a9",
   "metadata": {},
   "outputs": [],
   "source": [
    "rating = all_review_prod3[0].div.div.div.text[0]"
   ]
  },
  {
   "cell_type": "code",
   "execution_count": 21,
   "id": "6f2e8709",
   "metadata": {},
   "outputs": [],
   "source": [
    "comment_header = all_review_prod3[0].div.div.div.text[1:]"
   ]
  },
  {
   "cell_type": "code",
   "execution_count": 22,
   "id": "c830e8c8",
   "metadata": {},
   "outputs": [],
   "source": [
    "comment = all_review_prod3[0].find_all('div',{'class':\"t-ZTKy\"})[0].text"
   ]
  },
  {
   "cell_type": "code",
   "execution_count": 23,
   "id": "e32e66d2",
   "metadata": {},
   "outputs": [],
   "source": [
    "name = all_review_prod3[0].find_all('p',{'class':\"_2sc7ZR _2V5EHH\"})[0].text"
   ]
  },
  {
   "cell_type": "code",
   "execution_count": 24,
   "id": "50694a83",
   "metadata": {},
   "outputs": [],
   "source": [
    "place = all_review_prod3[0].find_all('p',{'class':\"_2mcZGG\"})[0].text.split(', ')[1]"
   ]
  },
  {
   "cell_type": "code",
   "execution_count": 25,
   "id": "87cf185a",
   "metadata": {},
   "outputs": [],
   "source": [
    "date = all_review_prod3[0].find_all('p',{'class':\"_2sc7ZR\"})[1].text"
   ]
  },
  {
   "cell_type": "code",
   "execution_count": 26,
   "id": "27c73804",
   "metadata": {},
   "outputs": [],
   "source": [
    "l_1 = [rating, comment_header, comment, name, place, date]"
   ]
  },
  {
   "cell_type": "code",
   "execution_count": 27,
   "id": "171b743e",
   "metadata": {},
   "outputs": [
    {
     "data": {
      "text/plain": [
       "['5',\n",
       " 'Excellent',\n",
       " \"Wow it's really a good one from OnePlus. I literally bought this a year later than its launch and am still  impressed by what it can do. Actually I was waiting for Nord 2T to launch but it seemed  like there was no change other than OOS 12, 80W charger and Dimensity 1300. And comparatively there's no change between Dimensity 1200 and Dimensity 1300... I mean there's no change actually. So I just stopped waiting and just bought this one. Display is the first thing you're going to see in a smar...READ MORE\",\n",
       " 'Dhanush',\n",
       " 'Tirunelveli',\n",
       " '3months ago']"
      ]
     },
     "execution_count": 27,
     "metadata": {},
     "output_type": "execute_result"
    }
   ],
   "source": [
    "l_1"
   ]
  },
  {
   "cell_type": "code",
   "execution_count": 31,
   "id": "ac8c8895",
   "metadata": {},
   "outputs": [],
   "source": [
    "reviews = []\n",
    "for i in range(len(all_review_prod3)-1):\n",
    "    rating = all_review_prod3[i].div.div.div.text[0]\n",
    "    comment_header = all_review_prod3[i].div.div.div.text[1:]\n",
    "    comment = all_review_prod3[i].find_all('div',{'class':\"t-ZTKy\"})[0].text\n",
    "    name = all_review_prod3[i].find_all('p',{'class':\"_2sc7ZR _2V5EHH\"})[0].text\n",
    "    place = all_review_prod3[i].find_all('p',{'class':\"_2mcZGG\"})[0].text.split(', ')[1]\n",
    "    date = all_review_prod3[i].find_all('p',{'class':\"_2sc7ZR\"})[1].text\n",
    "    review = [rating, comment_header, comment, name, place, date]\n",
    "    reviews.append(review)"
   ]
  },
  {
   "cell_type": "code",
   "execution_count": 30,
   "id": "cd36ff13",
   "metadata": {},
   "outputs": [
    {
     "name": "stdout",
     "output_type": "stream",
     "text": [
      "5\n",
      "4\n",
      "5\n",
      "5\n",
      "5\n",
      "4\n",
      "5\n",
      "5\n",
      "4\n",
      "5\n"
     ]
    }
   ],
   "source": [
    "for i in range(len(all_review_prod3)-1):\n",
    "    print(all_review_prod3[i].div.div.div.text[0])"
   ]
  },
  {
   "cell_type": "code",
   "execution_count": 47,
   "id": "ee95fa15",
   "metadata": {},
   "outputs": [
    {
     "data": {
      "text/plain": [
       "'4'"
      ]
     },
     "execution_count": 47,
     "metadata": {},
     "output_type": "execute_result"
    }
   ],
   "source": [
    "all_review_prod3[2].div.div.div.div.text"
   ]
  },
  {
   "cell_type": "code",
   "execution_count": 34,
   "id": "39721b04",
   "metadata": {},
   "outputs": [],
   "source": [
    "import pandas as pd\n",
    "columns = [['Rating', 'Comment_Header', 'Comment', 'Name', 'Place', 'Date']]\n",
    "reviews_df = pd.DataFrame(data=reviews,columns=columns)"
   ]
  },
  {
   "cell_type": "code",
   "execution_count": 35,
   "id": "72137191",
   "metadata": {},
   "outputs": [
    {
     "data": {
      "text/html": [
       "<div>\n",
       "<style scoped>\n",
       "    .dataframe tbody tr th:only-of-type {\n",
       "        vertical-align: middle;\n",
       "    }\n",
       "\n",
       "    .dataframe tbody tr th {\n",
       "        vertical-align: top;\n",
       "    }\n",
       "\n",
       "    .dataframe thead tr th {\n",
       "        text-align: left;\n",
       "    }\n",
       "</style>\n",
       "<table border=\"1\" class=\"dataframe\">\n",
       "  <thead>\n",
       "    <tr>\n",
       "      <th></th>\n",
       "      <th>Rating</th>\n",
       "      <th>Comment_Header</th>\n",
       "      <th>Comment</th>\n",
       "      <th>Name</th>\n",
       "      <th>Place</th>\n",
       "      <th>Date</th>\n",
       "    </tr>\n",
       "  </thead>\n",
       "  <tbody>\n",
       "    <tr>\n",
       "      <th>0</th>\n",
       "      <td>5</td>\n",
       "      <td>Excellent</td>\n",
       "      <td>Wow it's really a good one from OnePlus. I lit...</td>\n",
       "      <td>Dhanush</td>\n",
       "      <td>Tirunelveli</td>\n",
       "      <td>3months ago</td>\n",
       "    </tr>\n",
       "    <tr>\n",
       "      <th>1</th>\n",
       "      <td>4</td>\n",
       "      <td>Delightful</td>\n",
       "      <td>MY EXPERIENCE AFTER 5DAYS OF USAGEHERE WE GO1)...</td>\n",
       "      <td>Sanjay  M.V</td>\n",
       "      <td>Bengaluru</td>\n",
       "      <td>3months ago</td>\n",
       "    </tr>\n",
       "    <tr>\n",
       "      <th>2</th>\n",
       "      <td>5</td>\n",
       "      <td>Highly recommended</td>\n",
       "      <td>Just like I want this device gives me all .Cam...</td>\n",
       "      <td>Roshan</td>\n",
       "      <td>Leh</td>\n",
       "      <td>3months ago</td>\n",
       "    </tr>\n",
       "    <tr>\n",
       "      <th>3</th>\n",
       "      <td>5</td>\n",
       "      <td>Just wow!</td>\n",
       "      <td>Awesome premium phone with numerous premium fe...</td>\n",
       "      <td>Tapas Bhatta</td>\n",
       "      <td>Bansberia</td>\n",
       "      <td>3months ago</td>\n",
       "    </tr>\n",
       "    <tr>\n",
       "      <th>4</th>\n",
       "      <td>5</td>\n",
       "      <td>Great product</td>\n",
       "      <td>Using phone from past 15days....Phone is amazi...</td>\n",
       "      <td>Vinod L</td>\n",
       "      <td>Bengaluru</td>\n",
       "      <td>2months ago</td>\n",
       "    </tr>\n",
       "    <tr>\n",
       "      <th>5</th>\n",
       "      <td>4</td>\n",
       "      <td>Pretty good</td>\n",
       "      <td>I am using this phone from last 5 days  and i ...</td>\n",
       "      <td>Shubham Nevare</td>\n",
       "      <td>Pune</td>\n",
       "      <td>2months ago</td>\n",
       "    </tr>\n",
       "    <tr>\n",
       "      <th>6</th>\n",
       "      <td>5</td>\n",
       "      <td>Wonderful</td>\n",
       "      <td>Camera good quality 👌READ MORE</td>\n",
       "      <td>Jakir  Hussain.</td>\n",
       "      <td>Bangalore Urban</td>\n",
       "      <td>3months ago</td>\n",
       "    </tr>\n",
       "    <tr>\n",
       "      <th>7</th>\n",
       "      <td>5</td>\n",
       "      <td>Must buy!</td>\n",
       "      <td>VALUE FOR MONEYREAD MORE</td>\n",
       "      <td>MD TUFAIL ALAM</td>\n",
       "      <td>Dalkhola</td>\n",
       "      <td>2months ago</td>\n",
       "    </tr>\n",
       "    <tr>\n",
       "      <th>8</th>\n",
       "      <td>4</td>\n",
       "      <td>Good quality product</td>\n",
       "      <td>Good... product....and camera quality is very....</td>\n",
       "      <td>SAROJ MILU</td>\n",
       "      <td>Puri</td>\n",
       "      <td>2months ago</td>\n",
       "    </tr>\n",
       "    <tr>\n",
       "      <th>9</th>\n",
       "      <td>5</td>\n",
       "      <td>Perfect product!</td>\n",
       "      <td>Good phoneREAD MORE</td>\n",
       "      <td>Farooqui Abdulla</td>\n",
       "      <td>Allahabad</td>\n",
       "      <td>2months ago</td>\n",
       "    </tr>\n",
       "  </tbody>\n",
       "</table>\n",
       "</div>"
      ],
      "text/plain": [
       "  Rating        Comment_Header  \\\n",
       "0      5             Excellent   \n",
       "1      4            Delightful   \n",
       "2      5    Highly recommended   \n",
       "3      5             Just wow!   \n",
       "4      5         Great product   \n",
       "5      4           Pretty good   \n",
       "6      5             Wonderful   \n",
       "7      5             Must buy!   \n",
       "8      4  Good quality product   \n",
       "9      5      Perfect product!   \n",
       "\n",
       "                                             Comment              Name  \\\n",
       "0  Wow it's really a good one from OnePlus. I lit...           Dhanush   \n",
       "1  MY EXPERIENCE AFTER 5DAYS OF USAGEHERE WE GO1)...       Sanjay  M.V   \n",
       "2  Just like I want this device gives me all .Cam...            Roshan   \n",
       "3  Awesome premium phone with numerous premium fe...      Tapas Bhatta   \n",
       "4  Using phone from past 15days....Phone is amazi...           Vinod L   \n",
       "5  I am using this phone from last 5 days  and i ...    Shubham Nevare   \n",
       "6                     Camera good quality 👌READ MORE  Jakir  Hussain.    \n",
       "7                           VALUE FOR MONEYREAD MORE    MD TUFAIL ALAM   \n",
       "8  Good... product....and camera quality is very....        SAROJ MILU   \n",
       "9                                Good phoneREAD MORE  Farooqui Abdulla   \n",
       "\n",
       "             Place         Date  \n",
       "0      Tirunelveli  3months ago  \n",
       "1        Bengaluru  3months ago  \n",
       "2              Leh  3months ago  \n",
       "3        Bansberia  3months ago  \n",
       "4        Bengaluru  2months ago  \n",
       "5             Pune  2months ago  \n",
       "6  Bangalore Urban  3months ago  \n",
       "7         Dalkhola  2months ago  \n",
       "8             Puri  2months ago  \n",
       "9        Allahabad  2months ago  "
      ]
     },
     "execution_count": 35,
     "metadata": {},
     "output_type": "execute_result"
    }
   ],
   "source": [
    "reviews_df"
   ]
  },
  {
   "cell_type": "code",
   "execution_count": 37,
   "id": "1dd6a673",
   "metadata": {},
   "outputs": [],
   "source": [
    "import mysql.connector as conn\n",
    "mydb = conn.connect(host='localhost', user='root', passwd='God!77merciful')\n",
    "cursor = mydb.cursor()\n",
    "cursor.execute('create database if not exists flip_review')\n",
    "cursor.execute('create table if not exists flip_review.reviews(Rating int(1), ComHea varchar(15), Comment varchar(200), Name varchar(30), Place varchar(30), Month varchar(20))')"
   ]
  },
  {
   "cell_type": "code",
   "execution_count": 42,
   "id": "47780847",
   "metadata": {},
   "outputs": [],
   "source": [
    "for i in range(len(all_review_prod3)-1):\n",
    "    cursor=mydb.cursor()\n",
    "    rating = all_review_prod3[i].div.div.div.text[0]\n",
    "    comhea = all_review_prod3[i].div.div.div.text[1:]\n",
    "    comment = all_review_prod3[i].find_all('div',{'class':\"t-ZTKy\"})[0].text\n",
    "    name = all_review_prod3[i].find_all('p',{'class':\"_2sc7ZR _2V5EHH\"})[0].text\n",
    "    place = all_review_prod3[i].find_all('p',{'class':\"_2mcZGG\"})[0].text.split(', ')[1]\n",
    "    month = all_review_prod3[i].find_all('p',{'class':\"_2sc7ZR\"})[1].text\n",
    "    cursor.execute(\"insert into flip_review.reviews values(rating, comhea, comment, name, place, month)\")\n",
    "    mydb.commit()"
   ]
  },
  {
   "cell_type": "code",
   "execution_count": null,
   "id": "5ff0a0fa",
   "metadata": {},
   "outputs": [],
   "source": []
  }
 ],
 "metadata": {
  "kernelspec": {
   "display_name": "Python 3",
   "language": "python",
   "name": "python3"
  },
  "language_info": {
   "codemirror_mode": {
    "name": "ipython",
    "version": 3
   },
   "file_extension": ".py",
   "mimetype": "text/x-python",
   "name": "python",
   "nbconvert_exporter": "python",
   "pygments_lexer": "ipython3",
   "version": "3.9.12"
  }
 },
 "nbformat": 4,
 "nbformat_minor": 5
}
