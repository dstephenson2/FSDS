{
 "cells": [
  {
   "cell_type": "markdown",
   "id": "c3223517",
   "metadata": {},
   "source": [
    "### Python Basics - Assignment_1"
   ]
  },
  {
   "cell_type": "markdown",
   "id": "ecf80228",
   "metadata": {},
   "source": [
    "##### 1)  1. In the below elements which of them are values or an expression? eg:- values can be integer or string and expressions will be mathematical operators."
   ]
  },
  {
   "cell_type": "markdown",
   "id": "e4a8a655",
   "metadata": {},
   "source": [
    " - (*) is an Expression (Mathematical Operator - Multiplication)\n",
    " - ('hello') is a value (String)\n",
    " - (-87.8) is a value (float)\n",
    " - (-) is an Expression (Mathematical Operator - Subtraction)\n",
    " - (/) is an Expression (Mathematical Operator - Division)\n",
    " - (+) is an Expression (Mathematical Operator - Addition)\n",
    " - (6) is a value (Integer)"
   ]
  },
  {
   "cell_type": "markdown",
   "id": "43edc6dc",
   "metadata": {},
   "source": [
    "### 2) What is the difference between string and variable?"
   ]
  },
  {
   "cell_type": "markdown",
   "id": "2ebeed6c",
   "metadata": {},
   "source": [
    "- A String is a series of characters represented inside double quotes or single quotes. A variable is an entity to store a data that can be processed during run time. It is basically a reference which can hold any homogeneous or heterogeneous values of any datatype."
   ]
  },
  {
   "cell_type": "markdown",
   "id": "6357b7f1",
   "metadata": {},
   "source": [
    "### 3) Describe three different data types."
   ]
  },
  {
   "cell_type": "markdown",
   "id": "45475e4d",
   "metadata": {},
   "source": [
    "- Three different data types\n",
    "        -List[] - List is an ordered sequence of items with different data types, seperated by commas and enclosed within square brackets[]. List is mutable in nature i.e values can be changed / replaced / modified.\n",
    "        -Tuple() - Tuple is also an ordered sequence of items like list with only difference being immutable. Items inside a tuple cannot be changed / replaced / modified. Tuples are enclosed within curved brackets ().\n",
    "        -Dictionary{} - Dictionary is an unordered collection of a key and a corresponding value pair of any type. Key and values are enclosed within curly brackets {'Key':'value'} "
   ]
  },
  {
   "cell_type": "markdown",
   "id": "7da04b9f",
   "metadata": {},
   "source": [
    "### 4) What is an expression made up of? What do all expressions do?"
   ]
  },
  {
   "cell_type": "markdown",
   "id": "e18dc8e0",
   "metadata": {},
   "source": [
    "- Expressions are generally made up of mathematical operators, such as arithematic (+,-,* etc) operators, logical (not,or,and etc) operators, relational (==, !=, >, < etc) operators etc and operands that may or maynot perform some computation, the values of which are generally stored in a variable. In its simplest form it can be a single constant (object) assigned to a variable without performing any computation.  e.g variable (a) = operand (b) operator (+) operand (c); a=b+c"
   ]
  },
  {
   "cell_type": "markdown",
   "id": "7692c35f",
   "metadata": {},
   "source": [
    "### 5) This assignment statements, like spam = 10. What is the difference between an expression and a statement?"
   ]
  },
  {
   "cell_type": "markdown",
   "id": "9ea14cb0",
   "metadata": {},
   "source": [
    "- Assignment statement, spam=10, gives a value 10 to a variable called spam. This means that we are telling/instructing the computer to store value 10 in spam, here a statement (spam=10) is executed by the computer. The main difference between expression and a statement is that evaluation takes place in the case of expression whereas in a statement an execution happends. Statements may be expression but expressions are not statements."
   ]
  },
  {
   "cell_type": "markdown",
   "id": "82c583cb",
   "metadata": {},
   "source": [
    "### 6) After running the following code, what does the variable bacon contain? bacon = 22; bacon + 1"
   ]
  },
  {
   "cell_type": "markdown",
   "id": "d6d11e40",
   "metadata": {},
   "source": [
    "- bacon contains value 22 as the numerical value of integer 1 is added to the value of the variable bacon but not assigned back to the variable. Hence the value of bacon remains 22 only."
   ]
  },
  {
   "cell_type": "markdown",
   "id": "1b01bf40",
   "metadata": {},
   "source": [
    "### 7) What should the values of the following two terms be? 'spam' + 'spamspam'; 'spam' * 3"
   ]
  },
  {
   "cell_type": "markdown",
   "id": "dcba2b16",
   "metadata": {},
   "source": [
    "- Both of the terms will result in same value - ''spamspamspam'. The first term is a concatenation of two strings using arithematic operator '+', with one string as 'spam' and the other as 'spamspam'. The second term is multiplication of single string 'spam'. Strings can be concatenated with other strings only, python does not support implicit string conversion."
   ]
  },
  {
   "cell_type": "markdown",
   "id": "0776bc5b",
   "metadata": {},
   "source": [
    "### 8) Why is eggs a valid variable name while 100 is invalid?"
   ]
  },
  {
   "cell_type": "markdown",
   "id": "d959e59b",
   "metadata": {},
   "source": [
    "- Variables can be a combination of letters in lowercase or uppercase or digits, but cannot start with a digit. Unlike in other languages, python will automatically understand the type of data whether it is an int or float etc"
   ]
  },
  {
   "cell_type": "markdown",
   "id": "ebc2e96a",
   "metadata": {},
   "source": [
    "### 9) What three functions can be used to get the integer, floating-point number, or string version of a value?"
   ]
  },
  {
   "cell_type": "markdown",
   "id": "f301c561",
   "metadata": {},
   "source": [
    "- To get integer value we can use the function int(), for floating point number - float() and for a string - str()"
   ]
  },
  {
   "cell_type": "markdown",
   "id": "8b53f986",
   "metadata": {},
   "source": [
    "### 10) Why does this expression cause an error? How can you fix it? - 'I have eaten' + 99 + 'burritos.'"
   ]
  },
  {
   "cell_type": "markdown",
   "id": "15a6ab61",
   "metadata": {},
   "source": [
    " - We can concatinate strings only with other strings, as implicit conversion cannot be done in python. A string concatenation with another non string will throw \"TypeError\". To fix this error we will have to convert number 99 to string using str(). \n",
    "'I have eaten' + str(99) + 'burritos.'"
   ]
  }
 ],
 "metadata": {
  "kernelspec": {
   "display_name": "Python 3",
   "language": "python",
   "name": "python3"
  },
  "language_info": {
   "codemirror_mode": {
    "name": "ipython",
    "version": 3
   },
   "file_extension": ".py",
   "mimetype": "text/x-python",
   "name": "python",
   "nbconvert_exporter": "python",
   "pygments_lexer": "ipython3",
   "version": "3.9.12"
  }
 },
 "nbformat": 4,
 "nbformat_minor": 5
}
