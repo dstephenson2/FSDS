{
 "cells": [
  {
   "cell_type": "markdown",
   "id": "7773a222",
   "metadata": {},
   "source": [
    "### Python Basics_Assignment_2"
   ]
  },
  {
   "cell_type": "markdown",
   "id": "61a7f35b",
   "metadata": {},
   "source": [
    "### 1) What are the two values of the Boolean data type? How do you write them?"
   ]
  },
  {
   "cell_type": "markdown",
   "id": "530c10fd",
   "metadata": {},
   "source": [
    "- Boolean data type returns output as True, False basically, used to evaluate an expression, compare values. Generally True takes 1 and False takes 0. We can check the type using built-in type(). e.g type(True), type(False)"
   ]
  },
  {
   "cell_type": "markdown",
   "id": "fe066370",
   "metadata": {},
   "source": [
    "### 2) What are the three different types of Boolean operators?"
   ]
  },
  {
   "cell_type": "markdown",
   "id": "05e3654d",
   "metadata": {},
   "source": [
    "- The three different types of Boolean operators are AND used to search all search terms, OR used to search either items, NOT which takes only a single argument and returns the opposite value of that particular operand and is also used to remove / disqualify items which contain certain terms."
   ]
  },
  {
   "cell_type": "markdown",
   "id": "33c09b65",
   "metadata": {},
   "source": [
    "### 3) Make a list of each Boolean operator&#39;s truth tables (i.e. every possible combination of Boolean values for the operator and what it evaluate )."
   ]
  },
  {
   "cell_type": "code",
   "execution_count": 1,
   "id": "8ecde40b",
   "metadata": {},
   "outputs": [],
   "source": [
    "A, B = True, False"
   ]
  },
  {
   "cell_type": "code",
   "execution_count": 2,
   "id": "73fbeafa",
   "metadata": {},
   "outputs": [
    {
     "name": "stdout",
     "output_type": "stream",
     "text": [
      "True and True: (True)\n",
      "True and False: (False)\n",
      "False and False: (False)\n",
      "False and True: (False)\n"
     ]
    }
   ],
   "source": [
    "print(\"True and True: (%s)\" %(A and A))\n",
    "print(\"True and False: (%s)\" %(A and B))\n",
    "print(\"False and False: (%s)\" %(B and B))\n",
    "print(\"False and True: (%s)\" %(B and A))"
   ]
  },
  {
   "cell_type": "code",
   "execution_count": 3,
   "id": "195ac119",
   "metadata": {},
   "outputs": [
    {
     "name": "stdout",
     "output_type": "stream",
     "text": [
      "True or True: (True)\n",
      "True or False: (True)\n",
      "False or False: (False)\n",
      "False or True: (True)\n"
     ]
    }
   ],
   "source": [
    "print(\"True or True: (%s)\" %(A or A))\n",
    "print(\"True or False: (%s)\" %(A or B))\n",
    "print(\"False or False: (%s)\" %(B or B))\n",
    "print(\"False or True: (%s)\" %(B or A))"
   ]
  },
  {
   "cell_type": "code",
   "execution_count": 4,
   "id": "42eaf816",
   "metadata": {},
   "outputs": [
    {
     "name": "stdout",
     "output_type": "stream",
     "text": [
      "A: (True)\n",
      "not A: (False)\n"
     ]
    }
   ],
   "source": [
    "print(\"A: (%s)\" %(A))\n",
    "print(\"not A: (%s)\" %(not A))"
   ]
  },
  {
   "cell_type": "markdown",
   "id": "3ddd76e9",
   "metadata": {},
   "source": [
    "### 4) What are the values of the following expressions?"
   ]
  },
  {
   "cell_type": "markdown",
   "id": "a1c96dff",
   "metadata": {},
   "source": [
    "(5 > 4) and (3 == 5) --> \n",
    "5>4 -> True; \n",
    "3==5 -> False; \n",
    "True and False -> False"
   ]
  },
  {
   "cell_type": "code",
   "execution_count": 5,
   "id": "10c9a2f7",
   "metadata": {},
   "outputs": [
    {
     "data": {
      "text/plain": [
       "False"
      ]
     },
     "execution_count": 5,
     "metadata": {},
     "output_type": "execute_result"
    }
   ],
   "source": [
    "(5 > 4) and (3 == 5)"
   ]
  },
  {
   "cell_type": "markdown",
   "id": "b0007731",
   "metadata": {},
   "source": [
    "not (5 > 4) --> \n",
    "5>4 -> True; \n",
    "not True -> False"
   ]
  },
  {
   "cell_type": "code",
   "execution_count": 6,
   "id": "070a6806",
   "metadata": {},
   "outputs": [
    {
     "data": {
      "text/plain": [
       "False"
      ]
     },
     "execution_count": 6,
     "metadata": {},
     "output_type": "execute_result"
    }
   ],
   "source": [
    "not (5 > 4)"
   ]
  },
  {
   "cell_type": "markdown",
   "id": "e3012006",
   "metadata": {},
   "source": [
    "(5 > 4) or (3 == 5) -->\n",
    "5>4 -> True; \n",
    "3==5 -> False; \n",
    "True or False -> True"
   ]
  },
  {
   "cell_type": "code",
   "execution_count": 7,
   "id": "c40ce8d8",
   "metadata": {},
   "outputs": [
    {
     "data": {
      "text/plain": [
       "True"
      ]
     },
     "execution_count": 7,
     "metadata": {},
     "output_type": "execute_result"
    }
   ],
   "source": [
    "(5 > 4) or (3 == 5)"
   ]
  },
  {
   "cell_type": "markdown",
   "id": "05e47b57",
   "metadata": {},
   "source": [
    "not ((5 > 4) or (3 == 5)) -->\n",
    "5>4 -> True\n",
    "3 == 5 -> Flase\n",
    "True or False -> True\n",
    "not True -> False"
   ]
  },
  {
   "cell_type": "code",
   "execution_count": 8,
   "id": "71dc0fd7",
   "metadata": {},
   "outputs": [
    {
     "data": {
      "text/plain": [
       "False"
      ]
     },
     "execution_count": 8,
     "metadata": {},
     "output_type": "execute_result"
    }
   ],
   "source": [
    "not ((5 > 4) or (3 == 5))"
   ]
  },
  {
   "cell_type": "markdown",
   "id": "fe963cd4",
   "metadata": {},
   "source": [
    "(True and True) and (True == False) -->\n",
    "True and True -> True\n",
    "True == False -> False\n",
    "True and False -> False"
   ]
  },
  {
   "cell_type": "code",
   "execution_count": 9,
   "id": "01a3367d",
   "metadata": {},
   "outputs": [
    {
     "data": {
      "text/plain": [
       "False"
      ]
     },
     "execution_count": 9,
     "metadata": {},
     "output_type": "execute_result"
    }
   ],
   "source": [
    "(True and True) and (True == False)"
   ]
  },
  {
   "cell_type": "markdown",
   "id": "bbccb11f",
   "metadata": {},
   "source": [
    "(not False) or (not True) -->\n",
    "not False -> True\n",
    "not True -> Flase\n",
    "True or False -> True"
   ]
  },
  {
   "cell_type": "code",
   "execution_count": 10,
   "id": "e0295fdd",
   "metadata": {},
   "outputs": [
    {
     "data": {
      "text/plain": [
       "True"
      ]
     },
     "execution_count": 10,
     "metadata": {},
     "output_type": "execute_result"
    }
   ],
   "source": [
    "(not False) or (not True)"
   ]
  },
  {
   "cell_type": "markdown",
   "id": "c6618595",
   "metadata": {},
   "source": [
    "### 5) What are the six comparison operators?"
   ]
  },
  {
   "cell_type": "markdown",
   "id": "872eec0b",
   "metadata": {},
   "source": [
    "- Six Comparison operators as follows:-\n",
    "        -equal to (==)\n",
    "        -not equal to (!=)\n",
    "        -greater than (>)\n",
    "        -lesser than (<)\n",
    "        -greater than or equal to (>=)\n",
    "        -lesser than or equal to (<=)"
   ]
  },
  {
   "cell_type": "markdown",
   "id": "9dc97126",
   "metadata": {},
   "source": [
    "### 6) How do you tell the difference between the equal to and assignment operators?Describe a condition and when you would use one."
   ]
  },
  {
   "cell_type": "markdown",
   "id": "65802157",
   "metadata": {},
   "source": [
    "- Assignment operators are used in statement where in we are telling/instructing the computer to store the assigned value inside a particular variable, whereas equal to is used when we are comparing two operands. Assignment Operator uses only single equal to character (=) e.g a = 10; while an equal to comparison operator uses two equal to character (==) and is mostly used to evaulate a particular condition e.g if a == b.\n",
    "\n",
    "- Example:- \n",
    "        -a = 10 (assignment operator)\n",
    "        -b = 10 (assignment operator)\n",
    "        -if a == b: (equal to comparison operator)\n",
    "            print(\"Both the values are same\") "
   ]
  },
  {
   "cell_type": "markdown",
   "id": "19794442",
   "metadata": {},
   "source": [
    "### 7) Identify the three blocks in this code:\n",
    "- spam = 0\n",
    "- if spam == 10:\n",
    "- print('eggs')\n",
    "- if spam>5:\n",
    "- print('bacon')\n",
    "- else:\n",
    "- print('ham')\n",
    "- print('spam')\n",
    "- print('spam')"
   ]
  },
  {
   "cell_type": "markdown",
   "id": "d4421847",
   "metadata": {},
   "source": [
    "- spam = 0\n",
    "------Block 1-------\n",
    "- if spam == 10:\n",
    "    - print('eggs')\n",
    "------Block 2-------\n",
    "- if spam > 5:\n",
    "    - print('bacon')\n",
    "------Block 3-------\n",
    "- else:\n",
    "    - print('ham')"
   ]
  },
  {
   "cell_type": "markdown",
   "id": "d602afe9",
   "metadata": {},
   "source": [
    "### 8) Write code that prints Hello if 1 is stored in spam, prints Howdy if 2 is stored in spam, and prints Greetings! if anything else is stored in spam."
   ]
  },
  {
   "cell_type": "markdown",
   "id": "aac0cf93",
   "metadata": {},
   "source": [
    "spam = int(input(\"Enter a number to be stored in spam: \"))\n",
    "if spam == 1:\n",
    "    print(\"Hello\")\n",
    "elif spam == 2:\n",
    "    print(\"Howdy\")\n",
    "else:\n",
    "    print('Greetings')"
   ]
  },
  {
   "cell_type": "markdown",
   "id": "6b47c648",
   "metadata": {},
   "source": [
    "### 9) If your programme is stuck in an endless loop, what keys you’ll press?"
   ]
  },
  {
   "cell_type": "markdown",
   "id": "cde01594",
   "metadata": {},
   "source": [
    "- cntrl+c"
   ]
  },
  {
   "cell_type": "markdown",
   "id": "76fac16d",
   "metadata": {},
   "source": [
    "### 10) How can you tell the difference between break and continue?"
   ]
  },
  {
   "cell_type": "markdown",
   "id": "a989f5bb",
   "metadata": {},
   "source": [
    "- Break statement terminates the flow of a loop containing it when the condition becomes true. Incase the Break statement is inside a nested loop, the break statement will terminate the innermost loop.\n",
    "- Continue statement is used to skip the remaining code inside a loop for the current iteration only. Instead of terminating the loop, if forces to execute the next iteration of the loop."
   ]
  },
  {
   "cell_type": "markdown",
   "id": "38945865",
   "metadata": {},
   "source": [
    "### 11) In a for loop, what is the difference between range(10), range(0, 10), and range(0, 10, 1)?"
   ]
  },
  {
   "cell_type": "markdown",
   "id": "45ee9e9d",
   "metadata": {},
   "source": [
    "- All the three given options will give the same output, only the representation is different. Range(10) implies the for loop will generate sequence of numbers from 0 upto 10 (excluding 10). Range(0,10) implies starting with 0 and ending with one number less than 10. Range (0,10,1) implies starting with 0, with a step size of 1 i.e increasing 1 step for a loop, print upto 10(excluding 10) numbers in sequence."
   ]
  },
  {
   "cell_type": "markdown",
   "id": "c2d52b2d",
   "metadata": {},
   "source": [
    "### 12) Write a short program that prints the numbers 1 to 10 using a for loop. Then write an equivalent program that prints the numbers 1 to 10 using a while loop."
   ]
  },
  {
   "cell_type": "markdown",
   "id": "ed6144f6",
   "metadata": {},
   "source": [
    "print([i for i in range(1,11)])"
   ]
  },
  {
   "cell_type": "markdown",
   "id": "51e24830",
   "metadata": {},
   "source": [
    "a = 1\n",
    "b = []\n",
    "while a <= 10:\n",
    "    b.append(a)\n",
    "    a += 1\n",
    "print(b)"
   ]
  },
  {
   "cell_type": "markdown",
   "id": "fb2b1306",
   "metadata": {},
   "source": [
    "### 13) If you had a function named bacon() inside a module named spam, how would you call it after importing spam?"
   ]
  },
  {
   "cell_type": "markdown",
   "id": "3e4f9ba0",
   "metadata": {},
   "source": [
    "- spam.bacon()"
   ]
  }
 ],
 "metadata": {
  "kernelspec": {
   "display_name": "Python 3",
   "language": "python",
   "name": "python3"
  },
  "language_info": {
   "codemirror_mode": {
    "name": "ipython",
    "version": 3
   },
   "file_extension": ".py",
   "mimetype": "text/x-python",
   "name": "python",
   "nbconvert_exporter": "python",
   "pygments_lexer": "ipython3",
   "version": "3.9.12"
  }
 },
 "nbformat": 4,
 "nbformat_minor": 5
}
