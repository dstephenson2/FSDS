{
 "cells": [
  {
   "cell_type": "markdown",
   "id": "3ce6767d",
   "metadata": {},
   "source": [
    "### PB Programming Assignment 13"
   ]
  },
  {
   "cell_type": "markdown",
   "id": "519b1310",
   "metadata": {},
   "source": [
    "##### Question 1:\n",
    "\n",
    "- Write a program that calculates and prints the value according to the given formula:\n",
    "        - Q = Square root of [(2 * C * D)/H]. Following are the fixed values of C and H:\n",
    "        - C is 50. H is 30.\n",
    "        - D is the variable whose values should be input to your program in a comma-separated sequence.\n",
    "\n",
    "- Example\n",
    "        - Let us assume the following comma separated input sequence is given to the program:\n",
    "        - 100,150,180\n",
    "        - The output of the program should be:\n",
    "        - 18,22,24"
   ]
  },
  {
   "cell_type": "code",
   "execution_count": 1,
   "id": "c5f2fe61",
   "metadata": {},
   "outputs": [
    {
     "name": "stdout",
     "output_type": "stream",
     "text": [
      "Enter any three values: 100,150,180\n",
      "The output of the program is:  [18, 22, 24]\n"
     ]
    }
   ],
   "source": [
    "import math\n",
    "def sqr_root(D):\n",
    "    C = 50\n",
    "    H = 30\n",
    "    output = list()\n",
    "    for i in D:\n",
    "        Q = math.sqrt((2*C*i)/H)\n",
    "        output.append(math.floor(Q))\n",
    "    return output\n",
    "\n",
    "x, y, z = [int(x) for x in input('Enter any three values: ').split(',')]\n",
    "D = x, y, z\n",
    "print(\"The output of the program is: \", sqr_root(D))"
   ]
  },
  {
   "cell_type": "markdown",
   "id": "99d15c57",
   "metadata": {},
   "source": [
    "##### Question 2:\n",
    "- Write a program which takes 2 digits, X,Y as input and generates a 2-dimensional array. The element value in the i-th row and j-th column of the array should be i*j.\n",
    "        - Note: i=0,1.., X-1; j=0,1,¡¬Y-1.\n",
    "\n",
    "- Example\n",
    "        - Suppose the following inputs are given to the program:\n",
    "        - 3,5\n",
    "        - Then, the output of the program should be:\n",
    "        - [[0, 0, 0, 0, 0], [0, 1, 2, 3, 4], [0, 2, 4, 6, 8]] "
   ]
  },
  {
   "cell_type": "code",
   "execution_count": 2,
   "id": "47a36cc7",
   "metadata": {},
   "outputs": [
    {
     "name": "stdout",
     "output_type": "stream",
     "text": [
      "Enter the shape of the matrix: 3,5\n",
      "The output of the program is:  [[0, 0, 0, 0, 0], [0, 1, 2, 3, 4], [0, 2, 4, 6, 8]]\n"
     ]
    }
   ],
   "source": [
    "def two_d_array(X,Y):\n",
    "    row_matrix = []\n",
    "    for i in range(X):\n",
    "        col_matrix = []\n",
    "        for j in range(Y):\n",
    "            col_matrix.append(i*j)\n",
    "        row_matrix.append(col_matrix)\n",
    "    return row_matrix\n",
    "\n",
    "X, Y = [int(x) for x in input('Enter the shape of the matrix: ').split(',')]\n",
    "print(\"The output of the program is: \", two_d_array(X,Y))"
   ]
  },
  {
   "cell_type": "markdown",
   "id": "784d8a9c",
   "metadata": {},
   "source": [
    "##### Question 3:\n",
    "- Write a program that accepts a comma separated sequence of words as input and prints the words in a comma-separated sequence after sorting them alphabetically.\n",
    "\n",
    "        Suppose the following input is supplied to the program:\n",
    "\n",
    "        without,hello,bag,world\n",
    "\n",
    "        Then, the output should be:\n",
    "\n",
    "        bag,hello,without,world\n"
   ]
  },
  {
   "cell_type": "code",
   "execution_count": 3,
   "id": "82e1a1f9",
   "metadata": {},
   "outputs": [
    {
     "name": "stdout",
     "output_type": "stream",
     "text": [
      "Enter any three words: without,hello,bag,world\n",
      "['bag', 'hello', 'without', 'world']\n"
     ]
    }
   ],
   "source": [
    "def seq_words(X):\n",
    "    X.sort()\n",
    "    return X\n",
    "\n",
    "X = [x for x in input('Enter any three words: ').split(',')]\n",
    "print(seq_words(X))"
   ]
  },
  {
   "cell_type": "markdown",
   "id": "4841214e",
   "metadata": {},
   "source": [
    "##### Question 4:\n",
    "- Write a program that accepts a sequence of whitespace separated words as input and prints the words after removing all duplicate words and sorting them alphanumerically.\n",
    "\n",
    "        Suppose the following input is supplied to the program:\n",
    "\n",
    "        hello world and practice makes perfect and hello world again\n",
    "\n",
    "        Then, the output should be:\n",
    "\n",
    "        again and hello makes perfect practice world\n"
   ]
  },
  {
   "cell_type": "code",
   "execution_count": 4,
   "id": "b8fd5758",
   "metadata": {},
   "outputs": [
    {
     "name": "stdout",
     "output_type": "stream",
     "text": [
      "Enter a Phrase: hello world and practice makes perfect and hello world again\n",
      "again and hello makes perfect practice world\n"
     ]
    }
   ],
   "source": [
    "phrase = input(\"Enter a Phrase: \")\n",
    "phrase_splited = phrase.split(' ')\n",
    "\n",
    "word_list = []\n",
    "for i in phrase_splited:\n",
    "    if i not in word_list:\n",
    "        word_list.append(i)\n",
    "    else:\n",
    "        continue\n",
    "word_list.sort()\n",
    "print((' ').join(word_list))"
   ]
  },
  {
   "cell_type": "markdown",
   "id": "847ca360",
   "metadata": {},
   "source": [
    "##### Question 5:\n",
    "- Write a program that accepts a sentence and calculate the number of letters and digits.\n",
    "\n",
    "        Suppose the following input is supplied to the program:\n",
    "        hello world! 123\n",
    "        Then, the output should be:\n",
    "        LETTERS 10\n",
    "        DIGITS 3"
   ]
  },
  {
   "cell_type": "code",
   "execution_count": 5,
   "id": "040d35e4",
   "metadata": {},
   "outputs": [
    {
     "name": "stdout",
     "output_type": "stream",
     "text": [
      "Enter a Phrase: hello world! 123\n",
      "There are 10 letters and 3 digits in the phrase.\n"
     ]
    }
   ],
   "source": [
    "sentence = input('Enter a Phrase: ')\n",
    "letters = 0\n",
    "digits = 0\n",
    "for i in sentence:\n",
    "    if i.isdigit():\n",
    "        digits += 1\n",
    "    elif i.isalpha():\n",
    "        letters += 1\n",
    "    else:\n",
    "        pass\n",
    "print(\"There are {0} letters and {1} digits in the phrase.\". format(letters, digits))"
   ]
  },
  {
   "cell_type": "markdown",
   "id": "ab11191e",
   "metadata": {},
   "source": [
    "##### Question 6:\n",
    "- A website requires the users to input username and password to register. Write a program to check the validity of password input by users.\n",
    "\n",
    "     Following are the criteria for checking the password:\n",
    "\n",
    "            1. At least 1 letter between [a-z]\n",
    "\n",
    "            2. At least 1 number between [0-9]\n",
    "\n",
    "            1. At least 1 letter between [A-Z]\n",
    "\n",
    "            3. At least 1 character from [$#@]\n",
    "\n",
    "            4. Minimum length of transaction password: 6\n",
    "\n",
    "            5. Maximum length of transaction password: 12\n",
    "\n",
    "- Your program should accept a sequence of comma separated passwords and will check them according to the above criteria. Passwords that match the criteria are to be printed, each separated by a comma.\n",
    "\n",
    "        Example\n",
    "\n",
    "        If the following passwords are given as input to the program:\n",
    "\n",
    "        ABd1234@1,a F1#,2w3E*,2We3345\n",
    "\n",
    "        Then, the output of the program should be:\n",
    "\n",
    "        ABd1234@1\n"
   ]
  },
  {
   "cell_type": "code",
   "execution_count": 6,
   "id": "b66fa850",
   "metadata": {},
   "outputs": [
    {
     "name": "stdout",
     "output_type": "stream",
     "text": [
      "Your password should satisfy the below given conditions. \n",
      "1. At least 1 letter between [a-z] \n",
      "2. At least 1 number between [0-9] \n",
      "3. At least 1 letter between [A-Z] \n",
      "4. At least 1 character from [$#@] \n",
      "5. Minimum length of transaction password: 6 \n",
      "6. Maximum length of transaction password: 12\n",
      "\n",
      "Enter any three passwords satisfying the above conditions: iNeuron@124,iNeuron$fsds098,iNeuron#00\n",
      "\n",
      "Passwords satisfying the given conditions are:  ['iNeuron@124', 'iNeuron#00']\n"
     ]
    }
   ],
   "source": [
    "def validate_password(passwords):\n",
    "    valid_passwords = []\n",
    "    for password in passwords:\n",
    "        lower, upper, digits, char = 0, 0, 0, 0\n",
    "        if (len(password) >= 6 and len(password) <= 12):\n",
    "            for i in password:\n",
    "                if i.islower():\n",
    "                    lower += 1\n",
    "                if i.isupper():\n",
    "                    upper += 1\n",
    "                if i.isdigit():\n",
    "                    digits += 1\n",
    "                if (i=='@'or i=='$' or i=='#'):\n",
    "                    char += 1\n",
    "        if (lower>=1 and upper>=1 and digits>=1 and char>=1 and lower+upper+digits+char==len(password)):\n",
    "            valid_passwords.append(password)\n",
    "    return valid_passwords\n",
    "                    \n",
    "print(\"Your password should satisfy the below given conditions. \\n1. At least 1 letter between [a-z] \\n2. At least 1 number between [0-9] \\n3. At least 1 letter between [A-Z] \\n4. At least 1 character from [$#@] \\n5. Minimum length of transaction password: 6 \\n6. Maximum length of transaction password: 12\")\n",
    "passwords = [x for x in input('\\nEnter any three passwords satisfying the above conditions: ').split(',')]\n",
    "print(\"\\nPasswords satisfying the given conditions are: \", validate_password(passwords))"
   ]
  }
 ],
 "metadata": {
  "kernelspec": {
   "display_name": "Python 3",
   "language": "python",
   "name": "python3"
  },
  "language_info": {
   "codemirror_mode": {
    "name": "ipython",
    "version": 3
   },
   "file_extension": ".py",
   "mimetype": "text/x-python",
   "name": "python",
   "nbconvert_exporter": "python",
   "pygments_lexer": "ipython3",
   "version": "3.9.12"
  }
 },
 "nbformat": 4,
 "nbformat_minor": 5
}
