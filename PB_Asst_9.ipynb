{
 "cells": [
  {
   "cell_type": "markdown",
   "id": "fd9a40df",
   "metadata": {},
   "source": [
    "### Python Basics Assignment 9"
   ]
  },
  {
   "cell_type": "markdown",
   "id": "8c1b0e86",
   "metadata": {},
   "source": [
    "##### 1. To what does a relative path refer?"
   ]
  },
  {
   "cell_type": "markdown",
   "id": "80a3d349",
   "metadata": {},
   "source": [
    "- A relative path refers to a location that is relative to a current directory. Relative paths make use of two special symbols, a dot (.) and a double-dot (..), which translate into the current directory and the parent directory. Double dots are used for moving up in the hierarchy. A single dot represents the current directory itself."
   ]
  },
  {
   "cell_type": "code",
   "execution_count": 1,
   "id": "851ae4cd",
   "metadata": {},
   "outputs": [
    {
     "data": {
      "text/plain": [
       "WindowsPath('C:/Users/Daniel Stephenson/1 Practice Session/iNeuron/FSDS/Assignments')"
      ]
     },
     "execution_count": 1,
     "metadata": {},
     "output_type": "execute_result"
    }
   ],
   "source": [
    "from pathlib import Path\n",
    "Path.cwd()"
   ]
  },
  {
   "cell_type": "code",
   "execution_count": 2,
   "id": "ba70c899",
   "metadata": {},
   "outputs": [
    {
     "data": {
      "text/plain": [
       "'..\\\\..\\\\..\\\\..\\\\..'"
      ]
     },
     "execution_count": 2,
     "metadata": {},
     "output_type": "execute_result"
    }
   ],
   "source": [
    "import os\n",
    "os.path.relpath('C:/Users')"
   ]
  },
  {
   "cell_type": "code",
   "execution_count": 3,
   "id": "fd7b4717",
   "metadata": {},
   "outputs": [
    {
     "data": {
      "text/plain": [
       "'..\\\\..'"
      ]
     },
     "execution_count": 3,
     "metadata": {},
     "output_type": "execute_result"
    }
   ],
   "source": [
    "os.path.relpath('C:/Users/Daniel Stephenson/1 Practice Session/iNeuron')"
   ]
  },
  {
   "cell_type": "markdown",
   "id": "e0ab8faf",
   "metadata": {},
   "source": [
    "##### 2. What does an absolute path start with your operating system?"
   ]
  },
  {
   "cell_type": "markdown",
   "id": "d74ee479",
   "metadata": {},
   "source": [
    "- An absolute path, always begins with the root folder, which generally is C:/"
   ]
  },
  {
   "cell_type": "code",
   "execution_count": 4,
   "id": "aafb6273",
   "metadata": {},
   "outputs": [
    {
     "data": {
      "text/plain": [
       "'C:\\\\Users\\\\Daniel Stephenson\\\\1 Practice Session\\\\iNeuron\\\\FSDS\\\\Assignments'"
      ]
     },
     "execution_count": 4,
     "metadata": {},
     "output_type": "execute_result"
    }
   ],
   "source": [
    "os.path.abspath('.')"
   ]
  },
  {
   "cell_type": "code",
   "execution_count": 5,
   "id": "8309beb4",
   "metadata": {},
   "outputs": [
    {
     "data": {
      "text/plain": [
       "'C:\\\\Users\\\\Daniel Stephenson\\\\1 Practice Session\\\\iNeuron\\\\FSDS'"
      ]
     },
     "execution_count": 5,
     "metadata": {},
     "output_type": "execute_result"
    }
   ],
   "source": [
    "os.path.abspath('..')"
   ]
  },
  {
   "cell_type": "markdown",
   "id": "38692d65",
   "metadata": {},
   "source": [
    "##### 3. What do the functions os.getcwd() and os.chdir() do?"
   ]
  },
  {
   "cell_type": "markdown",
   "id": "6b9a2412",
   "metadata": {},
   "source": [
    "- os.getcwd() function is used to getting the current working directory as a string.\n",
    "- os.chdir() function is used to change the current working directory to another folder."
   ]
  },
  {
   "cell_type": "code",
   "execution_count": 6,
   "id": "f51e1b43",
   "metadata": {},
   "outputs": [
    {
     "data": {
      "text/plain": [
       "'C:\\\\Users\\\\Daniel Stephenson\\\\1 Practice Session\\\\iNeuron\\\\FSDS\\\\Assignments'"
      ]
     },
     "execution_count": 6,
     "metadata": {},
     "output_type": "execute_result"
    }
   ],
   "source": [
    "os.getcwd()"
   ]
  },
  {
   "cell_type": "code",
   "execution_count": 7,
   "id": "b3f6d7a9",
   "metadata": {},
   "outputs": [],
   "source": [
    "os.chdir('C:\\\\Users\\\\Daniel Stephenson\\\\1 Practice Session\\\\iNeuron')"
   ]
  },
  {
   "cell_type": "code",
   "execution_count": 8,
   "id": "0f4d2d32",
   "metadata": {},
   "outputs": [
    {
     "data": {
      "text/plain": [
       "'C:\\\\Users\\\\Daniel Stephenson\\\\1 Practice Session\\\\iNeuron'"
      ]
     },
     "execution_count": 8,
     "metadata": {},
     "output_type": "execute_result"
    }
   ],
   "source": [
    "os.getcwd()"
   ]
  },
  {
   "cell_type": "markdown",
   "id": "11339ee8",
   "metadata": {},
   "source": [
    "##### 4. What are the . and .. folders?"
   ]
  },
  {
   "cell_type": "markdown",
   "id": "ad65f201",
   "metadata": {},
   "source": [
    "- Dot (.) and Dot-Dot (..) folders are not real folders but special names that can be used in a path. A single period (“dot”) for a folder name is shorthand for “this directory.” Two periods (“dot-dot”) means “the parent folder.”"
   ]
  },
  {
   "cell_type": "markdown",
   "id": "871b519e",
   "metadata": {},
   "source": [
    "##### 5. In C:\\bacon\\eggs\\spam.txt, which part is the dir name, and which part is the base name?"
   ]
  },
  {
   "cell_type": "markdown",
   "id": "5f043362",
   "metadata": {},
   "source": [
    "- Calling os.path.dirname(path) will return a string of everything that comes before the last slash in the path argument. i.e. C:\\bacon\\eggs is the dir name.\n",
    "- Calling os.path.basename(path) will return a string of everything that comes after the last slash in the path argument. i.e. spam.txt is the basename. "
   ]
  },
  {
   "cell_type": "markdown",
   "id": "6963eae3",
   "metadata": {},
   "source": [
    "##### 6. What are the three “mode” arguments that can be passed to the open() function?"
   ]
  },
  {
   "cell_type": "markdown",
   "id": "5cb34d30",
   "metadata": {},
   "source": [
    "- Read mode 'r', When a file is opened in read mode, Python lets us only read data from the file; we can’t write or modify it in any way. Read mode is the default mode for files we open in Python.\n",
    "- Write mode 'w', allows us to write content to a file in a way similar to how the print() function “writes” strings to the screen. We can’t write to a file opened in read mode, though. Instead, we need to open it in “write plaintext” mode or “append plaintext” mode, or write mode and append mode for short. Write mode will overwrite the existing file and start from scratch, just like when we overwrite a variable’s value with a new value. Pass 'w' as the second argument to open() to open the file in write mode. \n",
    "- Append mode 'a', on the other hand, will append text to the end of the existing file. This is just as appending to a list in a variable, rather than overwriting the variable altogether. Pass 'a' as the second argument to open() to open the file in append mode. If the filename passed to open() does not exist, both write and append mode will create a new, blank file."
   ]
  },
  {
   "cell_type": "markdown",
   "id": "c6eeae73",
   "metadata": {},
   "source": [
    "##### 7. What happens if an existing file is opened in write mode?"
   ]
  },
  {
   "cell_type": "markdown",
   "id": "344a8eca",
   "metadata": {},
   "source": [
    "- If an existing file is opened in write mode, then write mode will overwrite the existing file and start from scratch, just like when we overwrite a variable’s value with a new value."
   ]
  },
  {
   "cell_type": "markdown",
   "id": "ed8739aa",
   "metadata": {},
   "source": [
    "##### 8. How do you tell the difference between read() and readlines()?"
   ]
  },
  {
   "cell_type": "markdown",
   "id": "e0db3a15",
   "metadata": {},
   "source": [
    "- The read() method returns the string that is stored in the file, in case, the contents of a file are considered as a single large string value.\n",
    "- Alternatively, the readlines() method is used to get a list of string values from the file, one string for each line of text."
   ]
  },
  {
   "cell_type": "markdown",
   "id": "ae4999ad",
   "metadata": {},
   "source": [
    "##### 9. What data structure does a shelf value resemble?"
   ]
  },
  {
   "cell_type": "markdown",
   "id": "524cd2ac",
   "metadata": {},
   "source": [
    "- A shelf value resembles a dictionary value; it has keys and values, along with keys() and values() methods that work similarly to the dictionary methods of the same names."
   ]
  }
 ],
 "metadata": {
  "kernelspec": {
   "display_name": "Python 3",
   "language": "python",
   "name": "python3"
  },
  "language_info": {
   "codemirror_mode": {
    "name": "ipython",
    "version": 3
   },
   "file_extension": ".py",
   "mimetype": "text/x-python",
   "name": "python",
   "nbconvert_exporter": "python",
   "pygments_lexer": "ipython3",
   "version": "3.9.12"
  }
 },
 "nbformat": 4,
 "nbformat_minor": 5
}
