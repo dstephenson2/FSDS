{
 "cells": [
  {
   "cell_type": "markdown",
   "id": "247599ef",
   "metadata": {},
   "source": [
    "### Python_Basics_Assignment_5"
   ]
  },
  {
   "cell_type": "markdown",
   "id": "0e165a5b",
   "metadata": {},
   "source": [
    "### 1) What does an empty dictionary's code look like?"
   ]
  },
  {
   "cell_type": "markdown",
   "id": "2e0210b9",
   "metadata": {},
   "source": [
    "- Generally, a dictionary is represented with key and a value pair within curly brackets. An empty dictionary code is just curly brackets {} without any key value pair. "
   ]
  },
  {
   "cell_type": "markdown",
   "id": "cc0ed34b",
   "metadata": {},
   "source": [
    "### 2) What is the value of a dictionary value with the key 'foo' and the value 42?"
   ]
  },
  {
   "cell_type": "markdown",
   "id": "8e41cbf2",
   "metadata": {},
   "source": [
    "- {'foo':42}"
   ]
  },
  {
   "cell_type": "code",
   "execution_count": 1,
   "id": "551c4780",
   "metadata": {},
   "outputs": [
    {
     "name": "stdout",
     "output_type": "stream",
     "text": [
      "{'foo': 42}\n"
     ]
    }
   ],
   "source": [
    "dict = {'foo':42}\n",
    "print(dict)"
   ]
  },
  {
   "cell_type": "markdown",
   "id": "d450123e",
   "metadata": {},
   "source": [
    "### 3) What is the most significant distinction between a dictionary and a list?"
   ]
  },
  {
   "cell_type": "markdown",
   "id": "10e8ab1c",
   "metadata": {},
   "source": [
    "- Dictionary is an unordered collection of Key-value pair enclosed within curly brackets '{}', generally used when we have a huge data, optimized for retrieving data.\n",
    "- Lists on the other hand are ordered sequence of items, separated by commas, enclosed within square brackets '[]'."
   ]
  },
  {
   "cell_type": "markdown",
   "id": "8c2d7323",
   "metadata": {},
   "source": [
    "### 4) What happens if you try to access spam['foo'] if spam is {'bar': 100}?"
   ]
  },
  {
   "cell_type": "markdown",
   "id": "41d0eab3",
   "metadata": {},
   "source": [
    "- spam is a dictionary with one key value pair, key being bar and value being 100, there are no other keys or values. Hence trying to access keys without defining them throws a KeyError as below."
   ]
  },
  {
   "cell_type": "code",
   "execution_count": 2,
   "id": "0b0371ff",
   "metadata": {},
   "outputs": [
    {
     "ename": "KeyError",
     "evalue": "'foo'",
     "output_type": "error",
     "traceback": [
      "\u001b[1;31m---------------------------------------------------------------------------\u001b[0m",
      "\u001b[1;31mKeyError\u001b[0m                                  Traceback (most recent call last)",
      "Input \u001b[1;32mIn [2]\u001b[0m, in \u001b[0;36m<cell line: 2>\u001b[1;34m()\u001b[0m\n\u001b[0;32m      1\u001b[0m spam \u001b[38;5;241m=\u001b[39m {\u001b[38;5;124m'\u001b[39m\u001b[38;5;124mbar\u001b[39m\u001b[38;5;124m'\u001b[39m: \u001b[38;5;241m100\u001b[39m}\n\u001b[1;32m----> 2\u001b[0m \u001b[43mspam\u001b[49m\u001b[43m[\u001b[49m\u001b[38;5;124;43m'\u001b[39;49m\u001b[38;5;124;43mfoo\u001b[39;49m\u001b[38;5;124;43m'\u001b[39;49m\u001b[43m]\u001b[49m\n",
      "\u001b[1;31mKeyError\u001b[0m: 'foo'"
     ]
    }
   ],
   "source": [
    "spam = {'bar': 100}\n",
    "spam['foo']"
   ]
  },
  {
   "cell_type": "markdown",
   "id": "a92ce563",
   "metadata": {},
   "source": [
    "### 5) If a dictionary is stored in spam, what is the difference between the expressions 'cat' in spam and 'cat' in spam.keys()?"
   ]
  },
  {
   "cell_type": "markdown",
   "id": "95c999a9",
   "metadata": {},
   "source": [
    "- Basically in operator works with iterables to check if an element is found in the iterable and returns a boolean value - True or False. Here, in the expression 'cat' in spam check if the operand 'cat' is present as key in spam dictionary. in operator return True or False according to whether the specified operand occurs as a key in the dictionary.\n",
    "- In this case, both expressions result in checking if 'cat' is present in spam as a key or not"
   ]
  },
  {
   "cell_type": "code",
   "execution_count": 3,
   "id": "b935e5f5",
   "metadata": {},
   "outputs": [],
   "source": [
    "spam = {'cat': 'mice'}"
   ]
  },
  {
   "cell_type": "code",
   "execution_count": 4,
   "id": "b6ead6ba",
   "metadata": {},
   "outputs": [
    {
     "data": {
      "text/plain": [
       "True"
      ]
     },
     "execution_count": 4,
     "metadata": {},
     "output_type": "execute_result"
    }
   ],
   "source": [
    "'cat' in spam"
   ]
  },
  {
   "cell_type": "code",
   "execution_count": 5,
   "id": "5dded9e0",
   "metadata": {},
   "outputs": [
    {
     "data": {
      "text/plain": [
       "True"
      ]
     },
     "execution_count": 5,
     "metadata": {},
     "output_type": "execute_result"
    }
   ],
   "source": [
    "'cat' in spam.keys()"
   ]
  },
  {
   "cell_type": "markdown",
   "id": "e5ab7ed3",
   "metadata": {},
   "source": [
    "### 6) If a dictionary is stored in spam, what is the difference between the expressions 'cat' in spam and 'cat' in spam.values()?"
   ]
  },
  {
   "cell_type": "markdown",
   "id": "510fa0f4",
   "metadata": {},
   "source": [
    "- Again here, in the expression 'cat' in spam checks if the operand 'cat' is present as key in spam dictionary. in operator return True or False according to whether the specified operand occurs as a key in the dictionary.\n",
    "- In the expression 'cat' in spam.values() checks if 'cat' is present in the dictionary as a value to any key."
   ]
  },
  {
   "cell_type": "markdown",
   "id": "e21e406b",
   "metadata": {},
   "source": [
    "### 7) What is a shortcut for the following code?"
   ]
  },
  {
   "cell_type": "markdown",
   "id": "4105cf00",
   "metadata": {},
   "source": [
    "if 'color' not in spam:\n",
    "spam['color'] = 'black'"
   ]
  },
  {
   "cell_type": "markdown",
   "id": "c8f7b811",
   "metadata": {},
   "source": [
    "- setdefault() inserts key with a value if key is not present\n",
    "    - spam.setdefault('color','black)"
   ]
  },
  {
   "cell_type": "markdown",
   "id": "1627e0e4",
   "metadata": {},
   "source": [
    "### 8) How do you \"pretty print\" dictionary values using which module and function?"
   ]
  },
  {
   "cell_type": "markdown",
   "id": "f9cc9a8f",
   "metadata": {},
   "source": [
    "- The pprint module in Python is a utility module that you can use to print data structures in a readable, pretty way. pprint module and pprint function is used to pretty print the dictionary values. \n",
    "        - pprint.pprint()."
   ]
  }
 ],
 "metadata": {
  "kernelspec": {
   "display_name": "Python 3",
   "language": "python",
   "name": "python3"
  },
  "language_info": {
   "codemirror_mode": {
    "name": "ipython",
    "version": 3
   },
   "file_extension": ".py",
   "mimetype": "text/x-python",
   "name": "python",
   "nbconvert_exporter": "python",
   "pygments_lexer": "ipython3",
   "version": "3.9.12"
  }
 },
 "nbformat": 4,
 "nbformat_minor": 5
}
