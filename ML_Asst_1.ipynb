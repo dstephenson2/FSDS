{
 "cells": [
  {
   "cell_type": "markdown",
   "id": "1975a62e",
   "metadata": {},
   "source": [
    "### ML Assignment 1"
   ]
  },
  {
   "cell_type": "markdown",
   "id": "4aee2211",
   "metadata": {},
   "source": [
    "##### 1. What does one mean by the term \"machine learning\"?"
   ]
  },
  {
   "cell_type": "markdown",
   "id": "0ff1fd47",
   "metadata": {},
   "source": [
    "- ML is the field of study that gives computers the ability to learn without being explicitly programmed. Machine Learning is the science of programming computers so they can learn from data."
   ]
  },
  {
   "cell_type": "markdown",
   "id": "d15b3c7f",
   "metadata": {},
   "source": [
    "##### 2.Can you think of 4 distinct types of issues where it shines?"
   ]
  },
  {
   "cell_type": "markdown",
   "id": "71c45db2",
   "metadata": {},
   "source": [
    "- To solve complex problems\n",
    "- To solve problems for which existing solutions require a lot of hand tuning\n",
    "- Fluctuating environments\n",
    "- Having large amount of data."
   ]
  },
  {
   "cell_type": "markdown",
   "id": "1e3619ea",
   "metadata": {},
   "source": [
    "##### 3.What is a labeled training set, and how does it work?"
   ]
  },
  {
   "cell_type": "markdown",
   "id": "9afd8785",
   "metadata": {},
   "source": [
    "- In supervised learning, the training data you feed to the algorithm includes the desired solutions, called labels. This is only called as labelled training set. This training set is trained with the help of  many examples which includes both predictors and labels and it must learn how to predict the outcome."
   ]
  },
  {
   "cell_type": "markdown",
   "id": "5071ad51",
   "metadata": {},
   "source": [
    "##### 4.What are the two most important tasks that are supervised?"
   ]
  },
  {
   "cell_type": "markdown",
   "id": "f94d196a",
   "metadata": {},
   "source": [
    "- Two most important tasks that are supervised are Regression & Classification."
   ]
  },
  {
   "cell_type": "markdown",
   "id": "a33cd011",
   "metadata": {},
   "source": [
    "##### 5.Can you think of four examples of unsupervised tasks?"
   ]
  },
  {
   "cell_type": "markdown",
   "id": "a7d266eb",
   "metadata": {},
   "source": [
    "- Clustering, Anomaly Detection, Dimensionality reduction and Association rule learning."
   ]
  },
  {
   "cell_type": "markdown",
   "id": "9e6da23b",
   "metadata": {},
   "source": [
    "##### 6.State the machine learning model that would be best to make a robot walk through various unfamiliar terrains?"
   ]
  },
  {
   "cell_type": "markdown",
   "id": "431923ed",
   "metadata": {},
   "source": [
    "- Reinforcement Learning."
   ]
  },
  {
   "cell_type": "markdown",
   "id": "9acc99a9",
   "metadata": {},
   "source": [
    "##### 7.Which algorithm will you use to divide your customers into different groups?"
   ]
  },
  {
   "cell_type": "markdown",
   "id": "27c1dc68",
   "metadata": {},
   "source": [
    "- Clustering algorithm"
   ]
  },
  {
   "cell_type": "markdown",
   "id": "728e5c28",
   "metadata": {},
   "source": [
    "##### 8.Will you consider the problem of spam detection to be a supervised or unsupervised learning problem?"
   ]
  },
  {
   "cell_type": "markdown",
   "id": "ef4cb9fb",
   "metadata": {},
   "source": [
    "- The spam filter is trained with many example emails along with their class – spam or ham, so that it will learn how to classify new emails. Hence, it comes under classification in supervised learning problem."
   ]
  },
  {
   "cell_type": "markdown",
   "id": "7001f539",
   "metadata": {},
   "source": [
    "##### 9.What is the concept of an online learning system?"
   ]
  },
  {
   "cell_type": "markdown",
   "id": "8b281556",
   "metadata": {},
   "source": [
    "- Training the system incrementally by feeding it data instances sequentially, either individually or by small groups making it capable of adapting rapidly to both changing data and autonomous systems, and of training on very large quantities of data"
   ]
  },
  {
   "cell_type": "markdown",
   "id": "a6c8e480",
   "metadata": {},
   "source": [
    "##### 10.What is out-of-core learning, and how does it differ from core learning?"
   ]
  },
  {
   "cell_type": "markdown",
   "id": "10c2aa3b",
   "metadata": {},
   "source": [
    "- Online Learning algorithms are used to train systems on huge datasets that cannot fit in one machines main memory. The algorithm loads part of the data, runs a taining step on that data and repeats the process until it has run on all the data. This is only known as out-of-core learning."
   ]
  },
  {
   "cell_type": "markdown",
   "id": "3cc24c8a",
   "metadata": {},
   "source": [
    "##### 11.What kind of learning algorithm makes predictions using a similarity measure?"
   ]
  },
  {
   "cell_type": "markdown",
   "id": "bd47308e",
   "metadata": {},
   "source": [
    "- Instance-based learning"
   ]
  },
  {
   "cell_type": "markdown",
   "id": "f083851e",
   "metadata": {},
   "source": [
    "##### 12.What's the difference between a model parameter and a hyperparameter in a learning algorithm?"
   ]
  },
  {
   "cell_type": "markdown",
   "id": "ec43caa0",
   "metadata": {},
   "source": [
    "- Each input feature has one weight attached to it which is of the model, known as model parameter. These model parameters determine what it will predict given a new instance. A hyperparameter is a parameter of the learning algorithm itself, not of the model."
   ]
  },
  {
   "cell_type": "markdown",
   "id": "2e5e4b96",
   "metadata": {},
   "source": [
    "##### 13.What are the criteria that model-based learning algorithms look for? What is the most popular method they use to achieve success? What method do they use to make predictions?"
   ]
  },
  {
   "cell_type": "markdown",
   "id": "3554adab",
   "metadata": {},
   "source": [
    "- The criteria the model looks for is optimal parameter values which will make the model perform best. This can be done through defining utility function that measures how good the model is or define cost function that measures how bad it is. Inorder to make predictions, we pass the test data or the new instances features into the models prediction function using the optimal model paratmeters."
   ]
  },
  {
   "cell_type": "markdown",
   "id": "cc5a71ee",
   "metadata": {},
   "source": [
    "##### 14.Can you name four of the most important Machine Learning challenges?"
   ]
  },
  {
   "cell_type": "markdown",
   "id": "8bd25509",
   "metadata": {},
   "source": [
    "- Insufficient quantity of Training Data\n",
    "- Non representative Training Data\n",
    "- Overfitting Training Data\n",
    "- Poor quality data"
   ]
  },
  {
   "cell_type": "markdown",
   "id": "837fc392",
   "metadata": {},
   "source": [
    "##### 15.What happens if the model performs well on the training data but fails to generalize the results to new situations? Can you think of three different options?"
   ]
  },
  {
   "cell_type": "markdown",
   "id": "1782187f",
   "metadata": {},
   "source": [
    "- If the model performs well on the training data but fails to generalize the results to new situations leads to overfitting the training data. We can overcome these situations by either gathering more data, reducing the number of features, reducing the noise in the training data."
   ]
  },
  {
   "cell_type": "markdown",
   "id": "1d74c752",
   "metadata": {},
   "source": [
    "##### 16.What exactly is a test set, and why would you need one?"
   ]
  },
  {
   "cell_type": "markdown",
   "id": "d286d739",
   "metadata": {},
   "source": [
    "- Test set is used to find the accuracy or error that the model gives after training the model using the model parameters. Basically, it generalizes the error that a model will make."
   ]
  },
  {
   "cell_type": "markdown",
   "id": "2987dd46",
   "metadata": {},
   "source": [
    "##### 17.What is a validation set's purpose?"
   ]
  },
  {
   "cell_type": "markdown",
   "id": "cb5ab4ef",
   "metadata": {},
   "source": [
    "- Validation set is one set further to testing of the model on the test set. It is used to fine tune the hyperparameters to attain best values for the model parameters."
   ]
  },
  {
   "cell_type": "markdown",
   "id": "4d701732",
   "metadata": {},
   "source": [
    "##### 18.What precisely is the train-dev kit, when will you need it, how do you put it to use?"
   ]
  },
  {
   "cell_type": "markdown",
   "id": "a047757a",
   "metadata": {},
   "source": [
    "- The validation set and test set should be a representative of the data we use in production. After training the model on the train set, we may observe that the performance of the model on the validation set is not so good, this may be due to overfitting. To solve such issue, we can hold out part of the training set in yet another set called as train-dev set. After the model is trained on both train  and train-dev set, evaluate the train-dev set. If it performs well then the model is not overfitting, if performs poorly on the validation set, the problem must may be due to the data mismatch."
   ]
  },
  {
   "cell_type": "markdown",
   "id": "4f362b0c",
   "metadata": {},
   "source": [
    "##### 19.What could go wrong if you use the test set to tune hyperparameters?"
   ]
  },
  {
   "cell_type": "markdown",
   "id": "ec6cff19",
   "metadata": {},
   "source": [
    "- The model will not be able to generalize the error properly, also using test set to tune hyperparameters may lead to dataleakage resulting in overfitting of the data. "
   ]
  }
 ],
 "metadata": {
  "kernelspec": {
   "display_name": "Python 3",
   "language": "python",
   "name": "python3"
  },
  "language_info": {
   "codemirror_mode": {
    "name": "ipython",
    "version": 3
   },
   "file_extension": ".py",
   "mimetype": "text/x-python",
   "name": "python",
   "nbconvert_exporter": "python",
   "pygments_lexer": "ipython3",
   "version": "3.9.12"
  }
 },
 "nbformat": 4,
 "nbformat_minor": 5
}
