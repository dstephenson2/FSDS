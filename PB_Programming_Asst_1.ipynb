{
 "cells": [
  {
   "cell_type": "markdown",
   "id": "626bf4d3",
   "metadata": {},
   "source": [
    "### Programming Assignment 1"
   ]
  },
  {
   "cell_type": "markdown",
   "id": "410ec580",
   "metadata": {},
   "source": [
    "##### 1.\tWrite a Python program to print \"Hello Python\"?"
   ]
  },
  {
   "cell_type": "code",
   "execution_count": 1,
   "id": "702ae4c1",
   "metadata": {},
   "outputs": [
    {
     "name": "stdout",
     "output_type": "stream",
     "text": [
      "Hello Python\n"
     ]
    }
   ],
   "source": [
    "print('Hello Python')"
   ]
  },
  {
   "cell_type": "markdown",
   "id": "d53b8917",
   "metadata": {},
   "source": [
    "##### 2.\tWrite a Python program to do arithmetical operations addition and division.?"
   ]
  },
  {
   "cell_type": "code",
   "execution_count": 2,
   "id": "78a70a2e",
   "metadata": {},
   "outputs": [
    {
     "name": "stdout",
     "output_type": "stream",
     "text": [
      "Addition of 20 and 10 is:30.00 \n",
      "Division of 20 by 10 is:2.00 \n"
     ]
    }
   ],
   "source": [
    "def add(a,b):\n",
    "    return a+b\n",
    "\n",
    "def div(a,b):\n",
    "    return a/b\n",
    "\n",
    "x = 20\n",
    "y = 10\n",
    "print(\"Addition of \" + str(x) + ' and ' + str(y) + ' is:%.2f ' % add(x,y))\n",
    "print(\"Division of \" + str(x) + ' by ' + str(y) + ' is:%.2f ' % div(x,y))"
   ]
  },
  {
   "cell_type": "markdown",
   "id": "7c206bfb",
   "metadata": {},
   "source": [
    "##### 3.\tWrite a Python program to find the area of a triangle?"
   ]
  },
  {
   "cell_type": "code",
   "execution_count": 3,
   "id": "ae438ccd",
   "metadata": {},
   "outputs": [
    {
     "name": "stdout",
     "output_type": "stream",
     "text": [
      "Area of triangle with 10 as base and 5 as height is: 25.00 \n"
     ]
    }
   ],
   "source": [
    "def area_triangle(b,h):\n",
    "    return (0.5*b*h)\n",
    "\n",
    "x = 10\n",
    "y = 5\n",
    "print(\"Area of triangle with \" + str(x) + ' as base and ' + str(y) + ' as height is: %.2f ' %(area_triangle(x,y)))"
   ]
  },
  {
   "cell_type": "markdown",
   "id": "170d98c0",
   "metadata": {},
   "source": [
    "##### 4.\tWrite a Python program to swap two variables?"
   ]
  },
  {
   "cell_type": "code",
   "execution_count": 1,
   "id": "de3035e4",
   "metadata": {},
   "outputs": [
    {
     "name": "stdout",
     "output_type": "stream",
     "text": [
      "The acutal value of x is 10.00 and y is 7.00\n",
      "Values of x and y after swapping are 7.00 and 10.00 respectively\n"
     ]
    }
   ],
   "source": [
    "def swap(a,b):\n",
    "    temp = a\n",
    "    a = b\n",
    "    b = temp\n",
    "    return (a, b)\n",
    "\n",
    "x = 10\n",
    "y = 7\n",
    "print('The acutal value of x is %0.2f and y is %0.2f' %(x,y))\n",
    "print('Values of x and y after swapping are %0.2f and %0.2f respectively' %(swap(x,y)))"
   ]
  },
  {
   "cell_type": "markdown",
   "id": "eb8c2cbe",
   "metadata": {},
   "source": [
    "##### 5.\tWrite a Python program to generate a random number?"
   ]
  },
  {
   "cell_type": "code",
   "execution_count": 6,
   "id": "29b48221",
   "metadata": {},
   "outputs": [
    {
     "name": "stdout",
     "output_type": "stream",
     "text": [
      "0.7439304442732859\n"
     ]
    }
   ],
   "source": [
    "import random\n",
    "n = random.random() # generates float number\n",
    "print(n)"
   ]
  },
  {
   "cell_type": "code",
   "execution_count": 7,
   "id": "db07d4f6",
   "metadata": {},
   "outputs": [
    {
     "name": "stdout",
     "output_type": "stream",
     "text": [
      "25\n"
     ]
    }
   ],
   "source": [
    "import random\n",
    "x = random.randint(0,50) # generates random number between 0 to 50\n",
    "print(x)"
   ]
  }
 ],
 "metadata": {
  "kernelspec": {
   "display_name": "Python 3",
   "language": "python",
   "name": "python3"
  },
  "language_info": {
   "codemirror_mode": {
    "name": "ipython",
    "version": 3
   },
   "file_extension": ".py",
   "mimetype": "text/x-python",
   "name": "python",
   "nbconvert_exporter": "python",
   "pygments_lexer": "ipython3",
   "version": "3.9.12"
  }
 },
 "nbformat": 4,
 "nbformat_minor": 5
}
