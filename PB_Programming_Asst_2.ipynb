{
 "cells": [
  {
   "cell_type": "markdown",
   "id": "6c5e2649",
   "metadata": {},
   "source": [
    "### Python Basics Programming Assignment 2"
   ]
  },
  {
   "cell_type": "markdown",
   "id": "b51ebab3",
   "metadata": {},
   "source": [
    "##### 1.\tWrite a Python program to convert kilometers to miles?"
   ]
  },
  {
   "cell_type": "code",
   "execution_count": 1,
   "id": "395a6922",
   "metadata": {},
   "outputs": [
    {
     "name": "stdout",
     "output_type": "stream",
     "text": [
      "Please enter value in Kilometers: 3.5\n",
      "3.50 Kilometers is equal to 2.17 miles\n"
     ]
    }
   ],
   "source": [
    "def km_to_mls(a):\n",
    "    return (a * 0.621371)\n",
    "\n",
    "x = float(input(\"Please enter value in Kilometers: \"))\n",
    "print(\"%.2f Kilometers is equal to %.2f miles\" %(x, km_to_mls(x)))"
   ]
  },
  {
   "cell_type": "markdown",
   "id": "6b2b56a1",
   "metadata": {},
   "source": [
    "##### 2.\tWrite a Python program to convert Celsius to Fahrenheit?"
   ]
  },
  {
   "cell_type": "code",
   "execution_count": 2,
   "id": "33dc1c1d",
   "metadata": {},
   "outputs": [
    {
     "name": "stdout",
     "output_type": "stream",
     "text": [
      "Please enter temperature in Degrees Celsius: 3\n",
      "3.00 degrees Celsius is equal to 37.40 degrees fahrenheit\n"
     ]
    }
   ],
   "source": [
    "def cls_to_frnht(a):\n",
    "    return ((a*9/5) + 32)\n",
    "\n",
    "x = float(input(\"Please enter temperature in Degrees Celsius: \"))\n",
    "print(\"%.2f degrees Celsius is equal to %.2f degrees fahrenheit\" %(x, cls_to_frnht(x)))"
   ]
  },
  {
   "cell_type": "markdown",
   "id": "f85d064e",
   "metadata": {},
   "source": [
    "##### 3.\tWrite a Python program to display calendar?"
   ]
  },
  {
   "cell_type": "code",
   "execution_count": 3,
   "id": "42786089",
   "metadata": {},
   "outputs": [
    {
     "name": "stdout",
     "output_type": "stream",
     "text": [
      "                                  2022\n",
      "\n",
      "      January                   February                   March\n",
      "Mo Tu We Th Fr Sa Su      Mo Tu We Th Fr Sa Su      Mo Tu We Th Fr Sa Su\n",
      "                1  2          1  2  3  4  5  6          1  2  3  4  5  6\n",
      " 3  4  5  6  7  8  9       7  8  9 10 11 12 13       7  8  9 10 11 12 13\n",
      "10 11 12 13 14 15 16      14 15 16 17 18 19 20      14 15 16 17 18 19 20\n",
      "17 18 19 20 21 22 23      21 22 23 24 25 26 27      21 22 23 24 25 26 27\n",
      "24 25 26 27 28 29 30      28                        28 29 30 31\n",
      "31\n",
      "\n",
      "       April                      May                       June\n",
      "Mo Tu We Th Fr Sa Su      Mo Tu We Th Fr Sa Su      Mo Tu We Th Fr Sa Su\n",
      "             1  2  3                         1             1  2  3  4  5\n",
      " 4  5  6  7  8  9 10       2  3  4  5  6  7  8       6  7  8  9 10 11 12\n",
      "11 12 13 14 15 16 17       9 10 11 12 13 14 15      13 14 15 16 17 18 19\n",
      "18 19 20 21 22 23 24      16 17 18 19 20 21 22      20 21 22 23 24 25 26\n",
      "25 26 27 28 29 30         23 24 25 26 27 28 29      27 28 29 30\n",
      "                          30 31\n",
      "\n",
      "        July                     August                  September\n",
      "Mo Tu We Th Fr Sa Su      Mo Tu We Th Fr Sa Su      Mo Tu We Th Fr Sa Su\n",
      "             1  2  3       1  2  3  4  5  6  7                1  2  3  4\n",
      " 4  5  6  7  8  9 10       8  9 10 11 12 13 14       5  6  7  8  9 10 11\n",
      "11 12 13 14 15 16 17      15 16 17 18 19 20 21      12 13 14 15 16 17 18\n",
      "18 19 20 21 22 23 24      22 23 24 25 26 27 28      19 20 21 22 23 24 25\n",
      "25 26 27 28 29 30 31      29 30 31                  26 27 28 29 30\n",
      "\n",
      "      October                   November                  December\n",
      "Mo Tu We Th Fr Sa Su      Mo Tu We Th Fr Sa Su      Mo Tu We Th Fr Sa Su\n",
      "                1  2          1  2  3  4  5  6                1  2  3  4\n",
      " 3  4  5  6  7  8  9       7  8  9 10 11 12 13       5  6  7  8  9 10 11\n",
      "10 11 12 13 14 15 16      14 15 16 17 18 19 20      12 13 14 15 16 17 18\n",
      "17 18 19 20 21 22 23      21 22 23 24 25 26 27      19 20 21 22 23 24 25\n",
      "24 25 26 27 28 29 30      28 29 30                  26 27 28 29 30 31\n",
      "31\n",
      "\n"
     ]
    }
   ],
   "source": [
    "import calendar\n",
    "\n",
    "print(calendar.calendar(2022))"
   ]
  },
  {
   "cell_type": "markdown",
   "id": "f8453298",
   "metadata": {},
   "source": [
    "##### 4.\tWrite a Python program to solve quadratic equation?"
   ]
  },
  {
   "cell_type": "code",
   "execution_count": 4,
   "id": "4288dd7a",
   "metadata": {},
   "outputs": [
    {
     "name": "stdout",
     "output_type": "stream",
     "text": [
      "Enter the coefficient of x2: 10\n",
      "Enter the coefficient of x: 5\n",
      "Enter the coefficient of constant: 2\n",
      "The solutions of the quadratic equation are (-0.25-0.37080992435478316j) and (-0.25+0.37080992435478316j)\n"
     ]
    }
   ],
   "source": [
    "import cmath\n",
    "  \n",
    "a = float(input(\"Enter the coefficient of x2: \"))\n",
    "b = float(input(\"Enter the coefficient of x: \"))\n",
    "c = float(input(\"Enter the coefficient of constant: \"))\n",
    "  \n",
    "# calculating  the discriminant\n",
    "dis = (b**2) - (4*a*c)\n",
    "  \n",
    "# find two results\n",
    "ans1 = (-b-cmath.sqrt(dis))/(2 * a)\n",
    "ans2 = (-b + cmath.sqrt(dis))/(2 * a)\n",
    "  \n",
    "# printing the results\n",
    "print('The solutions of the quadratic equation are {0} and {1}'.format(ans1,ans2))"
   ]
  },
  {
   "cell_type": "markdown",
   "id": "01ce9ce1",
   "metadata": {},
   "source": [
    "##### 5.\tWrite a Python program to swap two variables without temp variable?"
   ]
  },
  {
   "cell_type": "code",
   "execution_count": 5,
   "id": "2f73cf99",
   "metadata": {},
   "outputs": [
    {
     "name": "stdout",
     "output_type": "stream",
     "text": [
      "Enter any numerical value: 5\n",
      "Enter any numerical value: 10\n",
      "Swapped values of x is 10 and y is 5\n"
     ]
    }
   ],
   "source": [
    "x = int(input(\"Enter any numerical value: \"))\n",
    "y = int(input(\"Enter any numerical value: \"))\n",
    "\n",
    "x, y = y, x\n",
    "print(\"Swapped values of x is {0} and y is {1}\".format(x,y))"
   ]
  }
 ],
 "metadata": {
  "kernelspec": {
   "display_name": "Python 3",
   "language": "python",
   "name": "python3"
  },
  "language_info": {
   "codemirror_mode": {
    "name": "ipython",
    "version": 3
   },
   "file_extension": ".py",
   "mimetype": "text/x-python",
   "name": "python",
   "nbconvert_exporter": "python",
   "pygments_lexer": "ipython3",
   "version": "3.9.12"
  }
 },
 "nbformat": 4,
 "nbformat_minor": 5
}
