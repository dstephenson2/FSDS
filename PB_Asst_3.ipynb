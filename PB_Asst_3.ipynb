{
 "cells": [
  {
   "cell_type": "markdown",
   "id": "090b7330",
   "metadata": {},
   "source": [
    "### Python_Basics_Assignment_3"
   ]
  },
  {
   "cell_type": "markdown",
   "id": "50797aa4",
   "metadata": {},
   "source": [
    "### 1) Why are functions advantageous to have in your programs?"
   ]
  },
  {
   "cell_type": "markdown",
   "id": "e7b5ea6d",
   "metadata": {},
   "source": [
    "- Whereever there is a need for same computation/code to be done repeatedly but with various values and at different instances, instead of writing the code again and again, we can just modularize the code into one single function and call it whenever required. Functions reduces the complexity of writing the program steps again and again. The program can be split into small understandable and easily executable chunks of code for each execution step and each part can be called as and when required. We can also write customized functions as per the requirement i.e user defined."
   ]
  },
  {
   "cell_type": "markdown",
   "id": "77b3625b",
   "metadata": {},
   "source": [
    "### 2) When does the code in a function run: when it's specified or when it's called?"
   ]
  },
  {
   "cell_type": "markdown",
   "id": "cb1ca7a1",
   "metadata": {},
   "source": [
    "- The code in a function runs when it is called by just mentioning the name of the function and passing the required arguments."
   ]
  },
  {
   "cell_type": "markdown",
   "id": "d6359a93",
   "metadata": {},
   "source": [
    "### 3) What statement creates a function?"
   ]
  },
  {
   "cell_type": "markdown",
   "id": "8d0ca07b",
   "metadata": {},
   "source": [
    "- A function is created by keyword def i.e. defining a function."
   ]
  },
  {
   "cell_type": "markdown",
   "id": "efe8975b",
   "metadata": {},
   "source": [
    "### 4) What is the difference between a function and a function call?"
   ]
  },
  {
   "cell_type": "markdown",
   "id": "e9acd8e9",
   "metadata": {},
   "source": [
    "- Basically, function is a group of related statement that perform a particular task and returns a result. While a function call on the other hand is used after defining the funciton, to perform its task. The function call passes the control of the program execution to the function when it is called. Without a function call there is no performing of the task for which a function is written."
   ]
  },
  {
   "cell_type": "markdown",
   "id": "1d2c23d5",
   "metadata": {},
   "source": [
    "### 5) How many global scopes are there in a Python program? How many local scopes?"
   ]
  },
  {
   "cell_type": "markdown",
   "id": "f4d4f3bc",
   "metadata": {},
   "source": [
    "- Global scope means a name which can be used throughout the entire code, hence a global scope is just one, while a local scope is when you assign a variable a value within a function and is only available within that particular function/code, hence local scopes are when ever a function is called."
   ]
  },
  {
   "cell_type": "markdown",
   "id": "d451516c",
   "metadata": {},
   "source": [
    "### 6) What happens to variables in a local scope when the function call returns?"
   ]
  },
  {
   "cell_type": "markdown",
   "id": "0f66b2d4",
   "metadata": {},
   "source": [
    "- The variables defined inside a function, exists only when the function is executed. The lifetime of these variables, which are local, begins when the function is called and ends when the function completes its execution. when the function call returns then these local variables are destroyed."
   ]
  },
  {
   "cell_type": "markdown",
   "id": "77eac341",
   "metadata": {},
   "source": [
    "### 7) What is the concept of a return value? Is it possible to have a return value in an expression?"
   ]
  },
  {
   "cell_type": "markdown",
   "id": "58de27d8",
   "metadata": {},
   "source": [
    "- Functions with return keyword at the end of the function will return a computed value which will be further utilized in the main program where the function call is made. Functions generally return None type hence further computations will be not be possible. Function with return will return the value of someother datatype other than None making it feasible for further computations. Also, Return statement causes the function to return a value and returns the flow of control back to the program where the function call is made.\n",
    "\n",
    "- Yes, it is possible to have a return value in an expression. By return value having an expression, we can avoid creating local variables."
   ]
  },
  {
   "cell_type": "markdown",
   "id": "da790d58",
   "metadata": {},
   "source": [
    "### 8) If a function does not have a return statement, what is the return value of a call to that function?"
   ]
  },
  {
   "cell_type": "markdown",
   "id": "60b85c9c",
   "metadata": {},
   "source": [
    "- Generally functions return the value None unless there is an explicit return statement with a value other than None."
   ]
  },
  {
   "cell_type": "markdown",
   "id": "526f9b26",
   "metadata": {},
   "source": [
    "### 9) How do you make a function variable refer to the global variable?"
   ]
  },
  {
   "cell_type": "markdown",
   "id": "4d3a4444",
   "metadata": {},
   "source": [
    "- Inorder to make a function variable refer to the global variable, we will have to use global keyword e.g. global x, x=20"
   ]
  },
  {
   "cell_type": "markdown",
   "id": "a065f8c3",
   "metadata": {},
   "source": [
    "### 10) What is the data type of None?"
   ]
  },
  {
   "cell_type": "markdown",
   "id": "47122b64",
   "metadata": {},
   "source": [
    "- Basically None is a keyword to define a null variable . Here in Python, None keyword is a data type of the class NoneType . "
   ]
  },
  {
   "cell_type": "markdown",
   "id": "704ca401",
   "metadata": {},
   "source": [
    "### 11) What does the sentence import areallyourpetsnamederic do?"
   ]
  },
  {
   "cell_type": "markdown",
   "id": "0210c40d",
   "metadata": {},
   "source": [
    "- The sentence imports the module named areallyourpetsnamederic from the directory where it is stored."
   ]
  },
  {
   "cell_type": "markdown",
   "id": "303c1439",
   "metadata": {},
   "source": [
    "### 12) If you had a bacon() feature in a spam module, what would you call it after importing spam?"
   ]
  },
  {
   "cell_type": "markdown",
   "id": "b37ece36",
   "metadata": {},
   "source": [
    "- A feature bacon() once imported to the working file is called a function, and called with spam.bacon()"
   ]
  },
  {
   "cell_type": "markdown",
   "id": "753821a3",
   "metadata": {},
   "source": [
    "### 13) What can you do to save a programme from crashing if it encounters an error?"
   ]
  },
  {
   "cell_type": "markdown",
   "id": "c951a706",
   "metadata": {},
   "source": [
    "- We can save a programme from crashing if it encounters an error by Using try and except clause"
   ]
  },
  {
   "cell_type": "markdown",
   "id": "1cf1cc7f",
   "metadata": {},
   "source": [
    "### 14) What is the purpose of the try clause? What is the purpose of the except clause?"
   ]
  },
  {
   "cell_type": "markdown",
   "id": "34db79ae",
   "metadata": {},
   "source": [
    "- Many a times we write programs and get errors when something in it goes wrong. This causes the process to stop and the control is passed to the main program where the call is made and if not handled properly the program is halted. Try statement is used to handle such exceptions. Where ever we think such errors may happen we can place the operation in try clause and the code can be written in except clause. We should specify which exceptions an except clause should catch, else all exceptions will be handled in the same way"
   ]
  }
 ],
 "metadata": {
  "kernelspec": {
   "display_name": "Python 3",
   "language": "python",
   "name": "python3"
  },
  "language_info": {
   "codemirror_mode": {
    "name": "ipython",
    "version": 3
   },
   "file_extension": ".py",
   "mimetype": "text/x-python",
   "name": "python",
   "nbconvert_exporter": "python",
   "pygments_lexer": "ipython3",
   "version": "3.9.12"
  }
 },
 "nbformat": 4,
 "nbformat_minor": 5
}
