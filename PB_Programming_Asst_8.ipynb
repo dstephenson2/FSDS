{
 "cells": [
  {
   "cell_type": "markdown",
   "id": "dbc25c7e",
   "metadata": {},
   "source": [
    "### PB Programming Assignment 8"
   ]
  },
  {
   "cell_type": "markdown",
   "id": "7b2e2c94",
   "metadata": {},
   "source": [
    "##### 1.\tWrite a Python Program to Add Two Matrices?"
   ]
  },
  {
   "cell_type": "code",
   "execution_count": 1,
   "id": "6e1c872f",
   "metadata": {},
   "outputs": [
    {
     "name": "stdout",
     "output_type": "stream",
     "text": [
      "[2, 2, 2]\n",
      "[2, 2, 2]\n",
      "[2, 2, 2]\n"
     ]
    }
   ],
   "source": [
    "X = [[1,1,1],\n",
    "    [1,1,1],\n",
    "    [1,1,1]]\n",
    "\n",
    "Y = [[1,1,1],\n",
    "    [1,1,1],\n",
    "    [1,1,1]]\n",
    "\n",
    "result = [[1,1,1],\n",
    "         [1,1,1],\n",
    "         [1,1,1]]\n",
    "\n",
    "# iterate through rows\n",
    "for i in range(len(X)):\n",
    "   # iterate through columns\n",
    "   for j in range(len(X[0])):\n",
    "        result[i][j] = X[i][j] + Y[i][j]\n",
    "\n",
    "for r in result:\n",
    "       print(r)"
   ]
  },
  {
   "cell_type": "markdown",
   "id": "e8698a8a",
   "metadata": {},
   "source": [
    "##### 2.\tWrite a Python Program to Multiply Two Matrices?"
   ]
  },
  {
   "cell_type": "code",
   "execution_count": 2,
   "id": "bd147ec1",
   "metadata": {},
   "outputs": [
    {
     "name": "stdout",
     "output_type": "stream",
     "text": [
      "[10, 10, 10, 10]\n",
      "[10, 10, 10, 10]\n",
      "[10, 10, 10, 10]\n"
     ]
    }
   ],
   "source": [
    "X = [[1,1,1],\n",
    "    [1,1,1],\n",
    "    [1,1,1]]\n",
    "\n",
    "Y = [[2,2,2,2],\n",
    "    [3,3,3,3],\n",
    "    [4,4,4,4]]\n",
    "\n",
    "result = [[1,1,1,1],\n",
    "         [1,1,1,1],\n",
    "         [1,1,1,1]]\n",
    "\n",
    "\n",
    "for i in range(len(X)):\n",
    "    for j in range(len(Y[0])):\n",
    "        for k in range(len(Y)):\n",
    "            result[i][j] += X[i][k] * Y[k][j]\n",
    "\n",
    "for r in result:\n",
    "    print(r)"
   ]
  },
  {
   "cell_type": "markdown",
   "id": "4a6965f9",
   "metadata": {},
   "source": [
    "##### 3.\tWrite a Python Program to Transpose a Matrix?"
   ]
  },
  {
   "cell_type": "code",
   "execution_count": 3,
   "id": "3d10b54b",
   "metadata": {},
   "outputs": [
    {
     "name": "stdout",
     "output_type": "stream",
     "text": [
      "[2, 3, 4]\n",
      "[2, 3, 4]\n",
      "[2, 3, 4]\n",
      "[2, 3, 4]\n"
     ]
    }
   ],
   "source": [
    "X = [[2,2,2,2],\n",
    "    [3,3,3,3],\n",
    "    [4,4,4,4]]\n",
    "\n",
    "result = [[0,0,0],\n",
    "         [0,0,0],\n",
    "         [0,0,0],\n",
    "         [0,0,0]]\n",
    "\n",
    "for i in range(len(X)):\n",
    "    for j in range(len(X[0])):\n",
    "        result[j][i] = X[i][j]\n",
    "\n",
    "for r in result:\n",
    "       print(r)"
   ]
  },
  {
   "cell_type": "markdown",
   "id": "b3284afb",
   "metadata": {},
   "source": [
    "##### 4.\tWrite a Python Program to Sort Words in Alphabetic Order?"
   ]
  },
  {
   "cell_type": "code",
   "execution_count": 4,
   "id": "a22247f9",
   "metadata": {},
   "outputs": [
    {
     "name": "stdout",
     "output_type": "stream",
     "text": [
      "Enter a string: Sort words in alpha order\n",
      "alpha\n",
      "in\n",
      "order\n",
      "sort\n",
      "words\n"
     ]
    }
   ],
   "source": [
    "strng = input(\"Enter a string: \")\n",
    "words = [word.lower() for word in strng.split()]\n",
    "words.sort()\n",
    "for word in words:\n",
    "    print(word)"
   ]
  },
  {
   "cell_type": "markdown",
   "id": "1a5ddb20",
   "metadata": {},
   "source": [
    "##### 5.\tWrite a Python Program to Remove Punctuation From a String?"
   ]
  },
  {
   "cell_type": "code",
   "execution_count": 5,
   "id": "12cb373d",
   "metadata": {},
   "outputs": [
    {
     "name": "stdout",
     "output_type": "stream",
     "text": [
      "Enter a string: Hi!!! Mr.Jason, Where are you going?\n",
      "Hi MrJason Where are you going\n"
     ]
    }
   ],
   "source": [
    "def remove_punc(strng):\n",
    "    punctuations = '''!()-[]{};:'\"\\,<>./?@#$%^&*_~'''\n",
    "    punct_remove = \"\"\n",
    "    for i in strng:\n",
    "        if i not in punctuations:\n",
    "            punct_remove = punct_remove + i\n",
    "    return punct_remove\n",
    "\n",
    "strng = input(\"Enter a string: \")\n",
    "print(remove_punc(strng))"
   ]
  }
 ],
 "metadata": {
  "kernelspec": {
   "display_name": "Python 3",
   "language": "python",
   "name": "python3"
  },
  "language_info": {
   "codemirror_mode": {
    "name": "ipython",
    "version": 3
   },
   "file_extension": ".py",
   "mimetype": "text/x-python",
   "name": "python",
   "nbconvert_exporter": "python",
   "pygments_lexer": "ipython3",
   "version": "3.9.12"
  }
 },
 "nbformat": 4,
 "nbformat_minor": 5
}
