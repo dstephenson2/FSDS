{
 "cells": [
  {
   "cell_type": "code",
   "execution_count": 1,
   "id": "67dc0af2",
   "metadata": {},
   "outputs": [],
   "source": [
    "from flask import Flask, request, jsonify, render_template\n",
    "from bs4 import BeautifulSoup as bs\n",
    "from urllib.request import urlopen as urReq"
   ]
  },
  {
   "cell_type": "code",
   "execution_count": 2,
   "id": "0b45f5f7",
   "metadata": {},
   "outputs": [],
   "source": [
    "flip_url = \"https://www.flipkart.com/search?q=\"+\"oneplus\""
   ]
  },
  {
   "cell_type": "code",
   "execution_count": 3,
   "id": "7ce82d48",
   "metadata": {},
   "outputs": [
    {
     "data": {
      "text/plain": [
       "'https://www.flipkart.com/search?q=oneplus'"
      ]
     },
     "execution_count": 3,
     "metadata": {},
     "output_type": "execute_result"
    }
   ],
   "source": [
    "flip_url"
   ]
  },
  {
   "cell_type": "code",
   "execution_count": 4,
   "id": "d81d08eb",
   "metadata": {},
   "outputs": [],
   "source": [
    "response_website = urReq(flip_url)"
   ]
  },
  {
   "cell_type": "code",
   "execution_count": 5,
   "id": "69eb1a43",
   "metadata": {},
   "outputs": [
    {
     "data": {
      "text/plain": [
       "<http.client.HTTPResponse at 0x1f7c9ac9580>"
      ]
     },
     "execution_count": 5,
     "metadata": {},
     "output_type": "execute_result"
    }
   ],
   "source": [
    "response_website"
   ]
  },
  {
   "cell_type": "code",
   "execution_count": 6,
   "id": "d092bf58",
   "metadata": {},
   "outputs": [],
   "source": [
    "data_flipkart = response_website.read()"
   ]
  },
  {
   "cell_type": "code",
   "execution_count": 7,
   "id": "4919d08f",
   "metadata": {},
   "outputs": [],
   "source": [
    "beautified_data_flipkart = bs(data_flipkart, \"html.parser\")"
   ]
  },
  {
   "cell_type": "code",
   "execution_count": 8,
   "id": "7eddd1cd",
   "metadata": {},
   "outputs": [],
   "source": [
    "bigbox = beautified_data_flipkart.find_all('div',{'class':'_1AtVbE col-12-12'})"
   ]
  },
  {
   "cell_type": "code",
   "execution_count": 9,
   "id": "93f87899",
   "metadata": {},
   "outputs": [
    {
     "data": {
      "text/plain": [
       "15"
      ]
     },
     "execution_count": 9,
     "metadata": {},
     "output_type": "execute_result"
    }
   ],
   "source": [
    "len(bigbox)"
   ]
  },
  {
   "cell_type": "code",
   "execution_count": 10,
   "id": "0f5cc5ac",
   "metadata": {},
   "outputs": [
    {
     "data": {
      "text/plain": [
       "'/oneplus-9-5g-astral-black-128-gb/p/itm6e4e8a7b40c8d?pid=MOBGDH2PKQMJZFVP&lid=LSTMOBGDH2PKQMJZFVPKYYYZ9&marketplace=FLIPKART&q=oneplus&store=search.flipkart.com&srno=s_1_9&otracker=search&fm=organic&iid=a6bab3fc-f42a-4d7f-83dd-31718e55fad9.MOBGDH2PKQMJZFVP.SEARCH&ppt=None&ppn=None&ssid=meuo98bi2o0000001662813233432&qH=43780d550576947f'"
      ]
     },
     "execution_count": 10,
     "metadata": {},
     "output_type": "execute_result"
    }
   ],
   "source": [
    "bigbox[3].div.div.div.a['href']"
   ]
  },
  {
   "cell_type": "code",
   "execution_count": 11,
   "id": "ccdcb64b",
   "metadata": {},
   "outputs": [],
   "source": [
    "product_3 = \"https://www.flipkart.com\"+ bigbox[3].div.div.div.a['href']"
   ]
  },
  {
   "cell_type": "code",
   "execution_count": 12,
   "id": "a4504fb3",
   "metadata": {},
   "outputs": [
    {
     "data": {
      "text/plain": [
       "'https://www.flipkart.com/oneplus-9-5g-astral-black-128-gb/p/itm6e4e8a7b40c8d?pid=MOBGDH2PKQMJZFVP&lid=LSTMOBGDH2PKQMJZFVPKYYYZ9&marketplace=FLIPKART&q=oneplus&store=search.flipkart.com&srno=s_1_9&otracker=search&fm=organic&iid=a6bab3fc-f42a-4d7f-83dd-31718e55fad9.MOBGDH2PKQMJZFVP.SEARCH&ppt=None&ppn=None&ssid=meuo98bi2o0000001662813233432&qH=43780d550576947f'"
      ]
     },
     "execution_count": 12,
     "metadata": {},
     "output_type": "execute_result"
    }
   ],
   "source": [
    "product_3"
   ]
  },
  {
   "cell_type": "code",
   "execution_count": 13,
   "id": "f2f8b2db",
   "metadata": {},
   "outputs": [
    {
     "data": {
      "text/plain": [
       "https://www.flipkart.com/oneplus-9-5g-astral-black-128-gb/p/itm6e4e8a7b40c8d?pid=MOBGDH2PKQMJZFVP&amp;lid=LSTMOBGDH2PKQMJZFVPKYYYZ9&amp;marketplace=FLIPKART&amp;q=oneplus&amp;store=search.flipkart.com&amp;srno=s_1_9&amp;otracker=search&amp;fm=organic&amp;iid=a6bab3fc-f42a-4d7f-83dd-31718e55fad9.MOBGDH2PKQMJZFVP.SEARCH&amp;ppt=None&amp;ppn=None&amp;ssid=meuo98bi2o0000001662813233432&amp;qH=43780d550576947f"
      ]
     },
     "execution_count": 13,
     "metadata": {},
     "output_type": "execute_result"
    }
   ],
   "source": [
    "bs(product_3,\"html.parser\")"
   ]
  },
  {
   "cell_type": "code",
   "execution_count": 14,
   "id": "f49763e8",
   "metadata": {},
   "outputs": [],
   "source": [
    "import requests\n",
    "flip_prod_3 = requests.get(product_3)"
   ]
  },
  {
   "cell_type": "code",
   "execution_count": 15,
   "id": "b8844581",
   "metadata": {},
   "outputs": [
    {
     "data": {
      "text/plain": [
       "<Response [200]>"
      ]
     },
     "execution_count": 15,
     "metadata": {},
     "output_type": "execute_result"
    }
   ],
   "source": [
    "flip_prod_3"
   ]
  },
  {
   "cell_type": "code",
   "execution_count": 16,
   "id": "2d1b49d2",
   "metadata": {},
   "outputs": [],
   "source": [
    "flip_prod_3_page = bs(flip_prod_3.text,'html.parser')"
   ]
  },
  {
   "cell_type": "code",
   "execution_count": 17,
   "id": "604356f3",
   "metadata": {},
   "outputs": [],
   "source": [
    "all_review_prod3 = flip_prod_3_page.find_all('div',{'class':'_16PBlm'})"
   ]
  },
  {
   "cell_type": "code",
   "execution_count": 18,
   "id": "12ed85e5",
   "metadata": {},
   "outputs": [
    {
     "data": {
      "text/plain": [
       "11"
      ]
     },
     "execution_count": 18,
     "metadata": {},
     "output_type": "execute_result"
    }
   ],
   "source": [
    "len(all_review_prod3)"
   ]
  },
  {
   "cell_type": "code",
   "execution_count": 19,
   "id": "58aec6a6",
   "metadata": {},
   "outputs": [
    {
     "data": {
      "text/plain": [
       "<div class=\"row\"><div class=\"_3LWZlK _1BLPMq\">4<img class=\"_1wB99o\" src=\"data:image/svg+xml;base64,PHN2ZyB4bWxucz0iaHR0cDovL3d3dy53My5vcmcvMjAwMC9zdmciIHdpZHRoPSIxMyIgaGVpZ2h0PSIxMiI+PHBhdGggZmlsbD0iI0ZGRiIgZD0iTTYuNSA5LjQzOWwtMy42NzQgMi4yMy45NC00LjI2LTMuMjEtMi44ODMgNC4yNTQtLjQwNEw2LjUuMTEybDEuNjkgNC4wMSA0LjI1NC40MDQtMy4yMSAyLjg4Mi45NCA0LjI2eiIvPjwvc3ZnPg==\"/></div><p class=\"_2-N8zT\">Good quality product</p></div>"
      ]
     },
     "execution_count": 19,
     "metadata": {},
     "output_type": "execute_result"
    }
   ],
   "source": [
    "all_review_prod3[0].div.div.div"
   ]
  },
  {
   "cell_type": "code",
   "execution_count": 20,
   "id": "4031cfcc",
   "metadata": {},
   "outputs": [],
   "source": [
    "rating = all_review_prod3[0].div.div.div.text[0]"
   ]
  },
  {
   "cell_type": "code",
   "execution_count": 21,
   "id": "cdfb8a06",
   "metadata": {},
   "outputs": [],
   "source": [
    "comment_header = all_review_prod3[0].div.div.div.text[1:]"
   ]
  },
  {
   "cell_type": "code",
   "execution_count": 22,
   "id": "7e8e89d6",
   "metadata": {},
   "outputs": [],
   "source": [
    "comment = all_review_prod3[0].find_all('div',{'class':\"t-ZTKy\"})[0].text"
   ]
  },
  {
   "cell_type": "code",
   "execution_count": 23,
   "id": "20675b05",
   "metadata": {},
   "outputs": [],
   "source": [
    "name = all_review_prod3[0].find_all('p',{'class':\"_2sc7ZR _2V5EHH\"})[0].text"
   ]
  },
  {
   "cell_type": "code",
   "execution_count": 24,
   "id": "8d9aa72c",
   "metadata": {},
   "outputs": [],
   "source": [
    "place = all_review_prod3[0].find_all('p',{'class':\"_2mcZGG\"})[0].text.split(', ')[1]"
   ]
  },
  {
   "cell_type": "code",
   "execution_count": 25,
   "id": "e13236dd",
   "metadata": {},
   "outputs": [],
   "source": [
    "date = all_review_prod3[0].find_all('p',{'class':\"_2sc7ZR\"})[1].text"
   ]
  },
  {
   "cell_type": "code",
   "execution_count": 26,
   "id": "df8a68cb",
   "metadata": {},
   "outputs": [
    {
     "ename": "AttributeError",
     "evalue": "'NoneType' object has no attribute 'div'",
     "output_type": "error",
     "traceback": [
      "\u001b[1;31m---------------------------------------------------------------------------\u001b[0m",
      "\u001b[1;31mAttributeError\u001b[0m                            Traceback (most recent call last)",
      "Input \u001b[1;32mIn [26]\u001b[0m, in \u001b[0;36m<cell line: 2>\u001b[1;34m()\u001b[0m\n\u001b[0;32m      1\u001b[0m reviews \u001b[38;5;241m=\u001b[39m []\n\u001b[0;32m      2\u001b[0m \u001b[38;5;28;01mfor\u001b[39;00m i \u001b[38;5;129;01min\u001b[39;00m \u001b[38;5;28mrange\u001b[39m(\u001b[38;5;28mlen\u001b[39m(all_review_prod3)):\n\u001b[1;32m----> 3\u001b[0m     rating \u001b[38;5;241m=\u001b[39m \u001b[43mall_review_prod3\u001b[49m\u001b[43m[\u001b[49m\u001b[43mi\u001b[49m\u001b[43m]\u001b[49m\u001b[38;5;241;43m.\u001b[39;49m\u001b[43mdiv\u001b[49m\u001b[38;5;241;43m.\u001b[39;49m\u001b[43mdiv\u001b[49m\u001b[38;5;241m.\u001b[39mdiv\u001b[38;5;241m.\u001b[39mtext[\u001b[38;5;241m0\u001b[39m]\n\u001b[0;32m      4\u001b[0m     comment_header \u001b[38;5;241m=\u001b[39m all_review_prod3[i]\u001b[38;5;241m.\u001b[39mdiv\u001b[38;5;241m.\u001b[39mdiv\u001b[38;5;241m.\u001b[39mdiv\u001b[38;5;241m.\u001b[39mtext[\u001b[38;5;241m1\u001b[39m:]\n\u001b[0;32m      5\u001b[0m     comment \u001b[38;5;241m=\u001b[39m all_review_prod3[i]\u001b[38;5;241m.\u001b[39mfind_all(\u001b[38;5;124m'\u001b[39m\u001b[38;5;124mdiv\u001b[39m\u001b[38;5;124m'\u001b[39m,{\u001b[38;5;124m'\u001b[39m\u001b[38;5;124mclass\u001b[39m\u001b[38;5;124m'\u001b[39m:\u001b[38;5;124m\"\u001b[39m\u001b[38;5;124mt-ZTKy\u001b[39m\u001b[38;5;124m\"\u001b[39m})[\u001b[38;5;241m0\u001b[39m]\u001b[38;5;241m.\u001b[39mtext\n",
      "\u001b[1;31mAttributeError\u001b[0m: 'NoneType' object has no attribute 'div'"
     ]
    }
   ],
   "source": [
    "reviews = []\n",
    "for i in range(len(all_review_prod3)):\n",
    "    rating = all_review_prod3[i].div.div.div.text[0]\n",
    "    comment_header = all_review_prod3[i].div.div.div.text[1:]\n",
    "    comment = all_review_prod3[i].find_all('div',{'class':\"t-ZTKy\"})[0].text\n",
    "    name = all_review_prod3[i].find_all('p',{'class':\"_2sc7ZR _2V5EHH\"})[0].text\n",
    "    place = all_review_prod3[i].find_all('p',{'class':\"_2mcZGG\"})[0].text.split(', ')[1]\n",
    "    date = all_review_prod3[i].find_all('p',{'class':\"_2sc7ZR\"})[1].text\n",
    "    review = [rating, comment_header, comment, name, place, date]\n",
    "    reviews.append(review)"
   ]
  },
  {
   "cell_type": "code",
   "execution_count": 27,
   "id": "f6f6a683",
   "metadata": {},
   "outputs": [
    {
     "name": "stdout",
     "output_type": "stream",
     "text": [
      "4\n",
      "4\n",
      "4\n",
      "5\n",
      "1\n",
      "5\n",
      "5\n",
      "5\n",
      "1\n",
      "5\n"
     ]
    },
    {
     "ename": "AttributeError",
     "evalue": "'NoneType' object has no attribute 'div'",
     "output_type": "error",
     "traceback": [
      "\u001b[1;31m---------------------------------------------------------------------------\u001b[0m",
      "\u001b[1;31mAttributeError\u001b[0m                            Traceback (most recent call last)",
      "Input \u001b[1;32mIn [27]\u001b[0m, in \u001b[0;36m<cell line: 1>\u001b[1;34m()\u001b[0m\n\u001b[0;32m      1\u001b[0m \u001b[38;5;28;01mfor\u001b[39;00m i \u001b[38;5;129;01min\u001b[39;00m \u001b[38;5;28mrange\u001b[39m(\u001b[38;5;28mlen\u001b[39m(all_review_prod3)):\n\u001b[1;32m----> 2\u001b[0m     \u001b[38;5;28mprint\u001b[39m(\u001b[43mall_review_prod3\u001b[49m\u001b[43m[\u001b[49m\u001b[43mi\u001b[49m\u001b[43m]\u001b[49m\u001b[38;5;241;43m.\u001b[39;49m\u001b[43mdiv\u001b[49m\u001b[38;5;241;43m.\u001b[39;49m\u001b[43mdiv\u001b[49m\u001b[38;5;241m.\u001b[39mdiv\u001b[38;5;241m.\u001b[39mtext[\u001b[38;5;241m0\u001b[39m])\n",
      "\u001b[1;31mAttributeError\u001b[0m: 'NoneType' object has no attribute 'div'"
     ]
    }
   ],
   "source": [
    "for i in range(len(all_review_prod3)):\n",
    "    print(all_review_prod3[i].div.div.div.text[0])"
   ]
  },
  {
   "cell_type": "code",
   "execution_count": null,
   "id": "fda9ad9c",
   "metadata": {},
   "outputs": [],
   "source": []
  }
 ],
 "metadata": {
  "kernelspec": {
   "display_name": "Python 3",
   "language": "python",
   "name": "python3"
  },
  "language_info": {
   "codemirror_mode": {
    "name": "ipython",
    "version": 3
   },
   "file_extension": ".py",
   "mimetype": "text/x-python",
   "name": "python",
   "nbconvert_exporter": "python",
   "pygments_lexer": "ipython3",
   "version": "3.9.12"
  }
 },
 "nbformat": 4,
 "nbformat_minor": 5
}
