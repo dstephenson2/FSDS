{
 "cells": [
  {
   "cell_type": "markdown",
   "id": "dda0cdd2",
   "metadata": {},
   "source": [
    "### Python Programming Assignment 4"
   ]
  },
  {
   "cell_type": "markdown",
   "id": "b9b95a28",
   "metadata": {},
   "source": [
    "##### 1.\tWrite a Python Program to Find the Factorial of a Number?"
   ]
  },
  {
   "cell_type": "code",
   "execution_count": 1,
   "id": "ccb5ec00",
   "metadata": {},
   "outputs": [
    {
     "name": "stdout",
     "output_type": "stream",
     "text": [
      "5040\n"
     ]
    }
   ],
   "source": [
    "def fact(n):\n",
    "    if n == 0 | 1:\n",
    "        return 1\n",
    "    else:\n",
    "        return (n*fact(n-1))\n",
    "print(fact(7))"
   ]
  },
  {
   "cell_type": "markdown",
   "id": "eaa46657",
   "metadata": {},
   "source": [
    "##### 2.\tWrite a Python Program to Display the multiplication Table?"
   ]
  },
  {
   "cell_type": "code",
   "execution_count": 2,
   "id": "65852abc",
   "metadata": {},
   "outputs": [
    {
     "name": "stdout",
     "output_type": "stream",
     "text": [
      "Enter the number to get the multiplication table: 23\n",
      "23 x 1 = 23\n",
      "23 x 2 = 46\n",
      "23 x 3 = 69\n",
      "23 x 4 = 92\n",
      "23 x 5 = 115\n",
      "23 x 6 = 138\n",
      "23 x 7 = 161\n",
      "23 x 8 = 184\n",
      "23 x 9 = 207\n",
      "23 x 10 = 230\n"
     ]
    }
   ],
   "source": [
    "def mul_table(x):\n",
    "    for i in range(1, 11):\n",
    "       print(x, 'x', i, '=', x*i)\n",
    "    \n",
    "num = mul_table(int(input(\"Enter the number to get the multiplication table: \")))"
   ]
  },
  {
   "cell_type": "markdown",
   "id": "ef4d87bc",
   "metadata": {},
   "source": [
    "##### 3.\tWrite a Python Program to Print the Fibonacci sequence?"
   ]
  },
  {
   "cell_type": "code",
   "execution_count": 3,
   "id": "aa56f0c6",
   "metadata": {},
   "outputs": [
    {
     "name": "stdout",
     "output_type": "stream",
     "text": [
      "Enter any number to get fibonacci sequence: 5\n",
      "[0, 1, 1, 2, 3]\n"
     ]
    }
   ],
   "source": [
    "n = int(input('Enter any number to get fibonacci sequence: '))\n",
    "a = 0\n",
    "b = 1\n",
    "x = [a,b]\n",
    "for i in range ((n//2)+1):\n",
    "    c = a+b\n",
    "    a=b\n",
    "    b=c\n",
    "    x.append(c)\n",
    "print(x)"
   ]
  },
  {
   "cell_type": "markdown",
   "id": "164db295",
   "metadata": {},
   "source": [
    "##### 4.\tWrite a Python Program to Check Armstrong Number?"
   ]
  },
  {
   "cell_type": "code",
   "execution_count": 4,
   "id": "2a27ac75",
   "metadata": {},
   "outputs": [
    {
     "name": "stdout",
     "output_type": "stream",
     "text": [
      "Enter a number to check if it is an Armstrong number: 370\n",
      "Yes, the number 370 is Armstrong\n"
     ]
    }
   ],
   "source": [
    "a = int(input('Enter a number to check if it is an Armstrong number: '))\n",
    "b=a\n",
    "x = len(str(a))\n",
    "m = 0\n",
    "for i in range(x):\n",
    "    n = a % 10\n",
    "    a = a // 10\n",
    "    m += pow(n,x)\n",
    "if m == b:\n",
    "    print(\"Yes, the number {} is Armstrong\".format(b))\n",
    "else:\n",
    "    print(\"No,the number {} is not Armstrong\".format(b))"
   ]
  },
  {
   "cell_type": "markdown",
   "id": "f9eb4260",
   "metadata": {},
   "source": [
    "##### 5.\tWrite a Python Program to Find Armstrong Number in an Interval?"
   ]
  },
  {
   "cell_type": "code",
   "execution_count": 5,
   "id": "38f77943",
   "metadata": {},
   "outputs": [
    {
     "name": "stdout",
     "output_type": "stream",
     "text": [
      "Please enter the start value in the interval: 1\n",
      "Please enter the end value in the interval: 100\n",
      "Armstrong Numbers in the interval starting 1 and ending 100 are: [1, 2, 3, 4, 5, 6, 7, 8, 9]\n"
     ]
    }
   ],
   "source": [
    "def arm_num(a,b):\n",
    "    a_nums = list()\n",
    "    for i in range(a,b+1):\n",
    "        a = i\n",
    "        b = a\n",
    "        x = len(str(a))\n",
    "        m = 0\n",
    "        for i in range(x):\n",
    "            n = a % 10\n",
    "            a = a // 10\n",
    "            m += pow(n,x)\n",
    "        if m == b:\n",
    "            a_nums.append(m)\n",
    "    return a_nums\n",
    "            \n",
    "x = int(input(\"Please enter the start value in the interval: \"))\n",
    "y = int(input(\"Please enter the end value in the interval: \"))\n",
    "print(\"Armstrong Numbers in the interval starting {0} and ending {1} are: {2}\".format(x,y,arm_num(x,y)))"
   ]
  },
  {
   "cell_type": "markdown",
   "id": "ac97a5f4",
   "metadata": {},
   "source": [
    "##### 6.\tWrite a Python Program to Find the Sum of Natural Numbers?"
   ]
  },
  {
   "cell_type": "code",
   "execution_count": 6,
   "id": "de79a74d",
   "metadata": {},
   "outputs": [
    {
     "name": "stdout",
     "output_type": "stream",
     "text": [
      "Enter any number greater than 1: 48\n",
      "Enter Second number greater than 1: 67\n",
      "The sum of 48.0 and 67.0 is:115.0\n"
     ]
    }
   ],
   "source": [
    "n1 = float(input('Enter any number greater than 1: '))\n",
    "n2 = float(input('Enter Second number greater than 1: '))\n",
    "sum = n1+n2\n",
    "print('The sum of {0} and {1} is:{2}'.format(n1,n2,sum))"
   ]
  }
 ],
 "metadata": {
  "kernelspec": {
   "display_name": "Python 3",
   "language": "python",
   "name": "python3"
  },
  "language_info": {
   "codemirror_mode": {
    "name": "ipython",
    "version": 3
   },
   "file_extension": ".py",
   "mimetype": "text/x-python",
   "name": "python",
   "nbconvert_exporter": "python",
   "pygments_lexer": "ipython3",
   "version": "3.9.12"
  }
 },
 "nbformat": 4,
 "nbformat_minor": 5
}
