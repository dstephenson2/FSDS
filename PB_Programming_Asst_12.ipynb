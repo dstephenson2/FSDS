{
 "cells": [
  {
   "cell_type": "markdown",
   "id": "d3d7dfa5",
   "metadata": {},
   "source": [
    "### PB Programming Assignment 12"
   ]
  },
  {
   "cell_type": "markdown",
   "id": "fb93162e",
   "metadata": {},
   "source": [
    "##### 1.\tWrite a Python program to Extract Unique values dictionary values?"
   ]
  },
  {
   "cell_type": "code",
   "execution_count": 1,
   "id": "984f7180",
   "metadata": {},
   "outputs": [
    {
     "name": "stdout",
     "output_type": "stream",
     "text": [
      "Unique values in the dictionary are:  [1, 2, 3, 4, 5, 6, 7, 9]\n"
     ]
    }
   ],
   "source": [
    "dict_val = {\n",
    "    'A':[1,3,5,2,6],\n",
    "    'B':[3,2,7,9,4],\n",
    "    'C':[4,7,2,6]\n",
    "}\n",
    "\n",
    "unique_vals = list(sorted({j for i in dict_val.values() for j in i}))\n",
    "print(\"Unique values in the dictionary are: \", unique_vals)"
   ]
  },
  {
   "cell_type": "markdown",
   "id": "4d9eea85",
   "metadata": {},
   "source": [
    "##### 2.\tWrite a Python program to find the sum of all items in a dictionary?"
   ]
  },
  {
   "cell_type": "code",
   "execution_count": 2,
   "id": "b7bf9b12",
   "metadata": {},
   "outputs": [
    {
     "name": "stdout",
     "output_type": "stream",
     "text": [
      "Sum of all values in the dictionary are:  61\n"
     ]
    }
   ],
   "source": [
    "dict_val = {\n",
    "    'A':[1,3,5,2,6],\n",
    "    'B':[3,2,7,9,4],\n",
    "    'C':[4,7,2,6]\n",
    "}\n",
    "\n",
    "sum_vals = sum([j for i in dict_val.values() for j in i])\n",
    "print(\"Sum of all values in the dictionary are: \", sum_vals)"
   ]
  },
  {
   "cell_type": "markdown",
   "id": "5c4d7825",
   "metadata": {},
   "source": [
    "##### 3.\tWrite a Python program to Merging two Dictionaries?"
   ]
  },
  {
   "cell_type": "code",
   "execution_count": 4,
   "id": "434bc669",
   "metadata": {},
   "outputs": [
    {
     "name": "stdout",
     "output_type": "stream",
     "text": [
      "{'D': [3, 4, 7, 5], 'E': [7, 9, 2, 6], 'A': [1, 3, 5, 2, 6], 'B': [3, 2, 7, 9, 4], 'C': [4, 7, 2, 6]}\n"
     ]
    }
   ],
   "source": [
    "dict_val1 = {\n",
    "    'D':[3,4,7,5],\n",
    "    'E':[7,9,2,6]\n",
    "}\n",
    "\n",
    "dict_val1.update(dict_val)\n",
    "\n",
    "print(dict_val1)"
   ]
  },
  {
   "cell_type": "markdown",
   "id": "4a23988c",
   "metadata": {},
   "source": [
    "##### 4.\tWrite a Python program to convert key-values list to flat dictionary?"
   ]
  },
  {
   "cell_type": "code",
   "execution_count": 5,
   "id": "74dbb2a8",
   "metadata": {},
   "outputs": [
    {
     "name": "stdout",
     "output_type": "stream",
     "text": [
      "{'Dairy': 'Bread', 'Appliances': 'TV', 'Toiletries': 'Soap'}\n"
     ]
    }
   ],
   "source": [
    "dict_1 = { 'Category':['Dairy','Appliances','Toiletries']}\n",
    "dict_2 = { 'Product':['Bread','TV','Soap'] }\n",
    "x = list(dict_1.values())\n",
    "y = list(dict_2.values())\n",
    "dict_3 = dict()\n",
    "for i in range(len(x[0])):\n",
    "    dict_3[x[0][i]] = y[0][i]\n",
    "print(dict_3)"
   ]
  },
  {
   "cell_type": "markdown",
   "id": "214315f8",
   "metadata": {},
   "source": [
    "##### 5.\tWrite a Python program to insertion at the beginning in OrderedDict?"
   ]
  },
  {
   "cell_type": "code",
   "execution_count": 6,
   "id": "a4eeefff",
   "metadata": {},
   "outputs": [
    {
     "data": {
      "text/plain": [
       "OrderedDict([('D', [3, 4, 7, 5]),\n",
       "             ('E', [7, 9, 2, 6]),\n",
       "             ('A', [1, 3, 5, 2, 6]),\n",
       "             ('B', [3, 2, 7, 9, 4]),\n",
       "             ('C', [4, 7, 2, 6])])"
      ]
     },
     "execution_count": 6,
     "metadata": {},
     "output_type": "execute_result"
    }
   ],
   "source": [
    "from collections import OrderedDict\n",
    "dict_val = OrderedDict([('A',[1,3,5,2,6]), ('B',[3,2,7,9,4]), ('C',[4,7,2,6])])\n",
    "dict_val1 = OrderedDict([('D',[3,4,7,5]), ('E',[7,9,2,6])])\n",
    "dict_val1.update(dict_val)\n",
    "dict_val1"
   ]
  },
  {
   "cell_type": "markdown",
   "id": "ca07d30b",
   "metadata": {},
   "source": [
    "##### 6.\tWrite a Python program to check order of character in string using OrderedDict()?"
   ]
  },
  {
   "cell_type": "code",
   "execution_count": 8,
   "id": "5bb3b84b",
   "metadata": {},
   "outputs": [
    {
     "name": "stdout",
     "output_type": "stream",
     "text": [
      "Enter a string: Bread\n",
      "Enter a pattern to check the order of character in the above string: read\n",
      "The order of character in string is Followed\n"
     ]
    }
   ],
   "source": [
    "def char_order(strng, char):\n",
    "    ord_dict = OrderedDict.fromkeys(strng)\n",
    "    char_len = 0\n",
    "    for key,value in ord_dict.items():\n",
    "        if (key == char[char_len]):\n",
    "            char_len = char_len + 1\n",
    "\n",
    "        if (char_len == (len(char))):\n",
    "            return 'The order of character in string is Followed'\n",
    "        \n",
    "    return 'The order of character in string is Not Followed'\n",
    "\n",
    "strng = input('Enter a string: ')\n",
    "char = input('Enter a pattern to check the order of character in the above string: ')\n",
    "print(char_order(strng,char))"
   ]
  },
  {
   "cell_type": "markdown",
   "id": "f0799e83",
   "metadata": {},
   "source": [
    "##### 7.\tWrite a Python program to sort Python Dictionaries by Key or Value?"
   ]
  },
  {
   "cell_type": "code",
   "execution_count": 9,
   "id": "1133140a",
   "metadata": {},
   "outputs": [
    {
     "name": "stdout",
     "output_type": "stream",
     "text": [
      "{'Dairy': 'Bread', 'Appliances': 'TV', 'Toiletries': 'Soap'}\n",
      "{'Appliances': 'TV', 'Dairy': 'Bread', 'Toiletries': 'Soap'}\n"
     ]
    }
   ],
   "source": [
    "dict_1 = {'Dairy': 'Bread', 'Appliances': 'TV', 'Toiletries': 'Soap'}\n",
    "print(dict_1)\n",
    " \n",
    "dict_keys = sorted(list(dict_1.keys()))\n",
    "sorted_dict = {dict_keys[i]: dict_1[dict_keys[i]] for i in range(len(dict_keys))}\n",
    " \n",
    "print(sorted_dict)"
   ]
  }
 ],
 "metadata": {
  "kernelspec": {
   "display_name": "Python 3",
   "language": "python",
   "name": "python3"
  },
  "language_info": {
   "codemirror_mode": {
    "name": "ipython",
    "version": 3
   },
   "file_extension": ".py",
   "mimetype": "text/x-python",
   "name": "python",
   "nbconvert_exporter": "python",
   "pygments_lexer": "ipython3",
   "version": "3.9.12"
  }
 },
 "nbformat": 4,
 "nbformat_minor": 5
}
