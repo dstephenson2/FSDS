{
 "cells": [
  {
   "cell_type": "markdown",
   "id": "9073abb7",
   "metadata": {},
   "source": [
    "### Python Basics Assignment 7"
   ]
  },
  {
   "cell_type": "markdown",
   "id": "709ec037",
   "metadata": {},
   "source": [
    "### 1) What is the name of the feature responsible for generating Regex objects?"
   ]
  },
  {
   "cell_type": "markdown",
   "id": "3c2c6549",
   "metadata": {},
   "source": [
    "- compile() creates regular expression. re.compile() creates and returns Regex object"
   ]
  },
  {
   "cell_type": "markdown",
   "id": "1d9e3e66",
   "metadata": {},
   "source": [
    "### 2) Why do raw strings often appear in Regex objects?"
   ]
  },
  {
   "cell_type": "markdown",
   "id": "61f75701",
   "metadata": {},
   "source": [
    "- We prefix a string with a letter r or R to treat backslashes as literal characters. Special characters like \\t which is meant to have tab space, will be treated as literal character \\t when we use raw strings."
   ]
  },
  {
   "cell_type": "markdown",
   "id": "b9a9c28a",
   "metadata": {},
   "source": [
    "### 3) What is the return value of the search() method?"
   ]
  },
  {
   "cell_type": "markdown",
   "id": "afaf2a48",
   "metadata": {},
   "source": [
    "- search() in Regex moduel returns a Match object if there is a match anywhere in the string."
   ]
  },
  {
   "cell_type": "markdown",
   "id": "107130e6",
   "metadata": {},
   "source": [
    "### 4) From a Match item, how do you get the actual strings that match the pattern?"
   ]
  },
  {
   "cell_type": "markdown",
   "id": "90549a2a",
   "metadata": {},
   "source": [
    "- Match objects have a group() method that will return the actual matched pattern from the search."
   ]
  },
  {
   "cell_type": "markdown",
   "id": "9f3f3e76",
   "metadata": {},
   "source": [
    "### 5) In the regex which created from the r'(\\d\\d\\d)-(\\d\\d\\d-\\d\\d\\d\\d)', what does group zero cover? Group 2? Group 1?"
   ]
  },
  {
   "cell_type": "markdown",
   "id": "e5acae25",
   "metadata": {},
   "source": [
    "- group method in regex modules returns a tuple containing all the subgroups of the match. Here, group zero covers the entire match, group 2 covers second parentheses and group 1 covers first parentheses."
   ]
  },
  {
   "cell_type": "markdown",
   "id": "b7dee162",
   "metadata": {},
   "source": [
    "### 6) In standard expression syntax, parentheses and intervals have distinct meanings. How can you tell a regex that you want it to fit real parentheses and periods?"
   ]
  },
  {
   "cell_type": "markdown",
   "id": "855b1652",
   "metadata": {},
   "source": [
    "- Generally in regex, backslash is used to signal a specail sequence and also used to escape special characters. Hence, with the help of backslash "
   ]
  },
  {
   "cell_type": "markdown",
   "id": "38975024",
   "metadata": {},
   "source": [
    "### 7) The findall() method returns a string list or a list of string tuples. What causes it to return one of the two options?"
   ]
  },
  {
   "cell_type": "markdown",
   "id": "5ea7d100",
   "metadata": {},
   "source": [
    "- list of string tuples are given there are groups in regex. A group is a part of regex pattern enclosed in parentheses. A string list is returne whenver there are no groups in regex."
   ]
  },
  {
   "cell_type": "markdown",
   "id": "cf99d358",
   "metadata": {},
   "source": [
    "### 8) In standard expressions, what does the | character mean?"
   ]
  },
  {
   "cell_type": "markdown",
   "id": "83d09da1",
   "metadata": {},
   "source": [
    "- Character | signifies Either or"
   ]
  },
  {
   "cell_type": "markdown",
   "id": "0959396f",
   "metadata": {},
   "source": [
    "### 9) In regular expressions, what does the character stand for?"
   ]
  },
  {
   "cell_type": "markdown",
   "id": "a553542c",
   "metadata": {},
   "source": [
    "- A character is a letter, a number, or an underscore. This set of characters may also be represented by the regex character set [a-zA-Z0-9_]"
   ]
  },
  {
   "cell_type": "markdown",
   "id": "de020d45",
   "metadata": {},
   "source": [
    "### 10) In regular expressions, what is the difference between the + and * characters?"
   ]
  },
  {
   "cell_type": "markdown",
   "id": "62b549d8",
   "metadata": {},
   "source": [
    "- Character '+' means at least 1 digit to be present in order to be found. Character '*' requires 0 or more digits in order to be found. It practically makes the presence of a digit optional in order to make a match."
   ]
  },
  {
   "cell_type": "markdown",
   "id": "8df6fdc7",
   "metadata": {},
   "source": [
    "### 11) What is the difference between {4} and {4,5} in regular expression?"
   ]
  },
  {
   "cell_type": "markdown",
   "id": "b69c0047",
   "metadata": {},
   "source": [
    "- Character '+' instructs to match atleast 1 occurence, {4} instructs to match exactly 4 occurences to be matched and {4,5} instructs to match 4 to 5 occurences of the pattern to be matched."
   ]
  },
  {
   "cell_type": "markdown",
   "id": "2d683ecf",
   "metadata": {},
   "source": [
    "### 12) What do you mean by the \\d, \\w, and \\s shorthand character classes signify in regular expressions?"
   ]
  },
  {
   "cell_type": "markdown",
   "id": "90c279cd",
   "metadata": {},
   "source": [
    "- '\\d' Returns a match where the string contains digits (numbers from 0-9)\n",
    "- '\\w' Returns a match where the string contains any word characters (characters from a to Z, digits from 0-9, and the underscore _ character)\n",
    "- '\\s' Returns a match where the string contains a white space character"
   ]
  },
  {
   "cell_type": "markdown",
   "id": "134b67d8",
   "metadata": {},
   "source": [
    "### 13) What do means by \\D, \\W, and \\S shorthand character classes signify in regular expressions?"
   ]
  },
  {
   "cell_type": "markdown",
   "id": "4a3cec09",
   "metadata": {},
   "source": [
    "- This is just the opposite of the above shorthand characters:\n",
    "    \n",
    "    - '\\D' Returns a match where the string DOES NOT contain digits\n",
    "    - '\\W' Returns a match where the string DOES NOT contain any word characters\n",
    "    - '\\S' Returns a match where the string DOES NOT contain a white space character"
   ]
  },
  {
   "cell_type": "markdown",
   "id": "7035a40c",
   "metadata": {},
   "source": [
    "### 14) What is the difference between .*? and .*?"
   ]
  },
  {
   "cell_type": "markdown",
   "id": "328ccd0e",
   "metadata": {},
   "source": [
    "-[.*?] matches any character (.) any number of times (*), as few times as possible to make the regex match (?). \n",
    "\n",
    "-[.* ]  matches any character (.) any number of times (*)"
   ]
  },
  {
   "cell_type": "markdown",
   "id": "a2145471",
   "metadata": {},
   "source": [
    "### 15) What is the syntax for matching both numbers and lowercase letters with a character class?"
   ]
  },
  {
   "cell_type": "markdown",
   "id": "d6c29402",
   "metadata": {},
   "source": [
    "- [a-z0-9]"
   ]
  },
  {
   "cell_type": "markdown",
   "id": "44bc9e2f",
   "metadata": {},
   "source": [
    "### 16) What is the procedure for making a normal expression in regex case insensitive?"
   ]
  },
  {
   "cell_type": "markdown",
   "id": "60162f55",
   "metadata": {},
   "source": [
    "- We can pass re.IGNORECASE to the flags parameter of search, match, or sub"
   ]
  },
  {
   "cell_type": "markdown",
   "id": "e41a91b4",
   "metadata": {},
   "source": [
    "### 17) What does the . character normally match? What does it match if re.DOTALL is passed as 2nd argument in re.compile()?"
   ]
  },
  {
   "cell_type": "markdown",
   "id": "ca117587",
   "metadata": {},
   "source": [
    "- Dot Character normally matches Any character (except newline character). when re.DOTALL is passed as 2nd argument it will mathc the newline character as well."
   ]
  },
  {
   "cell_type": "markdown",
   "id": "80d2ffa0",
   "metadata": {},
   "source": [
    "### 18) If numReg = re.compile(r'\\d+'), what will numRegex.sub('X', '11 drummers, 10 pipers, five rings, 4 hen') return?"
   ]
  },
  {
   "cell_type": "markdown",
   "id": "d8b14f18",
   "metadata": {},
   "source": [
    "- Generally .sub() is used to replace texts. ['\\d+'] is used to return a match where string contains a digits. Hence, here digits will get replaced with consecutive text characters."
   ]
  },
  {
   "cell_type": "code",
   "execution_count": 3,
   "id": "c78096c5",
   "metadata": {},
   "outputs": [],
   "source": [
    "import re\n",
    "numReg = re.compile(r'\\d+')"
   ]
  },
  {
   "cell_type": "code",
   "execution_count": 5,
   "id": "c5fccd34",
   "metadata": {},
   "outputs": [
    {
     "data": {
      "text/plain": [
       "'X drummers, X pipers, five rings, X hen'"
      ]
     },
     "execution_count": 5,
     "metadata": {},
     "output_type": "execute_result"
    }
   ],
   "source": [
    "numReg.sub('X', '11 drummers, 10 pipers, five rings, 4 hen')"
   ]
  },
  {
   "cell_type": "markdown",
   "id": "a56e1f33",
   "metadata": {},
   "source": [
    "### 19) What does passing re.VERBOSE as the 2nd argument to re.compile() allow to do?"
   ]
  },
  {
   "cell_type": "markdown",
   "id": "43e5bd4e",
   "metadata": {},
   "source": [
    "- Basically, re.VERBOSE is used to write regular expressions that look nicer and are more readable by allowing us to visually separate logical sections of the pattern and add comments. re.VERBOSE syntactically is passed as 2nd argument to re.compile() i.e re.compile(Regular Expression, re.VERBOSE)."
   ]
  },
  {
   "cell_type": "markdown",
   "id": "f2847f93",
   "metadata": {},
   "source": [
    "### 20) How would you write a regex that match a number with comma for every three digits? It must match the given following:\n",
    "- '42'\n",
    "- '1,234'\n",
    "- '6,368,745'\n",
    "- but not the following:\n",
    "- '12,34,567' (which has only two digits between the commas)\n",
    "- '1234' (which lacks commas)\n"
   ]
  },
  {
   "cell_type": "code",
   "execution_count": null,
   "id": "83f1a479",
   "metadata": {},
   "outputs": [],
   "source": [
    "re.compile('r^\\d{1,3}(,\\d{3})*$')"
   ]
  },
  {
   "cell_type": "markdown",
   "id": "27e3465b",
   "metadata": {},
   "source": [
    "### 21) How would you write a regex that matches the full name of someone whose last name is Watanabe? You can assume that the first name that comes before it will always be one word that begins with a capital letter. The regex must match the following:\n",
    "\n",
    "    'Haruto Watanabe'\n",
    "    'Alice Watanabe'\n",
    "    'RoboCop Watanabe'\n",
    "    but not the following:\n",
    "    'haruto Watanabe' (where the first name is not capitalized)\n",
    "    'Mr. Watanabe' (where the preceding word has a nonletter character)\n",
    "    'Watanabe' (which has no first name)\n",
    "    'Haruto watanabe' (where Watanabe is not capitalized)\n"
   ]
  },
  {
   "cell_type": "markdown",
   "id": "d91f3dbe",
   "metadata": {},
   "source": [
    "- re.compile(r'[A-Z][a-z]*\\sWatanabe"
   ]
  },
  {
   "cell_type": "markdown",
   "id": "a4edadbe",
   "metadata": {},
   "source": [
    "### 22) How would you write a regex that matches a sentence where the first word is either Alice, Bob, or Carol; the second word is either eats, pets, or throws; the third word is apples, cats, or baseballs; and the sentence ends with a period? This regex should be case-insensitive. It must match the following:\n",
    "\n",
    "    'Alice eats apples.'\n",
    "    'Bob pets cats.'\n",
    "    'Carol throws baseballs.'\n",
    "    'Alice throws Apples.'\n",
    "    'BOB EATS CATS.'\n",
    "    but not the following:\n",
    "    'RoboCop eats apples.'\n",
    "    'ALICE THROWS FOOTBALLS.'\n",
    "    'Carol eats 7 cats.'"
   ]
  },
  {
   "cell_type": "markdown",
   "id": "34278829",
   "metadata": {},
   "source": [
    "- re.compile(r'(Alice|Bob|Carol)\\s(eats|pets|throws)\\s(apples|cats|baseballs)\\.', re.IGNORECASE)"
   ]
  }
 ],
 "metadata": {
  "kernelspec": {
   "display_name": "Python 3",
   "language": "python",
   "name": "python3"
  },
  "language_info": {
   "codemirror_mode": {
    "name": "ipython",
    "version": 3
   },
   "file_extension": ".py",
   "mimetype": "text/x-python",
   "name": "python",
   "nbconvert_exporter": "python",
   "pygments_lexer": "ipython3",
   "version": "3.9.12"
  }
 },
 "nbformat": 4,
 "nbformat_minor": 5
}
