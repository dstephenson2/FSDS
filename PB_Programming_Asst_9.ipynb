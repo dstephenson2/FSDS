{
 "cells": [
  {
   "cell_type": "markdown",
   "id": "a74591b8",
   "metadata": {},
   "source": [
    "### PB Programming Assignment 9"
   ]
  },
  {
   "cell_type": "markdown",
   "id": "b5ebec1d",
   "metadata": {},
   "source": [
    "##### 1.\tWrite a Python program to check if the given number is a Disarium Number?"
   ]
  },
  {
   "cell_type": "code",
   "execution_count": 1,
   "id": "70e4dfb9",
   "metadata": {},
   "outputs": [
    {
     "name": "stdout",
     "output_type": "stream",
     "text": [
      "Enter any Number to Check if it is a Disarium Number: 135\n",
      "The Sum of the digits raised to power of its position is: 135\n",
      "\n",
      "135 is a Disarium Number.\n"
     ]
    }
   ],
   "source": [
    "n = int(input(\"Enter any Number to Check if it is a Disarium Number: \"))\n",
    "n_len = len(str(n))\n",
    "\n",
    "temp = n\n",
    "n_sum = 0\n",
    "rem = 0\n",
    "\n",
    "while temp > 0:\n",
    "    rem = temp % 10\n",
    "    n_sum = n_sum + int(rem**n_len)\n",
    "    temp = temp // 10\n",
    "    n_len = n_len - 1\n",
    "\n",
    "print(\"The Sum of the digits raised to power of its position is: %d\" %n_sum)\n",
    "\n",
    "if n_sum == n:\n",
    "    print(\"\\n%d is a Disarium Number.\" %n)\n",
    "else:\n",
    "    print(\"%d is Not a Disarium Number.\" %n)"
   ]
  },
  {
   "cell_type": "markdown",
   "id": "72398881",
   "metadata": {},
   "source": [
    "##### 2.\tWrite a Python program to print all disarium numbers between 1 to 100?"
   ]
  },
  {
   "cell_type": "code",
   "execution_count": 2,
   "id": "91c54b15",
   "metadata": {},
   "outputs": [
    {
     "name": "stdout",
     "output_type": "stream",
     "text": [
      "1 is a Disarium Number.\n",
      "2 is a Disarium Number.\n",
      "3 is a Disarium Number.\n",
      "4 is a Disarium Number.\n",
      "5 is a Disarium Number.\n",
      "6 is a Disarium Number.\n",
      "7 is a Disarium Number.\n",
      "8 is a Disarium Number.\n",
      "9 is a Disarium Number.\n",
      "89 is a Disarium Number.\n"
     ]
    }
   ],
   "source": [
    "def disarium_num(n):\n",
    "    n_len = len(str(n))\n",
    "\n",
    "    temp = n\n",
    "    n_sum = 0\n",
    "    rem = 0\n",
    "\n",
    "    while temp > 0:\n",
    "        rem = temp % 10\n",
    "        n_sum = n_sum + int(rem**n_len)\n",
    "        temp = temp // 10\n",
    "        n_len = n_len - 1\n",
    "\n",
    "    if n_sum == n:\n",
    "        print(\"%d is a Disarium Number.\" %n)\n",
    "        \n",
    "for i in range(1,100):\n",
    "    disarium_num(i)"
   ]
  },
  {
   "cell_type": "markdown",
   "id": "f6c85826",
   "metadata": {},
   "source": [
    "##### 3.\tWrite a Python program to check if the given number is Happy Number?"
   ]
  },
  {
   "cell_type": "code",
   "execution_count": 3,
   "id": "b056e169",
   "metadata": {},
   "outputs": [
    {
     "name": "stdout",
     "output_type": "stream",
     "text": [
      "Enter any number to check if its a Happy Number: 7\n",
      "Yes\n"
     ]
    }
   ],
   "source": [
    "def sum_square(n) :\n",
    "    sq = 0\n",
    "    while (n) :\n",
    "        digit = n % 10\n",
    "        sq = sq + digit * digit\n",
    "        n = n // 10\n",
    "    return sq\n",
    "\n",
    "def n_Happy(n) :\n",
    "    while (1) :\n",
    "        if (n == 1) :\n",
    "            return True\n",
    "        n = sum_square(n)\n",
    "        if (n == 4) :\n",
    "            return False \n",
    "    return False\n",
    " \n",
    "n = int(input(\"Enter any number to check if its a Happy Number: \"))\n",
    "if (n_Happy(n)) :\n",
    "    print(\"Yes\")\n",
    "else :\n",
    "    print(\"No\")     "
   ]
  },
  {
   "cell_type": "markdown",
   "id": "28a93bad",
   "metadata": {},
   "source": [
    "##### 4.\tWrite a Python program to print all happy numbers between 1 and 100?"
   ]
  },
  {
   "cell_type": "code",
   "execution_count": 4,
   "id": "8367ff66",
   "metadata": {},
   "outputs": [
    {
     "name": "stdout",
     "output_type": "stream",
     "text": [
      "Happy numbers from 1 to 100 are:  [1, 7, 10, 13, 19, 23, 28, 31, 32, 44, 49, 68, 70, 79, 82, 86, 91, 94, 97]\n"
     ]
    }
   ],
   "source": [
    "def sum_square(n) :\n",
    "    sq = 0\n",
    "    while (n) :\n",
    "        digit = n % 10\n",
    "        sq = sq + digit * digit\n",
    "        n = n // 10\n",
    "    return sq\n",
    "\n",
    "def n_Happy(n) :\n",
    "    while (1) :\n",
    "        if (n == 1) :\n",
    "            return True\n",
    "        n = sum_square(n)\n",
    "        if (n == 4) :\n",
    "            return False \n",
    "    return False\n",
    "\n",
    "happy_nums = []\n",
    "for i in range(1,100):\n",
    "    if (n_Happy(i)) :\n",
    "        happy_nums.append(i)\n",
    "print('Happy numbers from 1 to 100 are: ', happy_nums)"
   ]
  },
  {
   "cell_type": "markdown",
   "id": "18b668cd",
   "metadata": {},
   "source": [
    "##### 5.\tWrite a Python program to determine whether the given number is a Harshad Number?"
   ]
  },
  {
   "cell_type": "code",
   "execution_count": 5,
   "id": "884eb8e0",
   "metadata": {},
   "outputs": [
    {
     "name": "stdout",
     "output_type": "stream",
     "text": [
      "Enter number: 154\n",
      "154 is Not Harshad Number\n"
     ]
    }
   ],
   "source": [
    "def harshad_num(n):\n",
    "    x = n\n",
    "    digit_sum = 0\n",
    "    while n:\n",
    "        digit_sum += n%10\n",
    "        n //= 10\n",
    "        \n",
    "    if x%digit_sum == 0:\n",
    "        print('%d is Harshad Number' % (x))\n",
    "    else:\n",
    "        print('%d is Not Harshad Number' % (x))\n",
    "    \n",
    "n = int(input('Enter number: '))\n",
    "harshad_num(n)"
   ]
  },
  {
   "cell_type": "markdown",
   "id": "5c5fc881",
   "metadata": {},
   "source": [
    "##### 6.\tWrite a Python program to print all pronic numbers between 1 and 100?"
   ]
  },
  {
   "cell_type": "code",
   "execution_count": 6,
   "id": "3bd04a18",
   "metadata": {},
   "outputs": [
    {
     "name": "stdout",
     "output_type": "stream",
     "text": [
      "Harshad numbers from 1 to 100 are:  [1, 2, 3, 4, 5, 6, 7, 8, 9, 10, 12, 18, 20, 21, 24, 27, 30, 36, 40, 42, 45, 48, 50, 54, 60, 63, 70, 72, 80, 81, 84, 90]\n"
     ]
    }
   ],
   "source": [
    "def harshad_num(n):\n",
    "    x = n\n",
    "    digit_sum = 0\n",
    "    while n:\n",
    "        digit_sum += n%10\n",
    "        n //= 10\n",
    "        \n",
    "    if x%digit_sum == 0:\n",
    "        return (x)\n",
    "    else:\n",
    "        return False\n",
    "    \n",
    "har_num = []\n",
    "for i in range(1,100):\n",
    "    if harshad_num(i):\n",
    "        har_num.append(i)\n",
    "print('Harshad numbers from 1 to 100 are: ', har_num)"
   ]
  }
 ],
 "metadata": {
  "kernelspec": {
   "display_name": "Python 3",
   "language": "python",
   "name": "python3"
  },
  "language_info": {
   "codemirror_mode": {
    "name": "ipython",
    "version": 3
   },
   "file_extension": ".py",
   "mimetype": "text/x-python",
   "name": "python",
   "nbconvert_exporter": "python",
   "pygments_lexer": "ipython3",
   "version": "3.9.12"
  }
 },
 "nbformat": 4,
 "nbformat_minor": 5
}
