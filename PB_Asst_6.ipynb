{
 "cells": [
  {
   "cell_type": "markdown",
   "id": "a6805a7d",
   "metadata": {},
   "source": [
    "### Python Basics Assignment 6"
   ]
  },
  {
   "cell_type": "markdown",
   "id": "ba6f3ad6",
   "metadata": {},
   "source": [
    "### 1) What are escape characters, and how do you use them?"
   ]
  },
  {
   "cell_type": "markdown",
   "id": "0a1ef459",
   "metadata": {},
   "source": [
    "- Generally we respresent strings inside quotes, be it single, double or triple. Incase, we want to represent a particular word in a string inside quotes, python will throw an error. We can avoid this by using backslash (\\) called as escape characters or special characters. It is used representing certain whitespace characters. Some particular characters followed by backslash have a unique functionality e.g. \\n represents a new line, \\t - tab space. Prefixing a special character with \"\\\" turns it into an ordinary character. This is called \"escaping\"."
   ]
  },
  {
   "cell_type": "code",
   "execution_count": 1,
   "id": "cd548a9d",
   "metadata": {},
   "outputs": [
    {
     "name": "stdout",
     "output_type": "stream",
     "text": [
      "This is an \"escape\" character\n"
     ]
    }
   ],
   "source": [
    "print(\"This is an \\\"escape\\\" character\")"
   ]
  },
  {
   "cell_type": "markdown",
   "id": "9a3d89b0",
   "metadata": {},
   "source": [
    "### 2) What do the escape characters n and t stand for?"
   ]
  },
  {
   "cell_type": "markdown",
   "id": "f50d1287",
   "metadata": {},
   "source": [
    "- \\n stands for new line \n",
    "- \\t stands for Horizontal tab space"
   ]
  },
  {
   "cell_type": "code",
   "execution_count": 2,
   "id": "c592239a",
   "metadata": {},
   "outputs": [
    {
     "name": "stdout",
     "output_type": "stream",
     "text": [
      "escape\n",
      "characters\n"
     ]
    }
   ],
   "source": [
    "print('escape\\ncharacters')"
   ]
  },
  {
   "cell_type": "code",
   "execution_count": 3,
   "id": "f7a5e569",
   "metadata": {},
   "outputs": [
    {
     "name": "stdout",
     "output_type": "stream",
     "text": [
      "escape\tcharacters\n"
     ]
    }
   ],
   "source": [
    "print('escape\\tcharacters')"
   ]
  },
  {
   "cell_type": "markdown",
   "id": "ac11060d",
   "metadata": {},
   "source": [
    "### 3) What is the way to include backslash characters in a string?"
   ]
  },
  {
   "cell_type": "markdown",
   "id": "bbc75561",
   "metadata": {},
   "source": [
    "- \"\\\\\" stands for Backslash; \\ used to escape itself"
   ]
  },
  {
   "cell_type": "code",
   "execution_count": 4,
   "id": "820f9d57",
   "metadata": {},
   "outputs": [
    {
     "name": "stdout",
     "output_type": "stream",
     "text": [
      "\"\\\" is the backslash\n"
     ]
    }
   ],
   "source": [
    "print('\"\\\\\" is the backslash')"
   ]
  },
  {
   "cell_type": "markdown",
   "id": "28a03a43",
   "metadata": {},
   "source": [
    "### 4) The string \"Howl's Moving Castle\" is a correct value. Why isn't the single quote character in the word Howl's not escaped a problem?"
   ]
  },
  {
   "cell_type": "markdown",
   "id": "6ff98a6e",
   "metadata": {},
   "source": [
    "- Single quote within double quotes will be read as a normal string"
   ]
  },
  {
   "cell_type": "code",
   "execution_count": 5,
   "id": "1b65217f",
   "metadata": {},
   "outputs": [
    {
     "name": "stdout",
     "output_type": "stream",
     "text": [
      "Howl's Moving Castle\n"
     ]
    }
   ],
   "source": [
    "print(\"Howl's Moving Castle\")"
   ]
  },
  {
   "cell_type": "markdown",
   "id": "db9335b3",
   "metadata": {},
   "source": [
    "### 5) How do you write a string of newlines if you don't want to use the n character?"
   ]
  },
  {
   "cell_type": "markdown",
   "id": "f49e4295",
   "metadata": {},
   "source": [
    "- Multiline string represented within triple quotes, just like writing a comment, will help us write a string of newlines"
   ]
  },
  {
   "cell_type": "markdown",
   "id": "b9e98f09",
   "metadata": {},
   "source": [
    "\"\"\" Multiline string\n",
    "represented as \n",
    "string of new lines\"\"\""
   ]
  },
  {
   "cell_type": "markdown",
   "id": "6b03904d",
   "metadata": {},
   "source": [
    "### 6) What are the values of the given expressions?\n",
    "- 'Hello, world!'[1]\n",
    "- 'Hello, world!'[0:5]\n",
    "- 'Hello, world!'[:5]\n",
    "- 'Hello, world!'[3:]"
   ]
  },
  {
   "cell_type": "code",
   "execution_count": 6,
   "id": "d4d000af",
   "metadata": {},
   "outputs": [
    {
     "data": {
      "text/plain": [
       "'e'"
      ]
     },
     "execution_count": 6,
     "metadata": {},
     "output_type": "execute_result"
    }
   ],
   "source": [
    "'Hello, world!'[1]"
   ]
  },
  {
   "cell_type": "code",
   "execution_count": 7,
   "id": "f8db7572",
   "metadata": {},
   "outputs": [
    {
     "data": {
      "text/plain": [
       "'Hello'"
      ]
     },
     "execution_count": 7,
     "metadata": {},
     "output_type": "execute_result"
    }
   ],
   "source": [
    "'Hello, world!'[0:5]"
   ]
  },
  {
   "cell_type": "code",
   "execution_count": 8,
   "id": "c04cc9db",
   "metadata": {},
   "outputs": [
    {
     "data": {
      "text/plain": [
       "'Hello'"
      ]
     },
     "execution_count": 8,
     "metadata": {},
     "output_type": "execute_result"
    }
   ],
   "source": [
    "'Hello, world!'[:5]"
   ]
  },
  {
   "cell_type": "code",
   "execution_count": 9,
   "id": "677f1e84",
   "metadata": {},
   "outputs": [
    {
     "data": {
      "text/plain": [
       "'lo, world!'"
      ]
     },
     "execution_count": 9,
     "metadata": {},
     "output_type": "execute_result"
    }
   ],
   "source": [
    "'Hello, world!'[3:]"
   ]
  },
  {
   "cell_type": "markdown",
   "id": "1204537e",
   "metadata": {},
   "source": [
    "### 7) What are the values of the following expressions?\n",
    "- 'Hello'.upper()\n",
    "- 'Hello'.upper().isupper()\n",
    "- 'Hello'.upper().lower()"
   ]
  },
  {
   "cell_type": "code",
   "execution_count": 10,
   "id": "4228154c",
   "metadata": {},
   "outputs": [
    {
     "data": {
      "text/plain": [
       "'HELLO'"
      ]
     },
     "execution_count": 10,
     "metadata": {},
     "output_type": "execute_result"
    }
   ],
   "source": [
    "'Hello'.upper()"
   ]
  },
  {
   "cell_type": "code",
   "execution_count": 11,
   "id": "98257946",
   "metadata": {},
   "outputs": [
    {
     "data": {
      "text/plain": [
       "True"
      ]
     },
     "execution_count": 11,
     "metadata": {},
     "output_type": "execute_result"
    }
   ],
   "source": [
    "'Hello'.upper().isupper()"
   ]
  },
  {
   "cell_type": "code",
   "execution_count": 12,
   "id": "27de3562",
   "metadata": {},
   "outputs": [
    {
     "data": {
      "text/plain": [
       "'hello'"
      ]
     },
     "execution_count": 12,
     "metadata": {},
     "output_type": "execute_result"
    }
   ],
   "source": [
    "'Hello'.upper().lower()"
   ]
  },
  {
   "cell_type": "markdown",
   "id": "0757c826",
   "metadata": {},
   "source": [
    "### 8) What are the values of the following expressions?\n",
    "- 'Remember, remember, the fifth of July.'.split()\n",
    "- '-'.join('There can only one.'.split())"
   ]
  },
  {
   "cell_type": "code",
   "execution_count": 13,
   "id": "cd9b930d",
   "metadata": {},
   "outputs": [
    {
     "name": "stdout",
     "output_type": "stream",
     "text": [
      "['Remember,', 'remember,', 'the', 'fifth', 'of', 'July.']\n"
     ]
    }
   ],
   "source": [
    "a = 'Remember, remember, the fifth of July.'\n",
    "print(a.split()) # splits the sentence, basis a whitespace, into a list of items"
   ]
  },
  {
   "cell_type": "code",
   "execution_count": 14,
   "id": "c711b893",
   "metadata": {},
   "outputs": [
    {
     "data": {
      "text/plain": [
       "'There-can-only-one.'"
      ]
     },
     "execution_count": 14,
     "metadata": {},
     "output_type": "execute_result"
    }
   ],
   "source": [
    "'-'.join('There can only one.'.split()) # splits the sentence basis whitespace into list of items and joins each item with the help of '-'"
   ]
  },
  {
   "cell_type": "markdown",
   "id": "0be139c5",
   "metadata": {},
   "source": [
    "### 9)What are the methods for right-justifying, left-justifying, and centering a string?"
   ]
  },
  {
   "cell_type": "markdown",
   "id": "42a4e0cb",
   "metadata": {},
   "source": [
    "- string.ljust() returns left justified string with given width (n-spaces) e.g. 'string    '\n",
    "- string.rjust() returns right justified string with given width (n-spaces) e.g. '    string'\n",
    "- string.center() returns center justified string with given width (n-spaces) e.g. '  string  '"
   ]
  },
  {
   "cell_type": "code",
   "execution_count": 15,
   "id": "ee96eedf",
   "metadata": {},
   "outputs": [
    {
     "data": {
      "text/plain": [
       "'string    '"
      ]
     },
     "execution_count": 15,
     "metadata": {},
     "output_type": "execute_result"
    }
   ],
   "source": [
    "a = \"string\"\n",
    "a.ljust(10)"
   ]
  },
  {
   "cell_type": "code",
   "execution_count": 16,
   "id": "d1c806fd",
   "metadata": {},
   "outputs": [
    {
     "data": {
      "text/plain": [
       "'    string'"
      ]
     },
     "execution_count": 16,
     "metadata": {},
     "output_type": "execute_result"
    }
   ],
   "source": [
    "a.rjust(10)"
   ]
  },
  {
   "cell_type": "code",
   "execution_count": 17,
   "id": "0c2b9a85",
   "metadata": {},
   "outputs": [
    {
     "data": {
      "text/plain": [
       "'  string  '"
      ]
     },
     "execution_count": 17,
     "metadata": {},
     "output_type": "execute_result"
    }
   ],
   "source": [
    "a.center(10)"
   ]
  },
  {
   "cell_type": "markdown",
   "id": "cd0d87c3",
   "metadata": {},
   "source": [
    "### 10) What is the best way to remove whitespace characters from the start or end?"
   ]
  },
  {
   "cell_type": "markdown",
   "id": "4b3876c3",
   "metadata": {},
   "source": [
    "- strip function, strip(), is used to strip the specified characters from the start or the end.\n",
    "- lstrip(), is used to strip the specified (here, whitespace) characters from the start\n",
    "- rstrip(), is used to strip the specified (here, whitespace) characters from the end"
   ]
  },
  {
   "cell_type": "code",
   "execution_count": 18,
   "id": "80b0e03a",
   "metadata": {},
   "outputs": [
    {
     "data": {
      "text/plain": [
       "'tring'"
      ]
     },
     "execution_count": 18,
     "metadata": {},
     "output_type": "execute_result"
    }
   ],
   "source": [
    "\"strings\".strip('s')"
   ]
  },
  {
   "cell_type": "code",
   "execution_count": 19,
   "id": "25987ae2",
   "metadata": {},
   "outputs": [
    {
     "data": {
      "text/plain": [
       "'tring'"
      ]
     },
     "execution_count": 19,
     "metadata": {},
     "output_type": "execute_result"
    }
   ],
   "source": [
    "\"strings\".strip('s')"
   ]
  },
  {
   "cell_type": "code",
   "execution_count": 20,
   "id": "8bf83e27",
   "metadata": {},
   "outputs": [
    {
     "data": {
      "text/plain": [
       "'trings'"
      ]
     },
     "execution_count": 20,
     "metadata": {},
     "output_type": "execute_result"
    }
   ],
   "source": [
    "\"strings\".lstrip('s')"
   ]
  }
 ],
 "metadata": {
  "kernelspec": {
   "display_name": "Python 3",
   "language": "python",
   "name": "python3"
  },
  "language_info": {
   "codemirror_mode": {
    "name": "ipython",
    "version": 3
   },
   "file_extension": ".py",
   "mimetype": "text/x-python",
   "name": "python",
   "nbconvert_exporter": "python",
   "pygments_lexer": "ipython3",
   "version": "3.9.12"
  }
 },
 "nbformat": 4,
 "nbformat_minor": 5
}
