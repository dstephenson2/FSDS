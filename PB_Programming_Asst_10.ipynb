{
 "cells": [
  {
   "cell_type": "markdown",
   "id": "d6cc32a6",
   "metadata": {},
   "source": [
    "### PB Programming Assignment 10"
   ]
  },
  {
   "cell_type": "markdown",
   "id": "a12be706",
   "metadata": {},
   "source": [
    "##### 1.\tWrite a Python program to find sum of elements in list?"
   ]
  },
  {
   "cell_type": "code",
   "execution_count": 1,
   "id": "3af6d17e",
   "metadata": {},
   "outputs": [
    {
     "name": "stdout",
     "output_type": "stream",
     "text": [
      "The sum of the given list is:  46\n"
     ]
    }
   ],
   "source": [
    "list_1 = [2,3,2,4,2,6,9,6,7,5]\n",
    "\n",
    "def sum_list(list_1):\n",
    "    sum_list = 0\n",
    "    for i in list_1:\n",
    "        sum_list += i\n",
    "    return sum_list\n",
    "\n",
    "print(\"The sum of the given list is: \", sum_list(list_1))"
   ]
  },
  {
   "cell_type": "markdown",
   "id": "55251d51",
   "metadata": {},
   "source": [
    "##### 2.\tWrite a Python program to  Multiply all numbers in the list?"
   ]
  },
  {
   "cell_type": "code",
   "execution_count": 2,
   "id": "c1bed4e4",
   "metadata": {},
   "outputs": [
    {
     "name": "stdout",
     "output_type": "stream",
     "text": [
      "The result of multiplication of the given list is:  1088640\n"
     ]
    }
   ],
   "source": [
    "def mul_list(list_1):\n",
    "    mul_list = 1\n",
    "    for i in list_1:\n",
    "        mul_list *= i\n",
    "    return mul_list\n",
    "\n",
    "print(\"The result of multiplication of the given list is: \", mul_list(list_1))"
   ]
  },
  {
   "cell_type": "markdown",
   "id": "11bdc4be",
   "metadata": {},
   "source": [
    "##### 3.\tWrite a Python program to find smallest number in a list?"
   ]
  },
  {
   "cell_type": "code",
   "execution_count": 3,
   "id": "a8c08fe5",
   "metadata": {},
   "outputs": [
    {
     "name": "stdout",
     "output_type": "stream",
     "text": [
      "Smallest number in the given list is:  2\n"
     ]
    }
   ],
   "source": [
    "print(\"Smallest number in the given list is: \", min(list_1))"
   ]
  },
  {
   "cell_type": "markdown",
   "id": "d9c187fb",
   "metadata": {},
   "source": [
    "##### 4.\tWrite a Python program to find largest number in a list?"
   ]
  },
  {
   "cell_type": "code",
   "execution_count": 4,
   "id": "bd62932d",
   "metadata": {},
   "outputs": [
    {
     "name": "stdout",
     "output_type": "stream",
     "text": [
      "Largest number in the given list is:  9\n"
     ]
    }
   ],
   "source": [
    "def max_list(list_1):\n",
    "    max_num = 0\n",
    "    for i in list_1:\n",
    "        if i > max_num:\n",
    "            max_num = i\n",
    "    return max_num\n",
    "\n",
    "print(\"Largest number in the given list is: \", max_list(list_1))"
   ]
  },
  {
   "cell_type": "code",
   "execution_count": 5,
   "id": "29ab6127",
   "metadata": {},
   "outputs": [
    {
     "name": "stdout",
     "output_type": "stream",
     "text": [
      "Largest number in the given list is:  9\n"
     ]
    }
   ],
   "source": [
    "print(\"Largest number in the given list is: \", max(list_1))"
   ]
  },
  {
   "cell_type": "markdown",
   "id": "f7183b49",
   "metadata": {},
   "source": [
    "##### 5.\tWrite a Python program to find second largest number in a list?"
   ]
  },
  {
   "cell_type": "code",
   "execution_count": 6,
   "id": "29029b8b",
   "metadata": {},
   "outputs": [
    {
     "name": "stdout",
     "output_type": "stream",
     "text": [
      "Second Largest number in the given list is:  7\n"
     ]
    }
   ],
   "source": [
    "def second_largest(list_1):\n",
    "    list_1.sort()\n",
    "    return (list_1[-2])\n",
    "\n",
    "print(\"Second Largest number in the given list is: \", second_largest(list_1))"
   ]
  },
  {
   "cell_type": "markdown",
   "id": "16765409",
   "metadata": {},
   "source": [
    "##### 6.\tWrite a Python program to find N largest elements from a list?"
   ]
  },
  {
   "cell_type": "code",
   "execution_count": 7,
   "id": "8f08d2a9",
   "metadata": {},
   "outputs": [
    {
     "name": "stdout",
     "output_type": "stream",
     "text": [
      "Enter the value of N to find out N largest elements in the list: 3\n",
      "N Largest elements from the list are:  [9, 7, 6]\n"
     ]
    }
   ],
   "source": [
    "def n_largest(list_1,n):\n",
    "    list_1.sort()\n",
    "    n_large = []\n",
    "    for i in range(1,n+1):\n",
    "        n_large.append(list_1[-i])\n",
    "    return n_large\n",
    "\n",
    "n = int(input('Enter the value of N to find out N largest elements in the list: '))\n",
    "print('N Largest elements from the list are: ', n_largest(list_1,n))"
   ]
  },
  {
   "cell_type": "markdown",
   "id": "014ead65",
   "metadata": {},
   "source": [
    "##### 7.\tWrite a Python program to print even numbers in a list?"
   ]
  },
  {
   "cell_type": "code",
   "execution_count": 8,
   "id": "1ce406be",
   "metadata": {},
   "outputs": [
    {
     "name": "stdout",
     "output_type": "stream",
     "text": [
      "Even numbers in the given list are:  [2, 2, 2, 4, 6, 6]\n"
     ]
    }
   ],
   "source": [
    "def even(list_1):\n",
    "    return ([x for x in list_1 if x%2 == 0])\n",
    "\n",
    "print(\"Even numbers in the given list are: \", even(list_1))"
   ]
  },
  {
   "cell_type": "markdown",
   "id": "bbb6612e",
   "metadata": {},
   "source": [
    "##### 8.\tWrite a Python program to print odd numbers in a List?"
   ]
  },
  {
   "cell_type": "code",
   "execution_count": 9,
   "id": "16b9a2ff",
   "metadata": {},
   "outputs": [
    {
     "name": "stdout",
     "output_type": "stream",
     "text": [
      "Even numbers in the given list are:  [3, 5, 7, 9]\n"
     ]
    }
   ],
   "source": [
    "def odd(list_1):\n",
    "    return ([x for x in list_1 if x%2 != 0])\n",
    "\n",
    "print(\"Even numbers in the given list are: \", odd(list_1))"
   ]
  },
  {
   "cell_type": "markdown",
   "id": "337208fb",
   "metadata": {},
   "source": [
    "##### 9.\tWrite a Python program to Remove empty List from List?"
   ]
  },
  {
   "cell_type": "code",
   "execution_count": 10,
   "id": "545533fe",
   "metadata": {},
   "outputs": [
    {
     "data": {
      "text/plain": [
       "[2, 2, 2, 3, [], 4, 5, 6, 6, 7, 9]"
      ]
     },
     "execution_count": 10,
     "metadata": {},
     "output_type": "execute_result"
    }
   ],
   "source": [
    "list_1.insert(4,[])\n",
    "list_1"
   ]
  },
  {
   "cell_type": "code",
   "execution_count": 11,
   "id": "76485713",
   "metadata": {},
   "outputs": [
    {
     "data": {
      "text/plain": [
       "[2, 2, 2, 3, 4, 5, 6, 6, 7, 9]"
      ]
     },
     "execution_count": 11,
     "metadata": {},
     "output_type": "execute_result"
    }
   ],
   "source": [
    "list_1.remove([])\n",
    "list_1"
   ]
  },
  {
   "cell_type": "markdown",
   "id": "885c1615",
   "metadata": {},
   "source": [
    "##### 10.\tWrite a Python program to Cloning or Copying a list?"
   ]
  },
  {
   "cell_type": "code",
   "execution_count": 12,
   "id": "6a2fe875",
   "metadata": {},
   "outputs": [
    {
     "data": {
      "text/plain": [
       "[2, 2, 2, 3, 4, 5, 6, 6, 7, 9]"
      ]
     },
     "execution_count": 12,
     "metadata": {},
     "output_type": "execute_result"
    }
   ],
   "source": [
    "list_2 = list_1.copy()\n",
    "list_2"
   ]
  },
  {
   "cell_type": "code",
   "execution_count": 13,
   "id": "f80232b7",
   "metadata": {},
   "outputs": [
    {
     "data": {
      "text/plain": [
       "[2, 2, 2, 3, 4, 5, 6, 6, 7, 9]"
      ]
     },
     "execution_count": 13,
     "metadata": {},
     "output_type": "execute_result"
    }
   ],
   "source": [
    "list_3 = [x for x in list_1]\n",
    "list_3"
   ]
  },
  {
   "cell_type": "markdown",
   "id": "6eef5b82",
   "metadata": {},
   "source": [
    "##### 11.\tWrite a Python program to Count occurrences of an element in a list?"
   ]
  },
  {
   "cell_type": "code",
   "execution_count": 14,
   "id": "fb70ccf0",
   "metadata": {},
   "outputs": [
    {
     "data": {
      "text/plain": [
       "3"
      ]
     },
     "execution_count": 14,
     "metadata": {},
     "output_type": "execute_result"
    }
   ],
   "source": [
    "list_1.count(2)"
   ]
  }
 ],
 "metadata": {
  "kernelspec": {
   "display_name": "Python 3",
   "language": "python",
   "name": "python3"
  },
  "language_info": {
   "codemirror_mode": {
    "name": "ipython",
    "version": 3
   },
   "file_extension": ".py",
   "mimetype": "text/x-python",
   "name": "python",
   "nbconvert_exporter": "python",
   "pygments_lexer": "ipython3",
   "version": "3.9.12"
  }
 },
 "nbformat": 4,
 "nbformat_minor": 5
}
