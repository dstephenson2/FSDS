{
 "cells": [
  {
   "cell_type": "markdown",
   "id": "23b7fcf7",
   "metadata": {},
   "source": [
    "### PB Programming Assignment 11"
   ]
  },
  {
   "cell_type": "markdown",
   "id": "d66b9220",
   "metadata": {},
   "source": [
    "##### 1.\tWrite a Python program to find words which are greater than given length k?"
   ]
  },
  {
   "cell_type": "code",
   "execution_count": 1,
   "id": "17916332",
   "metadata": {},
   "outputs": [
    {
     "name": "stdout",
     "output_type": "stream",
     "text": [
      "Enter any sentence: Hello Daniel!!! How are you?\n",
      "Enter the length of word you want to capture: 3\n",
      "The sentence you have entered is:  Hello Daniel!!! How are you?\n",
      "Words in the sentence of size greater than 3 are:  ['Hello', 'Daniel']\n"
     ]
    }
   ],
   "source": [
    "def remove_punc(strng):\n",
    "    punctuations = '''!()-[]{};:'\"\\,<>./?@#$%^&*_~'''\n",
    "    punct_remove = \"\"\n",
    "    for i in strng:\n",
    "        if i not in punctuations:\n",
    "            punct_remove = punct_remove + i\n",
    "    return punct_remove\n",
    "\n",
    "def word_len(string, n):\n",
    "    words = []\n",
    "    for i in string.split(sep=\" \"):\n",
    "        a = remove_punc(i)\n",
    "        if len(a) > n:\n",
    "            words.append(a)\n",
    "    return words\n",
    "\n",
    "string = input(\"Enter any sentence: \")\n",
    "n = int(input(\"Enter the length of word you want to capture: \"))\n",
    "print(\"The sentence you have entered is: \", string)\n",
    "print(\"Words in the sentence of size greater than \" + str(n) + \" are: \", word_len(string, n))"
   ]
  },
  {
   "cell_type": "markdown",
   "id": "03429f5f",
   "metadata": {},
   "source": [
    "##### 2.\tWrite a Python program for removing i-th character from a string?"
   ]
  },
  {
   "cell_type": "code",
   "execution_count": 2,
   "id": "bab4e8c2",
   "metadata": {},
   "outputs": [
    {
     "name": "stdout",
     "output_type": "stream",
     "text": [
      "Enter any sentence: Hello Daniel How are you\n",
      "Enter the ith character to be removed: 7\n",
      "Hello Dniel How are you\n"
     ]
    }
   ],
   "source": [
    "def rem_char(string, i):\n",
    "    return string.replace(string[i],\"\",1)\n",
    "\n",
    "string = input(\"Enter any sentence: \")\n",
    "i = int(input('Enter the ith character to be removed: '))\n",
    "print(rem_char(string,i))"
   ]
  },
  {
   "cell_type": "markdown",
   "id": "8ea91de9",
   "metadata": {},
   "source": [
    "##### 3.\tWrite a Python program to split and join a string?"
   ]
  },
  {
   "cell_type": "code",
   "execution_count": 3,
   "id": "fe5a30a3",
   "metadata": {},
   "outputs": [
    {
     "name": "stdout",
     "output_type": "stream",
     "text": [
      "Enter any string: program\n",
      "Enter the position of the string at which you want to split: 3\n",
      "The string after split and join is:  proram\n"
     ]
    }
   ],
   "source": [
    "def split(string, i):\n",
    "    a = string[:i]\n",
    "    b = string[i+1:]\n",
    "    return a+b\n",
    "\n",
    "string = input(\"Enter any string: \")\n",
    "i = int(input(\"Enter the position of the string at which you want to split: \"))\n",
    "print(\"The string after split and join is: \", split(string, i))"
   ]
  },
  {
   "cell_type": "markdown",
   "id": "6c5400cb",
   "metadata": {},
   "source": [
    "##### 4.\tWrite a Python to check if a given string is binary string or not?"
   ]
  },
  {
   "cell_type": "code",
   "execution_count": 5,
   "id": "12eec55e",
   "metadata": {},
   "outputs": [
    {
     "name": "stdout",
     "output_type": "stream",
     "text": [
      "Enter any binary string: 001a00\n",
      "The string 001a00 is not binary\n"
     ]
    }
   ],
   "source": [
    "def binary(a):\n",
    "    binary = \"01\"\n",
    "    count = 0\n",
    "    for i in a:\n",
    "        count += 1\n",
    "        if i not in binary:\n",
    "            print(\"The string {0} is not binary\".format(a))\n",
    "            break\n",
    "        elif count == len(a):\n",
    "            print(\"The string is binary\")\n",
    "            \n",
    "a = input(\"Enter any binary string: \")\n",
    "binary(a)"
   ]
  },
  {
   "cell_type": "markdown",
   "id": "a1eefc76",
   "metadata": {},
   "source": [
    "##### 5.\tWrite a Python program to find uncommon words from two Strings?"
   ]
  },
  {
   "cell_type": "code",
   "execution_count": 6,
   "id": "16a7ad0b",
   "metadata": {},
   "outputs": [
    {
     "name": "stdout",
     "output_type": "stream",
     "text": [
      "Enter any string: Honey\n",
      "Enter another stringMoney\n",
      "['M', 'H']\n"
     ]
    }
   ],
   "source": [
    "def uncommon_words(a,b):\n",
    "    u_words = list()\n",
    "    for i in b:\n",
    "        if i not in a:\n",
    "            u_words.append(i)\n",
    "    return u_words\n",
    "        \n",
    "a = input(\"Enter any string: \")\n",
    "b = input(\"Enter another string: \")\n",
    "c = uncommon_words(a,b) + uncommon_words(b,a)\n",
    "print(c)"
   ]
  },
  {
   "cell_type": "markdown",
   "id": "7a6d786c",
   "metadata": {},
   "source": [
    "##### 6.\tWrite a Python to find all duplicate characters in string?"
   ]
  },
  {
   "cell_type": "code",
   "execution_count": 8,
   "id": "09bee08e",
   "metadata": {},
   "outputs": [
    {
     "name": "stdout",
     "output_type": "stream",
     "text": [
      "Please enter a string: Malayalam\n",
      "Duplicate characters in the string Malayalam are ['a', 'l', 'm']\n"
     ]
    }
   ],
   "source": [
    "def dup_char(strng):\n",
    "    dup_char = []\n",
    "    unique_char = []\n",
    "    for i in strng.lower():\n",
    "        if i not in unique_char:\n",
    "            unique_char.append(i)\n",
    "        elif i not in dup_char:\n",
    "            dup_char.append(i)\n",
    "        else:\n",
    "            continue\n",
    "    return dup_char\n",
    "\n",
    "strng = input(\"Please enter a string: \")\n",
    "print('Duplicate characters in the string {0} are {1}'.format(strng,dup_char(strng)))"
   ]
  },
  {
   "cell_type": "markdown",
   "id": "e44fd35a",
   "metadata": {},
   "source": [
    "##### 7.\tWrite a Python Program to check if a string contains any special character?"
   ]
  },
  {
   "cell_type": "code",
   "execution_count": 9,
   "id": "10fe1083",
   "metadata": {},
   "outputs": [
    {
     "name": "stdout",
     "output_type": "stream",
     "text": [
      "Enter any string: step#hen\n",
      "Yes,there are special characters # in the string step#hen\n"
     ]
    }
   ],
   "source": [
    "def special_character(strng):\n",
    "    spl_char = '''!()-[]{};:'\"\\,<>./?@#$%^&*_~'''\n",
    "    count = 0\n",
    "    for i in strng:\n",
    "        count += 1\n",
    "        if i in spl_char:\n",
    "            print(\"Yes,there are special characters {0} in the string {1}\". format(i, strng))\n",
    "            break\n",
    "        elif count == len(strng):\n",
    "            print(\"No, there are no special characters in the string {0}\". format(strng))\n",
    "        \n",
    "strng = input(\"Enter any string: \")\n",
    "special_character(strng)"
   ]
  }
 ],
 "metadata": {
  "kernelspec": {
   "display_name": "Python 3",
   "language": "python",
   "name": "python3"
  },
  "language_info": {
   "codemirror_mode": {
    "name": "ipython",
    "version": 3
   },
   "file_extension": ".py",
   "mimetype": "text/x-python",
   "name": "python",
   "nbconvert_exporter": "python",
   "pygments_lexer": "ipython3",
   "version": "3.9.12"
  }
 },
 "nbformat": 4,
 "nbformat_minor": 5
}
