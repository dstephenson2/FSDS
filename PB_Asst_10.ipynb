{
 "cells": [
  {
   "cell_type": "markdown",
   "id": "b326b5a3",
   "metadata": {},
   "source": [
    "### Python Basics Assignment 10"
   ]
  },
  {
   "cell_type": "markdown",
   "id": "e662ef4f",
   "metadata": {},
   "source": [
    "##### 1. How do you distinguish between shutil.copy() and shutil.copytree()?"
   ]
  },
  {
   "cell_type": "markdown",
   "id": "b0ad2e3a",
   "metadata": {},
   "source": [
    "- shutil.copy(source, destination) will copy the file at the path source to the folder at the path destination. (Both source and destination can be strings or Path objects.) If destination is a filename, it will be used as the new name of the copied file. This function returns a string or Path object of the copied file.\n",
    "- shutil.copytree(source, destination) will copy entire folder at the path source, along with all of its files and subfolders, to the folder at the path destination. The source and destination parameters are both strings. The function returns a string of the path of the copied folder."
   ]
  },
  {
   "cell_type": "markdown",
   "id": "52a50ba8",
   "metadata": {},
   "source": [
    "##### 2. What function is used to rename files??"
   ]
  },
  {
   "cell_type": "markdown",
   "id": "c18eb366",
   "metadata": {},
   "source": [
    "- shutil.move(source, destination) will move the file or folder at the path source to the path destination. If a file with same file name already exists in the destination, it would have been overwritten. Inorder, to avoid overwritting, The destination path can also specify a filename, the source file is then moved and renamed. In an alternate case, where the destination folder is not found, it assumes that the destination must be a filename and renames the text file mentioned in the source file to filename mentioned in the destination. "
   ]
  },
  {
   "cell_type": "markdown",
   "id": "90d01009",
   "metadata": {},
   "source": [
    "##### 3. What is the difference between the delete functions in the send2trash and shutil modules?"
   ]
  },
  {
   "cell_type": "markdown",
   "id": "c6d9a2f7",
   "metadata": {},
   "source": [
    "- We can delete a single file or a single empty folder with functions in the os module, whereas to delete a folder and all of its contents, we use the shutil module which irreversibly deletes files and folders, it can be dangerous to use.\n",
    "- Using send2trash is much safer, because it will send folders and files to your computer’s trash or recycle bin instead of permanently deleting them. If a bug in your program deletes something with send2trash you didn’t intend to delete, you can later restore it from the recycle bin."
   ]
  },
  {
   "cell_type": "markdown",
   "id": "35514909",
   "metadata": {},
   "source": [
    "##### 4.ZipFile objects have a close() method just like File objects’ close() method. What ZipFile method is equivalent to File objects’ open() method?"
   ]
  },
  {
   "cell_type": "markdown",
   "id": "2e949540",
   "metadata": {},
   "source": [
    "- Opening the ZipFile object in write mode by passing 'w' as the second argument is similar to opening a text file in write mode by passing 'w' to the open() function. zipfile.ZipFile() function is equivalent to the open() function; the first argument is the filename, and the second argument is the mode to open the ZIP file in (read, write, or append)."
   ]
  },
  {
   "cell_type": "markdown",
   "id": "b1f3797d",
   "metadata": {},
   "source": [
    "##### 5. Create a programme that searches a folder tree for files with a certain file extension (such as .pdf or .jpg). Copy these files from whatever location they are in to a new folder."
   ]
  },
  {
   "cell_type": "code",
   "execution_count": 1,
   "id": "05223528",
   "metadata": {},
   "outputs": [
    {
     "name": "stdout",
     "output_type": "stream",
     "text": [
      "/Users/Daniel Stephenson/Desktop/newPDFs\\2013_research_report_on_pulses.pdf\n",
      "The following file has been copied /Users/Daniel Stephenson/Desktop/newPDFs\\2013_research_report_on_pulses.pdf\n"
     ]
    }
   ],
   "source": [
    "import os\n",
    "import shutil\n",
    "\n",
    "def get_files(start_directory, filter_extension=None):\n",
    "    for root, _, files in os.walk(start_directory):\n",
    "        for file in files:\n",
    "            if filter_extension is None or file.lower().endswith(filter_extension):\n",
    "                yield os.path.join(root, file)\n",
    "\n",
    "def search_copy(source, destination, file_extension=None):\n",
    "    for file in get_files(source, file_extension):\n",
    "        print(file)\n",
    "        shutil.copy(file, destination)\n",
    "        print(\"The following file has been copied\", file)\n",
    "\n",
    "if __name__ == \"__main__\":\n",
    "    search_copy(\"/Users/Daniel Stephenson/Desktop/newPDFs\",\n",
    "                   \"/Users/Daniel Stephenson/Desktop/oldPDFs\",\n",
    "                   \".pdf\")"
   ]
  }
 ],
 "metadata": {
  "kernelspec": {
   "display_name": "Python 3",
   "language": "python",
   "name": "python3"
  },
  "language_info": {
   "codemirror_mode": {
    "name": "ipython",
    "version": 3
   },
   "file_extension": ".py",
   "mimetype": "text/x-python",
   "name": "python",
   "nbconvert_exporter": "python",
   "pygments_lexer": "ipython3",
   "version": "3.9.12"
  }
 },
 "nbformat": 4,
 "nbformat_minor": 5
}
