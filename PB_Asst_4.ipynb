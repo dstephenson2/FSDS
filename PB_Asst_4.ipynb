{
 "cells": [
  {
   "cell_type": "markdown",
   "id": "a9321d4f",
   "metadata": {},
   "source": [
    "### Python_Basics_Assignment_4"
   ]
  },
  {
   "cell_type": "markdown",
   "id": "b8cae507",
   "metadata": {},
   "source": [
    "### 1) What exactly is []?"
   ]
  },
  {
   "cell_type": "markdown",
   "id": "9d632136",
   "metadata": {},
   "source": [
    "- Square Brackets [] are representation for list datatype. Lists are ordered sequence of items seperated by commas declared inside []"
   ]
  },
  {
   "cell_type": "markdown",
   "id": "81a882e9",
   "metadata": {},
   "source": [
    "### 2) In a list of values stored in a variable called spam, how would you assign the value 'hello' as the third value? (Assume [2, 4, 6, 8, 10] are in spam.)"
   ]
  },
  {
   "cell_type": "markdown",
   "id": "c7ba3c9b",
   "metadata": {},
   "source": [
    "- As lists are mutable, we can assign/modify a value by simply define the list along with its index. spam[2] = 'hello'"
   ]
  },
  {
   "cell_type": "code",
   "execution_count": 1,
   "id": "8b78d4da",
   "metadata": {
    "scrolled": true
   },
   "outputs": [
    {
     "name": "stdout",
     "output_type": "stream",
     "text": [
      "[2, 4, 'hello', 8, 10]\n"
     ]
    }
   ],
   "source": [
    "spam = [2,4,6,8,10]\n",
    "spam[2] = 'hello'\n",
    "print(spam)"
   ]
  },
  {
   "cell_type": "markdown",
   "id": "00f83d04",
   "metadata": {},
   "source": [
    "##### Let's pretend the spam includes the list ['a', 'b', 'c', 'd'] for the next three queries."
   ]
  },
  {
   "cell_type": "code",
   "execution_count": 2,
   "id": "88524ea4",
   "metadata": {},
   "outputs": [],
   "source": [
    "spam = ['a','b','c','d']"
   ]
  },
  {
   "cell_type": "markdown",
   "id": "65be8290",
   "metadata": {},
   "source": [
    "### 3) What is the value of spam[int(int('3' * 2) / 11)]?"
   ]
  },
  {
   "cell_type": "code",
   "execution_count": 3,
   "id": "2a9babd4",
   "metadata": {},
   "outputs": [
    {
     "data": {
      "text/plain": [
       "'d'"
      ]
     },
     "execution_count": 3,
     "metadata": {},
     "output_type": "execute_result"
    }
   ],
   "source": [
    "spam[int(int('3'*2)/11)]"
   ]
  },
  {
   "cell_type": "markdown",
   "id": "c90679a3",
   "metadata": {},
   "source": [
    "- Steps of execution\n",
    "        '3'*2 -> '33'\n",
    "        int('33') -> converts string 33 into integer 33\n",
    "        33/11 -> 3.0, ouputs float number 3\n",
    "        int(3.0) -> converts float 3.0 into integer 3\n",
    "        spam[3] -> gives index position 3"
   ]
  },
  {
   "cell_type": "markdown",
   "id": "93c2e41d",
   "metadata": {},
   "source": [
    "### 4) What is the value of spam[-1]?"
   ]
  },
  {
   "cell_type": "markdown",
   "id": "4fa8d27d",
   "metadata": {},
   "source": [
    "- -1 implies last index position from end of the list. Hence the value in the last position is string d. Indexing from starting in the list is from 0, whereas from the end is -1."
   ]
  },
  {
   "cell_type": "code",
   "execution_count": 4,
   "id": "f9d997ba",
   "metadata": {},
   "outputs": [
    {
     "data": {
      "text/plain": [
       "'d'"
      ]
     },
     "execution_count": 4,
     "metadata": {},
     "output_type": "execute_result"
    }
   ],
   "source": [
    "spam[-1]"
   ]
  },
  {
   "cell_type": "markdown",
   "id": "b0961e38",
   "metadata": {},
   "source": [
    "### 5) What is the value of spam[:2]?"
   ]
  },
  {
   "cell_type": "markdown",
   "id": "68bbf7c7",
   "metadata": {},
   "source": [
    "- -2 implies 2nd last index position from end of the list. Hence the value in the 2nd last position is string c."
   ]
  },
  {
   "cell_type": "code",
   "execution_count": 5,
   "id": "15aa5d6f",
   "metadata": {},
   "outputs": [
    {
     "data": {
      "text/plain": [
       "'c'"
      ]
     },
     "execution_count": 5,
     "metadata": {},
     "output_type": "execute_result"
    }
   ],
   "source": [
    "spam[-2]"
   ]
  },
  {
   "cell_type": "markdown",
   "id": "6a1bc38d",
   "metadata": {},
   "source": [
    "### Let's pretend bacon has the list [3.14, 'cat,' 11, 'cat,' True] for the next three questions."
   ]
  },
  {
   "cell_type": "code",
   "execution_count": 6,
   "id": "6ff895e1",
   "metadata": {},
   "outputs": [],
   "source": [
    "bacon = [3.14,'cat',11,'cat',True]"
   ]
  },
  {
   "cell_type": "markdown",
   "id": "3cf8d719",
   "metadata": {},
   "source": [
    "### 6) What is the value of bacon.index('cat')?"
   ]
  },
  {
   "cell_type": "markdown",
   "id": "32bda49c",
   "metadata": {},
   "source": [
    "- .index() returns index of the first occurence of the element in the list "
   ]
  },
  {
   "cell_type": "code",
   "execution_count": 7,
   "id": "f4141015",
   "metadata": {},
   "outputs": [
    {
     "data": {
      "text/plain": [
       "1"
      ]
     },
     "execution_count": 7,
     "metadata": {},
     "output_type": "execute_result"
    }
   ],
   "source": [
    "bacon.index('cat')"
   ]
  },
  {
   "cell_type": "markdown",
   "id": "c0d1a0ae",
   "metadata": {},
   "source": [
    "### 7) How does bacon.append(99) change the look of the list value in bacon?"
   ]
  },
  {
   "cell_type": "markdown",
   "id": "af7e99cf",
   "metadata": {},
   "source": [
    "- .append() adds an element to the end of the list"
   ]
  },
  {
   "cell_type": "code",
   "execution_count": 8,
   "id": "84261bd8",
   "metadata": {},
   "outputs": [
    {
     "name": "stdout",
     "output_type": "stream",
     "text": [
      "[3.14, 'cat', 11, 'cat', True, 99]\n"
     ]
    }
   ],
   "source": [
    "bacon.append(99)\n",
    "print(bacon)"
   ]
  },
  {
   "cell_type": "markdown",
   "id": "4857b05f",
   "metadata": {},
   "source": [
    "### 8) How does bacon.remove('cat') change the look of the list in bacon?"
   ]
  },
  {
   "cell_type": "markdown",
   "id": "26ce976f",
   "metadata": {},
   "source": [
    "- .remove(), removes the first occurence of the item from the list"
   ]
  },
  {
   "cell_type": "code",
   "execution_count": 9,
   "id": "0aa02995",
   "metadata": {},
   "outputs": [
    {
     "name": "stdout",
     "output_type": "stream",
     "text": [
      "[3.14, 11, 'cat', True, 99]\n"
     ]
    }
   ],
   "source": [
    "bacon.remove('cat')\n",
    "print(bacon)"
   ]
  },
  {
   "cell_type": "markdown",
   "id": "26799cfa",
   "metadata": {},
   "source": [
    "### 9) What are the list concatenation and list replication operators?"
   ]
  },
  {
   "cell_type": "markdown",
   "id": "b8e4df4c",
   "metadata": {},
   "source": [
    "- List concatenation is appending one list to another list, or adding one list of values at the end of other list. This operation is done using + operator. List replication is basically repeating each element in the list for n number of times. This operation is doen using * operator."
   ]
  },
  {
   "cell_type": "markdown",
   "id": "bfa55d38",
   "metadata": {},
   "source": [
    "### 10) What is difference between the list methods append() and insert()?"
   ]
  },
  {
   "cell_type": "markdown",
   "id": "6ef6504c",
   "metadata": {},
   "source": [
    "- .append() adds an element to the end of the list, syntax - .append(element); while .insert() inserts an element to the list at a given position, syntax - .insert(index, element)"
   ]
  },
  {
   "cell_type": "markdown",
   "id": "b64e537d",
   "metadata": {},
   "source": [
    "### 11) What are the two methods for removing items from a list?"
   ]
  },
  {
   "cell_type": "markdown",
   "id": "1fc422ed",
   "metadata": {},
   "source": [
    "- list.remove(item) - removes the first occurence of the item from the list\n",
    "- list.pop([index]) - removes item at the given index from the list"
   ]
  },
  {
   "cell_type": "markdown",
   "id": "91d09592",
   "metadata": {},
   "source": [
    "### 12) Describe how list values and string values are identical."
   ]
  },
  {
   "cell_type": "markdown",
   "id": "01158496",
   "metadata": {},
   "source": [
    "- Both list and string are ordered sequence of characters or collection of character\n",
    "- Both list and string values can be traversed through each element in a for loop.\n",
    "- Slicing operations can be performed over both list and string values\n",
    "- Indexing operation also can be performed over both types"
   ]
  },
  {
   "cell_type": "markdown",
   "id": "3e41665e",
   "metadata": {},
   "source": [
    "### 13) What's the difference between tuples and lists?"
   ]
  },
  {
   "cell_type": "markdown",
   "id": "db5c326d",
   "metadata": {},
   "source": [
    "- Major difference between lists and tuples is lists are mutable i.e can be modified, on the other hand, tuples are immutable i.e once created cannot be modified."
   ]
  },
  {
   "cell_type": "markdown",
   "id": "5e21afff",
   "metadata": {},
   "source": [
    "### 14) How do you type a tuple value that only contains the integer 42?"
   ]
  },
  {
   "cell_type": "markdown",
   "id": "73c2849d",
   "metadata": {},
   "source": [
    "- Tuples are defined using parentheses where items are seperated by commas irrespective of number of items. i.e even for a single item we need to mention comma inside the parentheses - (42,)"
   ]
  },
  {
   "cell_type": "markdown",
   "id": "b9f2d434",
   "metadata": {},
   "source": [
    "### 15) How do you get a list value's tuple form? How do you get a tuple value's list form?"
   ]
  },
  {
   "cell_type": "markdown",
   "id": "ed8b0814",
   "metadata": {},
   "source": [
    "- We can get list value's tuple form using the function - tuple(list) say a = [2,3,4] we can get tuple form using tuple(a). Similarly, We can get tuple value's list form using the function - list(tuple) say b = (2,3,4) we can get list form using list(b)."
   ]
  },
  {
   "cell_type": "markdown",
   "id": "5955416e",
   "metadata": {},
   "source": [
    "### 16) Variables that \"contain\" list values are not necessarily lists themselves. Instead, what do they contain?"
   ]
  },
  {
   "cell_type": "markdown",
   "id": "1c942b0c",
   "metadata": {},
   "source": [
    "- Whenever we define a variable which contain a list, that particular variable not only lists but also contains the reference to the list values."
   ]
  },
  {
   "cell_type": "markdown",
   "id": "868dc1fc",
   "metadata": {},
   "source": [
    "### 17) How do you distinguish between copy.copy() and copy.deepcopy()?"
   ]
  },
  {
   "cell_type": "markdown",
   "id": "fb601d97",
   "metadata": {},
   "source": [
    "- copy.copy() function returns a shallow copy of the list, while deepcopy() makes a copy of both the objects indices and data and is recursive. In the case of shallow copy, any changes made to copy will reflect in the original object, while in the case of deep copy any changes made to a copy of the object will not reflect in the parent object."
   ]
  }
 ],
 "metadata": {
  "kernelspec": {
   "display_name": "Python 3",
   "language": "python",
   "name": "python3"
  },
  "language_info": {
   "codemirror_mode": {
    "name": "ipython",
    "version": 3
   },
   "file_extension": ".py",
   "mimetype": "text/x-python",
   "name": "python",
   "nbconvert_exporter": "python",
   "pygments_lexer": "ipython3",
   "version": "3.9.12"
  }
 },
 "nbformat": 4,
 "nbformat_minor": 5
}
