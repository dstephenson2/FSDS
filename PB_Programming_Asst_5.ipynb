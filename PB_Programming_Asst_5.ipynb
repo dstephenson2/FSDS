{
 "cells": [
  {
   "cell_type": "markdown",
   "id": "79fac329",
   "metadata": {},
   "source": [
    "### Python Programming Assignment 5"
   ]
  },
  {
   "cell_type": "markdown",
   "id": "4419b63c",
   "metadata": {},
   "source": [
    "##### 1.\tWrite a Python Program to Find LCM?"
   ]
  },
  {
   "cell_type": "code",
   "execution_count": 1,
   "id": "19921f36",
   "metadata": {},
   "outputs": [
    {
     "name": "stdout",
     "output_type": "stream",
     "text": [
      "350\n",
      "12\n",
      "255\n"
     ]
    }
   ],
   "source": [
    "def lcm(a,b):\n",
    "    if max(a,b)%min(a,b) == 0:\n",
    "        return(max(a,b))\n",
    "    else:\n",
    "        for i in range(max(a,b),(a*b)+1,max(a,b)):\n",
    "            if i%a == 0 and i%b == 0:\n",
    "                    return(i)\n",
    "                       \n",
    "    \n",
    "print(lcm(10,350)) \n",
    "print(lcm(4,6)) \n",
    "print(lcm(15,17)) "
   ]
  },
  {
   "cell_type": "markdown",
   "id": "03ff24bf",
   "metadata": {},
   "source": [
    "##### 2.\tWrite a Python Program to Find HCF?"
   ]
  },
  {
   "cell_type": "code",
   "execution_count": 2,
   "id": "12a96908",
   "metadata": {},
   "outputs": [
    {
     "name": "stdout",
     "output_type": "stream",
     "text": [
      "5\n"
     ]
    }
   ],
   "source": [
    "def hcf(x, y):\n",
    "    while(y):\n",
    "        x, y = y, x % y\n",
    "    return x\n",
    "\n",
    "print(hcf(5, 15))"
   ]
  },
  {
   "cell_type": "markdown",
   "id": "89985731",
   "metadata": {},
   "source": [
    "##### 3.\tWrite a Python Program to Convert Decimal to Binary, Octal and Hexadecimal?"
   ]
  },
  {
   "cell_type": "code",
   "execution_count": 3,
   "id": "965b0ff0",
   "metadata": {},
   "outputs": [
    {
     "name": "stdout",
     "output_type": "stream",
     "text": [
      "Enter any integer: 7\n",
      "The decimal value of 7 in binary is:0b111\n",
      "The decimal value of 7 in octal is:0o7\n",
      "The decimal value of 7 in hexadecimal is:0x7\n"
     ]
    }
   ],
   "source": [
    "x = int(input(\"Enter any integer: \"))\n",
    "\n",
    "print(\"The decimal value of\", x, \"in binary is:{0}\".format(bin(x)))\n",
    "print(\"The decimal value of\", x, \"in octal is:{0}\".format(oct(x)))\n",
    "print(\"The decimal value of\", x, \"in hexadecimal is:{0}\".format(hex(x)))"
   ]
  },
  {
   "cell_type": "markdown",
   "id": "51aa655b",
   "metadata": {},
   "source": [
    "##### 4.\tWrite a Python Program To Find ASCII value of a character?"
   ]
  },
  {
   "cell_type": "code",
   "execution_count": 4,
   "id": "4122f10f",
   "metadata": {},
   "outputs": [
    {
     "name": "stdout",
     "output_type": "stream",
     "text": [
      "Enter any character to find the corresponding ASCII value: r\n",
      "The ASCII value of 'r' is 114\n"
     ]
    }
   ],
   "source": [
    "ch = input(\"Enter any character to find the corresponding ASCII value: \")\n",
    "print(\"The ASCII value of '\" + ch + \"' is\", ord(ch))"
   ]
  },
  {
   "cell_type": "markdown",
   "id": "481525bc",
   "metadata": {},
   "source": [
    "##### 5.\tWrite a Python Program to Make a Simple Calculator with 4 basic mathematical operations?"
   ]
  },
  {
   "cell_type": "code",
   "execution_count": 5,
   "id": "1875b639",
   "metadata": {},
   "outputs": [
    {
     "name": "stdout",
     "output_type": "stream",
     "text": [
      "Enter the first number: 5\n",
      "Enter the Second number: 4\n",
      "{1: 'Addition', 2: 'Subtraction', 3: 'Multiplication', 4: 'Division'}\n",
      "Kindly enter the option you would like us to perform: 3\n",
      "20\n",
      "Thank You\n"
     ]
    }
   ],
   "source": [
    "def add(a,b):\n",
    "    return(a+b)\n",
    "def sub(a,b):\n",
    "    return(abs(a-b))\n",
    "def mul(a,b):\n",
    "    return(a*b)\n",
    "def div(a,b):\n",
    "    return(float(a/b))\n",
    "\n",
    "x=int(input(\"Enter the first number: \"))\n",
    "y=int(input(\"Enter the Second number: \"))\n",
    "dict_1 = {1:\"Addition\",2:\"Subtraction\",3:'Multiplication',4:\"Division\"}\n",
    "print(dict_1)\n",
    "z=int(input(\"Kindly enter the option you would like us to perform: \"))\n",
    "while z not in dict_1:\n",
    "    print(\"Invalid Option\")\n",
    "    print(dict_1)\n",
    "    z=int(input(\"Enter any value between 1 to 4: \"))\n",
    "if z == 1:\n",
    "    print(add(x,y))\n",
    "elif z == 2:\n",
    "    print(sub(x,y))\n",
    "elif z == 3:\n",
    "    print(mul(x,y))\n",
    "else:\n",
    "    print(div(x,y))\n",
    "print(\"Thank You\")"
   ]
  }
 ],
 "metadata": {
  "kernelspec": {
   "display_name": "Python 3",
   "language": "python",
   "name": "python3"
  },
  "language_info": {
   "codemirror_mode": {
    "name": "ipython",
    "version": 3
   },
   "file_extension": ".py",
   "mimetype": "text/x-python",
   "name": "python",
   "nbconvert_exporter": "python",
   "pygments_lexer": "ipython3",
   "version": "3.9.12"
  }
 },
 "nbformat": 4,
 "nbformat_minor": 5
}
